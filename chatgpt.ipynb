{
 "cells": [
  {
   "cell_type": "code",
   "execution_count": 1,
   "metadata": {},
   "outputs": [],
   "source": [
    "from IPython.display import display, Markdown\n",
    "from dotenv import load_dotenv as env\n",
    "from tqdm.auto import tqdm\n",
    "import pandas as pd\n",
    "import pickle\n",
    "import openai\n",
    "\n",
    "OUTPUT_PATH = './outputs/respuestas_gpt35_turbo.csv'\n",
    "\n",
    "# Usa 'ChatCompletion' que está deprecado en la v1.\n",
    "def get_completion(prompt: str, model=\"gpt-3.5-turbo\") -> str:\n",
    "    messages = [{\"role\": \"user\", \"content\": prompt}]\n",
    "    response = openai.ChatCompletion.create(\n",
    "        model=model,\n",
    "        messages=messages,\n",
    "        temperature=0, # this is the degree of randomness of the model's output\n",
    "    )\n",
    "    return response.choices[0].message[\"content\"]\n",
    "\n",
    "def get_completion(*args, **kwargs):\n",
    "    from random import choice\n",
    "    return choice(['No sabe / No contesta', 'No preguntada', 'No aplicable', 'No contesta', 'No sabe', 'SÃ\\xad', 'No'])"
   ]
  },
  {
   "cell_type": "code",
   "execution_count": 2,
   "metadata": {},
   "outputs": [],
   "source": [
    "openai.api_key = env['OPENAI_KEY']"
   ]
  },
  {
   "cell_type": "code",
   "execution_count": 3,
   "metadata": {},
   "outputs": [],
   "source": [
    "with open('./datasets/preguntas_seleccionadas.pickle', 'rb') as handle:\n",
    "    preguntas_seleccionadas: dict[str, str] = pickle.load(handle)\n",
    "\n",
    "with open('./datasets/respuestas.pickle', 'rb') as handle:\n",
    "    respuestas: dict[str, str] = pickle.load(handle)"
   ]
  },
  {
   "cell_type": "code",
   "execution_count": 4,
   "metadata": {},
   "outputs": [
    {
     "data": {
      "application/vnd.jupyter.widget-view+json": {
       "model_id": "1083810b7f114fc29515a62930b68780",
       "version_major": 2,
       "version_minor": 0
      },
      "text/plain": [
       "  0%|          | 0/80 [00:00<?, ?it/s]"
      ]
     },
     "metadata": {},
     "output_type": "display_data"
    }
   ],
   "source": [
    "respuestasGPT = {}\n",
    "\n",
    "preguntas = list(preguntas_seleccionadas.keys())\n",
    "\n",
    "OPINION_STR = '. Si no tiene opinión responda \"No responde\"'\n",
    "MULTIPLE_CHOICE_STR = '  Responda alguna de las siguientes opciones, si no tiene opinión responda \"No responde\": \\n'\n",
    "\n",
    "for pregunta in tqdm(preguntas):\n",
    "    options = OPINION_STR if respuestas[pregunta][1] == 1 \\\n",
    "                else MULTIPLE_CHOICE_STR + ' \\n'.join(respuestas[pregunta].values())\n",
    "\n",
    "    response = get_completion(preguntas_seleccionadas[pregunta]+options)\n",
    "    response = response.replace('.','').strip()\n",
    "\n",
    "    inv_map = {v: k for k, v in respuestas[pregunta].items()}\n",
    "    \n",
    "    respuestasGPT[pregunta] = inv_map[response] if response in inv_map.keys() else -2\n",
    "\n",
    "    preguntas = preguntas[len(respuestasGPT):]"
   ]
  },
  {
   "cell_type": "code",
   "execution_count": 5,
   "metadata": {},
   "outputs": [
    {
     "data": {
      "text/html": [
        "<div>\n",
        "<style scoped>\n",
        "    .dataframe tbody tr th:only-of-type {\n",
        "        vertical-align: middle;\n",
        "    }\n",
        "\n",
        "    .dataframe tbody tr th {\n",
        "        vertical-align: top;\n",
        "    }\n",
        "\n",
        "    .dataframe thead th {\n",
        "        text-align: right;\n",
        "    }\n",
        "</style>\n",
        "<table border=\"1\" class=\"dataframe\">\n",
        "  <thead>\n",
        "    <tr style=\"text-align: right;\">\n",
        "      <th></th>\n",
        "      <th>Pregunta</th>\n",
        "      <th>Respuesta</th>\n",
        "    </tr>\n",
        "  </thead>\n",
        "  <tbody>\n",
        "    <tr>\n",
        "      <th>0</th>\n",
        "      <td>P11S0037</td>\n",
        "      <td>-2</td>\n",
        "    </tr>\n",
        "    <tr>\n",
        "      <th>1</th>\n",
        "      <td>P11S0038</td>\n",
        "      <td>-2</td>\n",
        "    </tr>\n",
        "    <tr>\n",
        "      <th>2</th>\n",
        "      <td>P2ST</td>\n",
        "      <td>-2</td>\n",
        "    </tr>\n",
        "    <tr>\n",
        "      <th>3</th>\n",
        "      <td>P12ST</td>\n",
        "      <td>-2</td>\n",
        "    </tr>\n",
        "    <tr>\n",
        "      <th>4</th>\n",
        "      <td>P4STGBS</td>\n",
        "      <td>-2</td>\n",
        "    </tr>\n",
        "  </tbody>\n",
        "</table>\n",
        "</div>"
      ],
      "text/plain": [
        "   Pregunta  Respuesta\n",
        "0  P11S0037         -2\n",
        "1  P11S0038         -2\n",
        "2      P2ST         -2\n",
        "3     P12ST         -2\n",
        "4   P4STGBS         -2"
      ]
     },
     "metadata": {},
     "output_type": "display_data"
    },
    {
     "data": {
      "text/markdown": [
       "**Conteo por respuesta:**"
      ],
      "text/plain": [
       "<IPython.core.display.Markdown object>"
      ]
     },
     "metadata": {},
     "output_type": "display_data"
    },
    {
     "name": "stdout",
     "output_type": "stream",
     "text": [
      "Respuesta\n",
       "-2    49\n",
       " 2    15\n",
       " 1     6\n",
       " 3     4\n",
       "-1     3\n",
       " 5     1\n",
       "Name: count, dtype: int64"
     ]
    }
   ],
   "source": [
    "df_GPT_3 = pd.DataFrame.from_dict(respuestasGPT, orient='index').reset_index()\n",
    "df_GPT_3.columns = ['Pregunta', 'Respuesta']\n",
    "\n",
    "display(df_GPT_3.head())\n",
    "display(Markdown('**Conteo por respuesta:**'))\n",
    "print(df_GPT_3['Respuesta'].value_counts())"
   ]
  },
  {
   "cell_type": "code",
   "execution_count": 6,
   "metadata": {},
   "outputs": [],
   "source": [
    "df_GPT_3.to_csv(OUTPUT_PATH)"
   ]
  }
 ],
 "metadata": {
  "kernelspec": {
   "display_name": "Python 3",
   "language": "python",
   "name": "python3"
  },
  "language_info": {
   "codemirror_mode": {
    "name": "ipython",
    "version": 3
   },
   "file_extension": ".py",
   "mimetype": "text/x-python",
   "name": "python",
   "nbconvert_exporter": "python",
   "pygments_lexer": "ipython3",
   "version": "3.10.12"
  }
 },
 "nbformat": 4,
 "nbformat_minor": 2
}
