{
 "cells": [
  {
   "cell_type": "code",
   "execution_count": 2,
   "id": "26a39675-80a3-45e7-8283-28a5bfa017b8",
   "metadata": {},
   "outputs": [
    {
     "name": "stderr",
     "output_type": "stream",
     "text": [
      "<frozen importlib._bootstrap>:219: RuntimeWarning: scipy._lib.messagestream.MessageStream size changed, may indicate binary incompatibility. Expected 56 from C header, got 64 from PyObject\n"
     ]
    }
   ],
   "source": [
    "import pandas as pd\n",
    "from matplotlib import pyplot as plt\n",
    "#!pip install pivottablejs\n",
    "import seaborn as sns"
   ]
  },
  {
   "cell_type": "code",
   "execution_count": 3,
   "id": "34b42ae2-8262-4e26-ba37-b02677db81fa",
   "metadata": {},
   "outputs": [],
   "source": [
    "latin = pd.read_stata('dataset/Latinobarometro_2020_Esp_Stata_v1_0.dta',convert_categoricals=False)\n",
    "gpt = pd.read_csv('respuestas_gpt35_turbo.csv')\n",
    "cohere = pd.read_csv('respuestas_cohere.csv')\n",
    "bard = pd.read_csv('respuestas_bard.csv')"
   ]
  },
  {
   "cell_type": "code",
   "execution_count": 4,
   "id": "19f6ce40-96a1-4b49-a8c8-933fa6d71fcf",
   "metadata": {},
   "outputs": [],
   "source": [
    "# Crea un StataReader para leer los metadatos\n",
    "reader = pd.io.stata.StataReader('dataset/Latinobarometro_2020_Esp_Stata_v1_0.dta')"
   ]
  },
  {
   "cell_type": "code",
   "execution_count": 4,
   "id": "10a0ee90-64b5-4c21-a5b5-58e9e480935a",
   "metadata": {},
   "outputs": [],
   "source": [
    "import pickle\n",
    "with open(r\"respuestas.pickle\", \"rb\") as input_file:\n",
    "    respuestas = pickle.load(input_file)\n",
    "with open(r\"preguntas_seleccionadas.pickle\", \"rb\") as input_file:\n",
    "    preguntas_seleccionadas = pickle.load(input_file)"
   ]
  },
  {
   "cell_type": "code",
   "execution_count": 5,
   "id": "1d75d41d-6cf2-4021-ac3a-77a12e979cff",
   "metadata": {},
   "outputs": [],
   "source": [
    "preguntas_sin_orden = ['P33N','P34N']"
   ]
  },
  {
   "cell_type": "code",
   "execution_count": 6,
   "id": "cf1f3afc-d335-4da3-a3c2-91f9e91a5b92",
   "metadata": {},
   "outputs": [
    {
     "data": {
      "text/plain": [
       "(73.0, 58, 1.2586206896551724)"
      ]
     },
     "execution_count": 6,
     "metadata": {},
     "output_type": "execute_result"
    }
   ],
   "source": [
    "import math\n",
    "def calculate_distance(responde,llm):    \n",
    "    result = 0\n",
    "    num_pregs = 0\n",
    "    for pregunta in list(preguntas_seleccionadas.keys()):\n",
    "        if((pregunta.lower() in responde.keys()) and (not math.isnan(responde[pregunta.lower()])) and (pregunta in list(llm['Pregunta'])) \n",
    "           and(llm[llm['Pregunta']== pregunta]['Respuesta'].values[0] > 0)and (not pregunta in preguntas_sin_orden )):\n",
    "            \n",
    "            result = result + (abs(responde[pregunta.lower()]-llm[llm['Pregunta']== pregunta]['Respuesta'].values[0]))\n",
    "            num_pregs = num_pregs + 1\n",
    "    if(num_pregs == 0):\n",
    "        result = -1\n",
    "        norm_result = -1\n",
    "    else:\n",
    "        norm_result = result/num_pregs\n",
    "    \n",
    "    return(result, num_pregs, norm_result)\n",
    "calculate_distance(latin.loc[0],bard)"
   ]
  },
  {
   "cell_type": "code",
   "execution_count": 7,
   "id": "14967718-3437-4369-b625-d046d8f5e6ab",
   "metadata": {},
   "outputs": [],
   "source": [
    "latin = latin[latin['idenpa']==32] #solo los argentinos"
   ]
  },
  {
   "cell_type": "code",
   "execution_count": 8,
   "id": "edc91ecf-c0fb-46d6-8750-3b929001d430",
   "metadata": {},
   "outputs": [
    {
     "data": {
      "text/plain": [
       "(1200, 408)"
      ]
     },
     "execution_count": 8,
     "metadata": {},
     "output_type": "execute_result"
    }
   ],
   "source": [
    "latin.shape"
   ]
  },
  {
   "cell_type": "code",
   "execution_count": 9,
   "id": "5c15e525-6005-4339-98e1-7bbe274aa740",
   "metadata": {},
   "outputs": [],
   "source": [
    "latin['bard_results'] = latin.apply(lambda x: calculate_distance(x, bard), axis=1)\n",
    "latin[['bard_distance', 'bard_num_preg','bard_distance_norm']] = pd.DataFrame(latin['bard_results'].tolist(), index=latin.index)"
   ]
  },
  {
   "cell_type": "code",
   "execution_count": 10,
   "id": "07e7ff94-3d93-4822-af3f-af4617c8694b",
   "metadata": {},
   "outputs": [
    {
     "data": {
      "text/plain": [
       "bard_num_preg\n",
       "58    1200\n",
       "Name: count, dtype: int64"
      ]
     },
     "execution_count": 10,
     "metadata": {},
     "output_type": "execute_result"
    }
   ],
   "source": [
    "latin['bard_num_preg'].value_counts()"
   ]
  },
  {
   "cell_type": "code",
   "execution_count": 11,
   "id": "b399f0f3-4e41-45ae-8c8e-5912fc4a141d",
   "metadata": {},
   "outputs": [],
   "source": [
    "latin['gpt_results'] = latin.apply(lambda x: calculate_distance(x, gpt), axis=1)\n",
    "latin[['gpt_distance', 'gpt_num_preg','gpt_distance_norm']] = pd.DataFrame(latin['gpt_results'].tolist(), index=latin.index)"
   ]
  },
  {
   "cell_type": "code",
   "execution_count": 12,
   "id": "9a2052f9-29aa-4d8d-b98e-e1cce29753d4",
   "metadata": {},
   "outputs": [
    {
     "data": {
      "text/plain": [
       "gpt_num_preg\n",
       "24    1200\n",
       "Name: count, dtype: int64"
      ]
     },
     "execution_count": 12,
     "metadata": {},
     "output_type": "execute_result"
    }
   ],
   "source": [
    "latin['gpt_num_preg'].value_counts()"
   ]
  },
  {
   "cell_type": "code",
   "execution_count": 14,
   "id": "3eacbf62-cc29-4b3a-8bcf-34c26f24818e",
   "metadata": {},
   "outputs": [
    {
     "name": "stderr",
     "output_type": "stream",
     "text": [
      "C:\\Users\\PC-Usuario\\AppData\\Local\\Temp\\ipykernel_20376\\3716045635.py:1: SettingWithCopyWarning: \n",
      "A value is trying to be set on a copy of a slice from a DataFrame.\n",
      "Try using .loc[row_indexer,col_indexer] = value instead\n",
      "\n",
      "See the caveats in the documentation: https://pandas.pydata.org/pandas-docs/stable/user_guide/indexing.html#returning-a-view-versus-a-copy\n",
      "  latin['cohere_results'] = latin.apply(lambda x: calculate_distance(x, cohere), axis=1)\n",
      "C:\\Users\\PC-Usuario\\AppData\\Local\\Temp\\ipykernel_20376\\3716045635.py:2: SettingWithCopyWarning: \n",
      "A value is trying to be set on a copy of a slice from a DataFrame.\n",
      "Try using .loc[row_indexer,col_indexer] = value instead\n",
      "\n",
      "See the caveats in the documentation: https://pandas.pydata.org/pandas-docs/stable/user_guide/indexing.html#returning-a-view-versus-a-copy\n",
      "  latin[['cohere_distance', 'cohere_num_preg','cohere_distance_norm']] = pd.DataFrame(latin['cohere_results'].tolist(), index=latin.index)\n",
      "C:\\Users\\PC-Usuario\\AppData\\Local\\Temp\\ipykernel_20376\\3716045635.py:2: SettingWithCopyWarning: \n",
      "A value is trying to be set on a copy of a slice from a DataFrame.\n",
      "Try using .loc[row_indexer,col_indexer] = value instead\n",
      "\n",
      "See the caveats in the documentation: https://pandas.pydata.org/pandas-docs/stable/user_guide/indexing.html#returning-a-view-versus-a-copy\n",
      "  latin[['cohere_distance', 'cohere_num_preg','cohere_distance_norm']] = pd.DataFrame(latin['cohere_results'].tolist(), index=latin.index)\n",
      "C:\\Users\\PC-Usuario\\AppData\\Local\\Temp\\ipykernel_20376\\3716045635.py:2: SettingWithCopyWarning: \n",
      "A value is trying to be set on a copy of a slice from a DataFrame.\n",
      "Try using .loc[row_indexer,col_indexer] = value instead\n",
      "\n",
      "See the caveats in the documentation: https://pandas.pydata.org/pandas-docs/stable/user_guide/indexing.html#returning-a-view-versus-a-copy\n",
      "  latin[['cohere_distance', 'cohere_num_preg','cohere_distance_norm']] = pd.DataFrame(latin['cohere_results'].tolist(), index=latin.index)\n"
     ]
    }
   ],
   "source": [
    "latin['cohere_results'] = latin.apply(lambda x: calculate_distance(x, cohere), axis=1)\n",
    "latin[['cohere_distance', 'cohere_num_preg','cohere_distance_norm']] = pd.DataFrame(latin['cohere_results'].tolist(), index=latin.index)"
   ]
  },
  {
   "cell_type": "code",
   "execution_count": 15,
   "id": "fb641702-8b5f-4a41-9bc9-a435652f6e1f",
   "metadata": {},
   "outputs": [],
   "source": [
    "latin.to_csv('latin_distances.csv')"
   ]
  },
  {
   "cell_type": "code",
   "execution_count": 16,
   "id": "7165e605-c8cd-4f6e-9edf-c0659c8a1978",
   "metadata": {},
   "outputs": [],
   "source": [
    "# Crea un StataReader para leer los metadatos\n",
    "reader = pd.io.stata.StataReader('dataset/Latinobarometro_2020_Esp_Stata_v1_0.dta')"
   ]
  },
  {
   "cell_type": "code",
   "execution_count": 25,
   "id": "f1d37a76-60ce-420a-8bbf-ce48e2ad576e",
   "metadata": {},
   "outputs": [
    {
     "data": {
      "text/plain": [
       "Index(['numinves', 'idenpa', 'numentre', 'reg', 'ciudad', 'tamciud', 'comdist',\n",
       "       'edad', 'sexo', 'codigo', 'diareal', 'mesreal', 'ini', 'fin', 'dura',\n",
       "       'totrevi', 'totcuot', 'totrech', 'totperd', 'numcasa', 'codsuper',\n",
       "       'supervvi', 'superven', 'codif', 'digit', 'p1st', 'p2st', 'p3stgbs',\n",
       "       'p4stgbs', 'p5stgbs', 'p6st', 'p7stgbs', 'p8st_a', 'p8st_b', 'p8st_c',\n",
       "       'p9stgbs', 'p10stgbs', 'P11STGBS_A', 'P11STGBS_B', 'p12st'],\n",
       "      dtype='object')"
      ]
     },
     "execution_count": 25,
     "metadata": {},
     "output_type": "execute_result"
    }
   ],
   "source": [
    "latin.columns[0:40]"
   ]
  },
  {
   "cell_type": "code",
   "execution_count": null,
   "id": "87c1dadc-a87b-4b4d-a319-799b8e449211",
   "metadata": {},
   "outputs": [],
   "source": [
    "['edad','sexo','P18ST','S19M','S9NPN','S24_A','S30','S16','S13','s17']"
   ]
  },
  {
   "cell_type": "code",
   "execution_count": 13,
   "id": "c217754a-9653-4d36-a801-132eac053848",
   "metadata": {},
   "outputs": [],
   "source": [
    "latin_ideo = latin[(latin['P18ST'.lower()]>=0) & (latin['P18ST'.lower()]<=10)]"
   ]
  },
  {
   "cell_type": "code",
   "execution_count": 14,
   "id": "85d369bd-e567-4894-ab29-3531e4506aaa",
   "metadata": {},
   "outputs": [
    {
     "data": {
      "text/plain": [
       "(786, 416)"
      ]
     },
     "execution_count": 14,
     "metadata": {},
     "output_type": "execute_result"
    }
   ],
   "source": [
    "latin_ideo.shape"
   ]
  },
  {
   "cell_type": "code",
   "execution_count": 72,
   "id": "6df69d11-68d5-4ef1-8173-7019ad52e09a",
   "metadata": {},
   "outputs": [
    {
     "data": {
      "text/plain": [
       "s17\n",
       "13    195\n",
       "8     181\n",
       "15    150\n",
       "1      34\n",
       "0      34\n",
       "12     27\n",
       "6      24\n",
       "17     23\n",
       "14     22\n",
       "11     21\n",
       "7      20\n",
       "4      17\n",
       "5      16\n",
       "16      8\n",
       "3       6\n",
       "10      6\n",
       "2       2\n",
       "Name: count, dtype: int64"
      ]
     },
     "execution_count": 72,
     "metadata": {},
     "output_type": "execute_result"
    }
   ],
   "source": [
    "latin_ideo['s17'.lower()].value_counts()"
   ]
  },
  {
   "cell_type": "code",
   "execution_count": 68,
   "id": "a6fb7024-3043-4e0c-8c5f-5b87022e8afa",
   "metadata": {},
   "outputs": [
    {
     "name": "stderr",
     "output_type": "stream",
     "text": [
      "C:\\Users\\PC-Usuario\\AppData\\Local\\Temp\\ipykernel_20376\\2501243760.py:11: SettingWithCopyWarning: \n",
      "A value is trying to be set on a copy of a slice from a DataFrame.\n",
      "Try using .loc[row_indexer,col_indexer] = value instead\n",
      "\n",
      "See the caveats in the documentation: https://pandas.pydata.org/pandas-docs/stable/user_guide/indexing.html#returning-a-view-versus-a-copy\n",
      "  latin_ideo['s16_norm'] = latin_ideo['s16'].apply(lambda x: convert(x)) #terciario menos que universitario\n"
     ]
    }
   ],
   "source": [
    "def convert(x):\n",
    "    if(x == 14):\n",
    "        return 16\n",
    "    if(x== 15):\n",
    "        return 17\n",
    "    if(x == 16):\n",
    "        return 14\n",
    "    if(x==17):\n",
    "        return 15\n",
    "    return x\n",
    "latin_ideo['s16_norm'] = latin_ideo['s16'].apply(lambda x: convert(x)) #terciario menos que universitario"
   ]
  },
  {
   "cell_type": "code",
   "execution_count": 73,
   "id": "e35da14b-1fd8-4c77-8d12-79d601e045fc",
   "metadata": {},
   "outputs": [
    {
     "name": "stderr",
     "output_type": "stream",
     "text": [
      "C:\\Users\\PC-Usuario\\AppData\\Local\\Temp\\ipykernel_20376\\187902359.py:1: SettingWithCopyWarning: \n",
      "A value is trying to be set on a copy of a slice from a DataFrame.\n",
      "Try using .loc[row_indexer,col_indexer] = value instead\n",
      "\n",
      "See the caveats in the documentation: https://pandas.pydata.org/pandas-docs/stable/user_guide/indexing.html#returning-a-view-versus-a-copy\n",
      "  latin_ideo['s17_norm'] = latin_ideo['s17'].apply(lambda x: convert(x)) #terciario menos que universitario\n"
     ]
    }
   ],
   "source": [
    "latin_ideo['s17_norm'] = latin_ideo['s17'].apply(lambda x: convert(x)) #terciario menos que universitario"
   ]
  },
  {
   "cell_type": "code",
   "execution_count": 74,
   "id": "ea4bea9c-cabb-40cc-ad6c-95c4c8c84515",
   "metadata": {},
   "outputs": [],
   "source": [
    "latin_ideo.to_csv('latin_ideo.csv')"
   ]
  },
  {
   "cell_type": "code",
   "execution_count": 7,
   "id": "7d067e33-1e7a-4d86-acb1-e6bcf5dfcf04",
   "metadata": {},
   "outputs": [
    {
     "data": {
      "text/plain": [
       "{-5: 'No sabe / No contesta',\n",
       " -4: 'No preguntada',\n",
       " -3: 'No aplicable',\n",
       " -2: 'No contesta',\n",
       " -1: 'No sabe',\n",
       " 0: 'Sin dato',\n",
       " 1: 'Sin estudios',\n",
       " 2: '1 aÃ±o',\n",
       " 3: '2 aÃ±os',\n",
       " 4: '3 aÃ±os',\n",
       " 5: '4 aÃ±os',\n",
       " 6: '5 aÃ±os',\n",
       " 7: '6 aÃ±os',\n",
       " 8: '7 aÃ±os',\n",
       " 9: '8 aÃ±os',\n",
       " 10: '9 aÃ±os',\n",
       " 11: '10 aÃ±os',\n",
       " 12: '11 aÃ±os',\n",
       " 13: '12 aÃ±os',\n",
       " 14: 'Universitario incompleto',\n",
       " 15: 'Universitario completo',\n",
       " 16: 'Instituto superior/academias/FormaciÃ³n tÃ©cnica incompleta',\n",
       " 17: 'Instituto superior/academias/FormaciÃ³n tÃ©cnica completa'}"
      ]
     },
     "execution_count": 7,
     "metadata": {},
     "output_type": "execute_result"
    }
   ],
   "source": [
    "reader.value_labels()['s17'.upper()]"
   ]
  },
  {
   "cell_type": "code",
   "execution_count": 8,
   "id": "fccbda0a-0856-42c4-98fa-0a459726b5c9",
   "metadata": {},
   "outputs": [
    {
     "data": {
      "text/plain": [
       "'En política se habla normalmente de \"izquierda\" y \"derecha\". En una escala dónde “00\" es la “izquierda” y “10\" la “derecha”, ¿Dónde se ubicaría Ud.?'"
      ]
     },
     "execution_count": 8,
     "metadata": {},
     "output_type": "execute_result"
    }
   ],
   "source": [
    "preguntas_seleccionadas['p18st'.upper()]"
   ]
  },
  {
   "cell_type": "code",
   "execution_count": 10,
   "id": "33001354-6541-4f78-ae37-02b7f37d2b72",
   "metadata": {},
   "outputs": [
    {
     "data": {
      "text/plain": [
       "2    10537\n",
       "1     9667\n",
       "Name: sexo, dtype: int64"
      ]
     },
     "execution_count": 10,
     "metadata": {},
     "output_type": "execute_result"
    }
   ],
   "source": [
    "latin['sexo'].value_counts()"
   ]
  }
 ],
 "metadata": {
  "kernelspec": {
   "display_name": "Python 3 (ipykernel)",
   "language": "python",
   "name": "python3"
  },
  "language_info": {
   "codemirror_mode": {
    "name": "ipython",
    "version": 3
   },
   "file_extension": ".py",
   "mimetype": "text/x-python",
   "name": "python",
   "nbconvert_exporter": "python",
   "pygments_lexer": "ipython3",
   "version": "3.8.15"
  }
 },
 "nbformat": 4,
 "nbformat_minor": 5
}
