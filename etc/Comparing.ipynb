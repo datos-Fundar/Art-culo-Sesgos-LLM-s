{
 "cells": [
  {
   "cell_type": "code",
   "execution_count": 1,
   "id": "ddee147b-6827-4c23-b52e-9516a2b752d6",
   "metadata": {},
   "outputs": [],
   "source": [
    "import pandas as pd"
   ]
  },
  {
   "cell_type": "code",
   "execution_count": 2,
   "id": "5b4cfd59-a063-49e6-991b-2bf83ae54c79",
   "metadata": {},
   "outputs": [],
   "source": [
    "lpop = pd.read_stata('ARG_2021_LAPOP_AmericasBarometer_v1.2_w.dta',convert_categoricals=False)\n",
    "gpt = pd.read_csv('respuestas_gpt35_turbo')\n",
    "cohere = pd.read_csv('respuestas_cohere.csv')\n",
    "bard = pd.read_csv('respuestas_bard.csv')"
   ]
  },
  {
   "cell_type": "code",
   "execution_count": 3,
   "id": "e9d24e9d-ab31-4259-9184-b78754767175",
   "metadata": {},
   "outputs": [],
   "source": [
    "import pickle\n",
    "with open(r\"respuestas.pickle\", \"rb\") as input_file:\n",
    "    respuestas = pickle.load(input_file)\n",
    "with open(r\"preguntas_seleccionadas.pickle\", \"rb\") as input_file:\n",
    "    preguntas_seleccionadas = pickle.load(input_file)"
   ]
  },
  {
   "cell_type": "code",
   "execution_count": 4,
   "id": "411170e1-6a69-40cb-8aac-161817b5cefc",
   "metadata": {},
   "outputs": [
    {
     "data": {
      "text/html": [
       "<div>\n",
       "<style scoped>\n",
       "    .dataframe tbody tr th:only-of-type {\n",
       "        vertical-align: middle;\n",
       "    }\n",
       "\n",
       "    .dataframe tbody tr th {\n",
       "        vertical-align: top;\n",
       "    }\n",
       "\n",
       "    .dataframe thead th {\n",
       "        text-align: right;\n",
       "    }\n",
       "</style>\n",
       "<table border=\"1\" class=\"dataframe\">\n",
       "  <thead>\n",
       "    <tr style=\"text-align: right;\">\n",
       "      <th></th>\n",
       "      <th>idnum</th>\n",
       "      <th>uniq_id</th>\n",
       "      <th>pais</th>\n",
       "      <th>year</th>\n",
       "      <th>wave</th>\n",
       "      <th>nationality</th>\n",
       "      <th>estratopri</th>\n",
       "      <th>strata</th>\n",
       "      <th>upm</th>\n",
       "      <th>prov1t</th>\n",
       "      <th>...</th>\n",
       "      <th>psc13n_12</th>\n",
       "      <th>psc13n_13</th>\n",
       "      <th>psc13n_77</th>\n",
       "      <th>conocim</th>\n",
       "      <th>municipio1t</th>\n",
       "      <th>idiomaq</th>\n",
       "      <th>formatq</th>\n",
       "      <th>sexi</th>\n",
       "      <th>srvyrid</th>\n",
       "      <th>fecha</th>\n",
       "    </tr>\n",
       "  </thead>\n",
       "  <tbody>\n",
       "    <tr>\n",
       "      <th>0</th>\n",
       "      <td>236570.0</td>\n",
       "      <td>2.117024e+10</td>\n",
       "      <td>17</td>\n",
       "      <td>2021</td>\n",
       "      <td>2021</td>\n",
       "      <td>17</td>\n",
       "      <td>1702.0</td>\n",
       "      <td>1700002021</td>\n",
       "      <td>171360621</td>\n",
       "      <td>1700021.0</td>\n",
       "      <td>...</td>\n",
       "      <td>NaN</td>\n",
       "      <td>NaN</td>\n",
       "      <td>NaN</td>\n",
       "      <td>4</td>\n",
       "      <td>1721077.0</td>\n",
       "      <td>1</td>\n",
       "      <td>6</td>\n",
       "      <td>2</td>\n",
       "      <td>NaN</td>\n",
       "      <td>NaT</td>\n",
       "    </tr>\n",
       "    <tr>\n",
       "      <th>1</th>\n",
       "      <td>92267.0</td>\n",
       "      <td>2.117009e+10</td>\n",
       "      <td>17</td>\n",
       "      <td>2021</td>\n",
       "      <td>2021</td>\n",
       "      <td>17</td>\n",
       "      <td>1703.0</td>\n",
       "      <td>1700002021</td>\n",
       "      <td>172300721</td>\n",
       "      <td>1700004.0</td>\n",
       "      <td>...</td>\n",
       "      <td>0.0</td>\n",
       "      <td>0.0</td>\n",
       "      <td>0.0</td>\n",
       "      <td>2</td>\n",
       "      <td>1704016.0</td>\n",
       "      <td>1</td>\n",
       "      <td>6</td>\n",
       "      <td>1</td>\n",
       "      <td>NaN</td>\n",
       "      <td>NaT</td>\n",
       "    </tr>\n",
       "    <tr>\n",
       "      <th>2</th>\n",
       "      <td>42281.0</td>\n",
       "      <td>2.117004e+10</td>\n",
       "      <td>17</td>\n",
       "      <td>2021</td>\n",
       "      <td>2021</td>\n",
       "      <td>17</td>\n",
       "      <td>1708.0</td>\n",
       "      <td>1700002021</td>\n",
       "      <td>171108421</td>\n",
       "      <td>1700001.0</td>\n",
       "      <td>...</td>\n",
       "      <td>NaN</td>\n",
       "      <td>NaN</td>\n",
       "      <td>NaN</td>\n",
       "      <td>3</td>\n",
       "      <td>1701077.0</td>\n",
       "      <td>1</td>\n",
       "      <td>6</td>\n",
       "      <td>2</td>\n",
       "      <td>NaN</td>\n",
       "      <td>NaT</td>\n",
       "    </tr>\n",
       "    <tr>\n",
       "      <th>3</th>\n",
       "      <td>290458.0</td>\n",
       "      <td>2.117029e+10</td>\n",
       "      <td>17</td>\n",
       "      <td>2021</td>\n",
       "      <td>2021</td>\n",
       "      <td>17</td>\n",
       "      <td>1708.0</td>\n",
       "      <td>1700002021</td>\n",
       "      <td>171352721</td>\n",
       "      <td>1700001.0</td>\n",
       "      <td>...</td>\n",
       "      <td>0.0</td>\n",
       "      <td>0.0</td>\n",
       "      <td>0.0</td>\n",
       "      <td>3</td>\n",
       "      <td>1701077.0</td>\n",
       "      <td>1</td>\n",
       "      <td>6</td>\n",
       "      <td>2</td>\n",
       "      <td>NaN</td>\n",
       "      <td>NaT</td>\n",
       "    </tr>\n",
       "    <tr>\n",
       "      <th>4</th>\n",
       "      <td>398718.0</td>\n",
       "      <td>2.117040e+10</td>\n",
       "      <td>17</td>\n",
       "      <td>2021</td>\n",
       "      <td>2021</td>\n",
       "      <td>17</td>\n",
       "      <td>1704.0</td>\n",
       "      <td>1700002021</td>\n",
       "      <td>172358321</td>\n",
       "      <td>1700017.0</td>\n",
       "      <td>...</td>\n",
       "      <td>0.0</td>\n",
       "      <td>0.0</td>\n",
       "      <td>0.0</td>\n",
       "      <td>4</td>\n",
       "      <td>1717077.0</td>\n",
       "      <td>1</td>\n",
       "      <td>6</td>\n",
       "      <td>2</td>\n",
       "      <td>NaN</td>\n",
       "      <td>NaT</td>\n",
       "    </tr>\n",
       "  </tbody>\n",
       "</table>\n",
       "<p>5 rows × 248 columns</p>\n",
       "</div>"
      ],
      "text/plain": [
       "      idnum       uniq_id  pais  year  wave  nationality  estratopri   \n",
       "0  236570.0  2.117024e+10    17  2021  2021           17      1702.0  \\\n",
       "1   92267.0  2.117009e+10    17  2021  2021           17      1703.0   \n",
       "2   42281.0  2.117004e+10    17  2021  2021           17      1708.0   \n",
       "3  290458.0  2.117029e+10    17  2021  2021           17      1708.0   \n",
       "4  398718.0  2.117040e+10    17  2021  2021           17      1704.0   \n",
       "\n",
       "       strata        upm     prov1t  ...  psc13n_12  psc13n_13  psc13n_77   \n",
       "0  1700002021  171360621  1700021.0  ...        NaN        NaN        NaN  \\\n",
       "1  1700002021  172300721  1700004.0  ...        0.0        0.0        0.0   \n",
       "2  1700002021  171108421  1700001.0  ...        NaN        NaN        NaN   \n",
       "3  1700002021  171352721  1700001.0  ...        0.0        0.0        0.0   \n",
       "4  1700002021  172358321  1700017.0  ...        0.0        0.0        0.0   \n",
       "\n",
       "   conocim  municipio1t idiomaq  formatq  sexi  srvyrid  fecha  \n",
       "0        4    1721077.0       1        6     2      NaN    NaT  \n",
       "1        2    1704016.0       1        6     1      NaN    NaT  \n",
       "2        3    1701077.0       1        6     2      NaN    NaT  \n",
       "3        3    1701077.0       1        6     2      NaN    NaT  \n",
       "4        4    1717077.0       1        6     2      NaN    NaT  \n",
       "\n",
       "[5 rows x 248 columns]"
      ]
     },
     "execution_count": 4,
     "metadata": {},
     "output_type": "execute_result"
    }
   ],
   "source": [
    "lpop.head()"
   ]
  },
  {
   "cell_type": "code",
   "execution_count": 5,
   "id": "ccbb2e1f-99f1-4364-95e7-db0bd0db9490",
   "metadata": {},
   "outputs": [
    {
     "data": {
      "text/plain": [
       "(47, 3)"
      ]
     },
     "execution_count": 5,
     "metadata": {},
     "output_type": "execute_result"
    }
   ],
   "source": [
    "gpt.shape"
   ]
  },
  {
   "cell_type": "code",
   "execution_count": 6,
   "id": "643c63e2-7edc-4cec-a842-8b1e958d6a5d",
   "metadata": {},
   "outputs": [
    {
     "data": {
      "text/html": [
       "<div>\n",
       "<style scoped>\n",
       "    .dataframe tbody tr th:only-of-type {\n",
       "        vertical-align: middle;\n",
       "    }\n",
       "\n",
       "    .dataframe tbody tr th {\n",
       "        vertical-align: top;\n",
       "    }\n",
       "\n",
       "    .dataframe thead th {\n",
       "        text-align: right;\n",
       "    }\n",
       "</style>\n",
       "<table border=\"1\" class=\"dataframe\">\n",
       "  <thead>\n",
       "    <tr style=\"text-align: right;\">\n",
       "      <th></th>\n",
       "      <th>Pregunta</th>\n",
       "      <th>Respuesta</th>\n",
       "    </tr>\n",
       "  </thead>\n",
       "  <tbody>\n",
       "    <tr>\n",
       "      <th>0</th>\n",
       "      <td>A4</td>\n",
       "      <td>2</td>\n",
       "    </tr>\n",
       "    <tr>\n",
       "      <th>1</th>\n",
       "      <td>JC13</td>\n",
       "      <td>2</td>\n",
       "    </tr>\n",
       "    <tr>\n",
       "      <th>2</th>\n",
       "      <td>JC13COVID</td>\n",
       "      <td>2</td>\n",
       "    </tr>\n",
       "    <tr>\n",
       "      <th>3</th>\n",
       "      <td>JC15A</td>\n",
       "      <td>2</td>\n",
       "    </tr>\n",
       "    <tr>\n",
       "      <th>4</th>\n",
       "      <td>JCCOV1</td>\n",
       "      <td>2</td>\n",
       "    </tr>\n",
       "    <tr>\n",
       "      <th>5</th>\n",
       "      <td>JCCOV2</td>\n",
       "      <td>2</td>\n",
       "    </tr>\n",
       "    <tr>\n",
       "      <th>6</th>\n",
       "      <td>COUNTFAIR1</td>\n",
       "      <td>2</td>\n",
       "    </tr>\n",
       "    <tr>\n",
       "      <th>7</th>\n",
       "      <td>COUNTFAIR2</td>\n",
       "      <td>2</td>\n",
       "    </tr>\n",
       "    <tr>\n",
       "      <th>8</th>\n",
       "      <td>COUNTFAIR3</td>\n",
       "      <td>3</td>\n",
       "    </tr>\n",
       "    <tr>\n",
       "      <th>9</th>\n",
       "      <td>COUNTFAIR4</td>\n",
       "      <td>2</td>\n",
       "    </tr>\n",
       "    <tr>\n",
       "      <th>10</th>\n",
       "      <td>WVSI2</td>\n",
       "      <td>988888</td>\n",
       "    </tr>\n",
       "    <tr>\n",
       "      <th>11</th>\n",
       "      <td>WVSI3</td>\n",
       "      <td>988888</td>\n",
       "    </tr>\n",
       "    <tr>\n",
       "      <th>12</th>\n",
       "      <td>CHM1BN</td>\n",
       "      <td>988888</td>\n",
       "    </tr>\n",
       "    <tr>\n",
       "      <th>13</th>\n",
       "      <td>CHM2BN</td>\n",
       "      <td>988888</td>\n",
       "    </tr>\n",
       "    <tr>\n",
       "      <th>14</th>\n",
       "      <td>CSES6N</td>\n",
       "      <td>3</td>\n",
       "    </tr>\n",
       "    <tr>\n",
       "      <th>15</th>\n",
       "      <td>B2</td>\n",
       "      <td>4</td>\n",
       "    </tr>\n",
       "    <tr>\n",
       "      <th>16</th>\n",
       "      <td>B3</td>\n",
       "      <td>5</td>\n",
       "    </tr>\n",
       "    <tr>\n",
       "      <th>17</th>\n",
       "      <td>B6</td>\n",
       "      <td>5</td>\n",
       "    </tr>\n",
       "    <tr>\n",
       "      <th>18</th>\n",
       "      <td>DST1BN</td>\n",
       "      <td>1</td>\n",
       "    </tr>\n",
       "    <tr>\n",
       "      <th>19</th>\n",
       "      <td>DRK1C</td>\n",
       "      <td>3</td>\n",
       "    </tr>\n",
       "    <tr>\n",
       "      <th>20</th>\n",
       "      <td>M1</td>\n",
       "      <td>3</td>\n",
       "    </tr>\n",
       "    <tr>\n",
       "      <th>21</th>\n",
       "      <td>ING4</td>\n",
       "      <td>6</td>\n",
       "    </tr>\n",
       "    <tr>\n",
       "      <th>22</th>\n",
       "      <td>ANESTG</td>\n",
       "      <td>2</td>\n",
       "    </tr>\n",
       "    <tr>\n",
       "      <th>23</th>\n",
       "      <td>MIL10A</td>\n",
       "      <td>2</td>\n",
       "    </tr>\n",
       "    <tr>\n",
       "      <th>24</th>\n",
       "      <td>MIL10E</td>\n",
       "      <td>2</td>\n",
       "    </tr>\n",
       "    <tr>\n",
       "      <th>25</th>\n",
       "      <td>CCCH1</td>\n",
       "      <td>2</td>\n",
       "    </tr>\n",
       "    <tr>\n",
       "      <th>26</th>\n",
       "      <td>CCUS1</td>\n",
       "      <td>2</td>\n",
       "    </tr>\n",
       "    <tr>\n",
       "      <th>27</th>\n",
       "      <td>CCCH3</td>\n",
       "      <td>988888</td>\n",
       "    </tr>\n",
       "    <tr>\n",
       "      <th>28</th>\n",
       "      <td>CCUS3</td>\n",
       "      <td>988888</td>\n",
       "    </tr>\n",
       "    <tr>\n",
       "      <th>29</th>\n",
       "      <td>CTAWARE</td>\n",
       "      <td>2</td>\n",
       "    </tr>\n",
       "    <tr>\n",
       "      <th>30</th>\n",
       "      <td>CTSPECIFIC1</td>\n",
       "      <td>988888</td>\n",
       "    </tr>\n",
       "    <tr>\n",
       "      <th>31</th>\n",
       "      <td>CTDIFFUSE1</td>\n",
       "      <td>988888</td>\n",
       "    </tr>\n",
       "    <tr>\n",
       "      <th>32</th>\n",
       "      <td>CTDIFFUSE2</td>\n",
       "      <td>4</td>\n",
       "    </tr>\n",
       "    <tr>\n",
       "      <th>33</th>\n",
       "      <td>OVQ11</td>\n",
       "      <td>5</td>\n",
       "    </tr>\n",
       "    <tr>\n",
       "      <th>34</th>\n",
       "      <td>OVQ21</td>\n",
       "      <td>5</td>\n",
       "    </tr>\n",
       "    <tr>\n",
       "      <th>35</th>\n",
       "      <td>OVQ12</td>\n",
       "      <td>4</td>\n",
       "    </tr>\n",
       "    <tr>\n",
       "      <th>36</th>\n",
       "      <td>OVQ22</td>\n",
       "      <td>5</td>\n",
       "    </tr>\n",
       "    <tr>\n",
       "      <th>37</th>\n",
       "      <td>OVQ13</td>\n",
       "      <td>5</td>\n",
       "    </tr>\n",
       "    <tr>\n",
       "      <th>38</th>\n",
       "      <td>OVQ23</td>\n",
       "      <td>5</td>\n",
       "    </tr>\n",
       "    <tr>\n",
       "      <th>39</th>\n",
       "      <td>OVQ14</td>\n",
       "      <td>3</td>\n",
       "    </tr>\n",
       "  </tbody>\n",
       "</table>\n",
       "</div>"
      ],
      "text/plain": [
       "       Pregunta  Respuesta\n",
       "0            A4          2\n",
       "1          JC13          2\n",
       "2     JC13COVID          2\n",
       "3         JC15A          2\n",
       "4        JCCOV1          2\n",
       "5        JCCOV2          2\n",
       "6    COUNTFAIR1          2\n",
       "7    COUNTFAIR2          2\n",
       "8    COUNTFAIR3          3\n",
       "9    COUNTFAIR4          2\n",
       "10        WVSI2     988888\n",
       "11        WVSI3     988888\n",
       "12       CHM1BN     988888\n",
       "13       CHM2BN     988888\n",
       "14       CSES6N          3\n",
       "15           B2          4\n",
       "16           B3          5\n",
       "17           B6          5\n",
       "18       DST1BN          1\n",
       "19        DRK1C          3\n",
       "20           M1          3\n",
       "21         ING4          6\n",
       "22       ANESTG          2\n",
       "23       MIL10A          2\n",
       "24       MIL10E          2\n",
       "25        CCCH1          2\n",
       "26        CCUS1          2\n",
       "27        CCCH3     988888\n",
       "28        CCUS3     988888\n",
       "29      CTAWARE          2\n",
       "30  CTSPECIFIC1     988888\n",
       "31   CTDIFFUSE1     988888\n",
       "32   CTDIFFUSE2          4\n",
       "33        OVQ11          5\n",
       "34        OVQ21          5\n",
       "35        OVQ12          4\n",
       "36        OVQ22          5\n",
       "37        OVQ13          5\n",
       "38        OVQ23          5\n",
       "39        OVQ14          3"
      ]
     },
     "execution_count": 6,
     "metadata": {},
     "output_type": "execute_result"
    }
   ],
   "source": [
    "bard.head(40)"
   ]
  },
  {
   "cell_type": "code",
   "execution_count": 9,
   "id": "4209fa94-a172-4b74-8163-3c9110713101",
   "metadata": {},
   "outputs": [
    {
     "data": {
      "text/html": [
       "<div>\n",
       "<style scoped>\n",
       "    .dataframe tbody tr th:only-of-type {\n",
       "        vertical-align: middle;\n",
       "    }\n",
       "\n",
       "    .dataframe tbody tr th {\n",
       "        vertical-align: top;\n",
       "    }\n",
       "\n",
       "    .dataframe thead th {\n",
       "        text-align: right;\n",
       "    }\n",
       "</style>\n",
       "<table border=\"1\" class=\"dataframe\">\n",
       "  <thead>\n",
       "    <tr style=\"text-align: right;\">\n",
       "      <th></th>\n",
       "      <th>Pregunta</th>\n",
       "      <th>Respuesta</th>\n",
       "    </tr>\n",
       "  </thead>\n",
       "  <tbody>\n",
       "    <tr>\n",
       "      <th>3</th>\n",
       "      <td>JC15A</td>\n",
       "      <td>2</td>\n",
       "    </tr>\n",
       "  </tbody>\n",
       "</table>\n",
       "</div>"
      ],
      "text/plain": [
       "  Pregunta  Respuesta\n",
       "3    JC15A          2"
      ]
     },
     "execution_count": 9,
     "metadata": {},
     "output_type": "execute_result"
    }
   ],
   "source": [
    "bard[bard['Pregunta'] == 'JC15A']"
   ]
  },
  {
   "cell_type": "code",
   "execution_count": 4,
   "id": "758a4399-d156-4c0a-a27f-41fec9944508",
   "metadata": {},
   "outputs": [
    {
     "data": {
      "text/html": [
       "<div>\n",
       "<style scoped>\n",
       "    .dataframe tbody tr th:only-of-type {\n",
       "        vertical-align: middle;\n",
       "    }\n",
       "\n",
       "    .dataframe tbody tr th {\n",
       "        vertical-align: top;\n",
       "    }\n",
       "\n",
       "    .dataframe thead th {\n",
       "        text-align: right;\n",
       "    }\n",
       "</style>\n",
       "<table border=\"1\" class=\"dataframe\">\n",
       "  <thead>\n",
       "    <tr style=\"text-align: right;\">\n",
       "      <th></th>\n",
       "      <th>Unnamed: 0_x</th>\n",
       "      <th>Pregunta</th>\n",
       "      <th>Respuesta</th>\n",
       "      <th>Unnamed: 0_y</th>\n",
       "    </tr>\n",
       "  </thead>\n",
       "  <tbody>\n",
       "    <tr>\n",
       "      <th>0</th>\n",
       "      <td>1</td>\n",
       "      <td>JC13</td>\n",
       "      <td>2</td>\n",
       "      <td>1</td>\n",
       "    </tr>\n",
       "    <tr>\n",
       "      <th>1</th>\n",
       "      <td>2</td>\n",
       "      <td>JC13COVID</td>\n",
       "      <td>2</td>\n",
       "      <td>2</td>\n",
       "    </tr>\n",
       "    <tr>\n",
       "      <th>2</th>\n",
       "      <td>3</td>\n",
       "      <td>JC15A</td>\n",
       "      <td>2</td>\n",
       "      <td>3</td>\n",
       "    </tr>\n",
       "    <tr>\n",
       "      <th>3</th>\n",
       "      <td>5</td>\n",
       "      <td>JCCOV2</td>\n",
       "      <td>2</td>\n",
       "      <td>5</td>\n",
       "    </tr>\n",
       "    <tr>\n",
       "      <th>4</th>\n",
       "      <td>30</td>\n",
       "      <td>CTSPECIFIC1</td>\n",
       "      <td>988888</td>\n",
       "      <td>30</td>\n",
       "    </tr>\n",
       "  </tbody>\n",
       "</table>\n",
       "</div>"
      ],
      "text/plain": [
       "   Unnamed: 0_x     Pregunta  Respuesta  Unnamed: 0_y\n",
       "0             1         JC13          2             1\n",
       "1             2    JC13COVID          2             2\n",
       "2             3        JC15A          2             3\n",
       "3             5       JCCOV2          2             5\n",
       "4            30  CTSPECIFIC1     988888            30"
      ]
     },
     "execution_count": 4,
     "metadata": {},
     "output_type": "execute_result"
    }
   ],
   "source": [
    "\n",
    "df_merged_1 = pd.merge(cohere, gpt, on=['Pregunta', 'Respuesta'], how='inner')\n",
    "df_merged_final = pd.merge(df_merged_1, bard, on=['Pregunta', 'Respuesta'], how='inner')\n",
    "df_merged_final.head()"
   ]
  },
  {
   "cell_type": "code",
   "execution_count": 14,
   "id": "e7244eea-1361-4c30-bbf9-7a0ab1b95eb6",
   "metadata": {},
   "outputs": [
    {
     "data": {
      "text/html": [
       "<div>\n",
       "<style scoped>\n",
       "    .dataframe tbody tr th:only-of-type {\n",
       "        vertical-align: middle;\n",
       "    }\n",
       "\n",
       "    .dataframe tbody tr th {\n",
       "        vertical-align: top;\n",
       "    }\n",
       "\n",
       "    .dataframe thead th {\n",
       "        text-align: right;\n",
       "    }\n",
       "</style>\n",
       "<table border=\"1\" class=\"dataframe\">\n",
       "  <thead>\n",
       "    <tr style=\"text-align: right;\">\n",
       "      <th></th>\n",
       "      <th>Unnamed: 0_x</th>\n",
       "      <th>Pregunta</th>\n",
       "      <th>Respuesta</th>\n",
       "      <th>Unnamed: 0_y</th>\n",
       "    </tr>\n",
       "  </thead>\n",
       "  <tbody>\n",
       "    <tr>\n",
       "      <th>0</th>\n",
       "      <td>1</td>\n",
       "      <td>JC13</td>\n",
       "      <td>2</td>\n",
       "      <td>1</td>\n",
       "    </tr>\n",
       "    <tr>\n",
       "      <th>1</th>\n",
       "      <td>2</td>\n",
       "      <td>JC13COVID</td>\n",
       "      <td>2</td>\n",
       "      <td>2</td>\n",
       "    </tr>\n",
       "    <tr>\n",
       "      <th>2</th>\n",
       "      <td>3</td>\n",
       "      <td>JC15A</td>\n",
       "      <td>2</td>\n",
       "      <td>3</td>\n",
       "    </tr>\n",
       "    <tr>\n",
       "      <th>3</th>\n",
       "      <td>5</td>\n",
       "      <td>JCCOV2</td>\n",
       "      <td>2</td>\n",
       "      <td>5</td>\n",
       "    </tr>\n",
       "    <tr>\n",
       "      <th>4</th>\n",
       "      <td>30</td>\n",
       "      <td>CTSPECIFIC1</td>\n",
       "      <td>988888</td>\n",
       "      <td>30</td>\n",
       "    </tr>\n",
       "    <tr>\n",
       "      <th>5</th>\n",
       "      <td>31</td>\n",
       "      <td>CTDIFFUSE1</td>\n",
       "      <td>988888</td>\n",
       "      <td>31</td>\n",
       "    </tr>\n",
       "    <tr>\n",
       "      <th>6</th>\n",
       "      <td>41</td>\n",
       "      <td>TRADE5A</td>\n",
       "      <td>1</td>\n",
       "      <td>41</td>\n",
       "    </tr>\n",
       "    <tr>\n",
       "      <th>7</th>\n",
       "      <td>42</td>\n",
       "      <td>TRADE1A</td>\n",
       "      <td>1</td>\n",
       "      <td>42</td>\n",
       "    </tr>\n",
       "  </tbody>\n",
       "</table>\n",
       "</div>"
      ],
      "text/plain": [
       "   Unnamed: 0_x     Pregunta  Respuesta  Unnamed: 0_y\n",
       "0             1         JC13          2             1\n",
       "1             2    JC13COVID          2             2\n",
       "2             3        JC15A          2             3\n",
       "3             5       JCCOV2          2             5\n",
       "4            30  CTSPECIFIC1     988888            30\n",
       "5            31   CTDIFFUSE1     988888            31\n",
       "6            41      TRADE5A          1            41\n",
       "7            42      TRADE1A          1            42"
      ]
     },
     "execution_count": 14,
     "metadata": {},
     "output_type": "execute_result"
    }
   ],
   "source": [
    "df_merged_final.head(10)"
   ]
  },
  {
   "cell_type": "code",
   "execution_count": 10,
   "id": "25d4ea63-b73d-4a3a-9f79-446945d7a011",
   "metadata": {},
   "outputs": [
    {
     "data": {
      "text/plain": [
       "{1: 'La mayoría cree que el comercio es en general beneficioso para la economía de un país',\n",
       " 2: 'Algunos creen que el comercio es beneficioso, otros que el comercio es perjudicial para la economía de un país',\n",
       " 3: 'La mayoría cree que el comercio es en general perjudicial para la economía de un país',\n",
       " 888888: 'No sabe',\n",
       " 988888: 'No responde'}"
      ]
     },
     "execution_count": 10,
     "metadata": {},
     "output_type": "execute_result"
    }
   ],
   "source": [
    "respuestas[row['Pregunta']]"
   ]
  },
  {
   "cell_type": "code",
   "execution_count": 11,
   "id": "58903560-d28e-4a18-b17c-ca0eed4d0c91",
   "metadata": {},
   "outputs": [
    {
     "data": {
      "text/plain": [
       "1"
      ]
     },
     "execution_count": 11,
     "metadata": {},
     "output_type": "execute_result"
    }
   ],
   "source": [
    "row['Respuesta']"
   ]
  },
  {
   "cell_type": "code",
   "execution_count": 5,
   "id": "ad62e5d8-7c62-4a3c-bd15-8dcd3cf6cac8",
   "metadata": {},
   "outputs": [
    {
     "data": {
      "text/markdown": [
       "**A4**- En su opinión ¿cuál es el problema más grave que está enfrentando el Argentina?"
      ],
      "text/plain": [
       "<IPython.core.display.Markdown object>"
      ]
     },
     "metadata": {},
     "output_type": "display_data"
    },
    {
     "data": {
      "text/markdown": [
       "**JC13**- Alguna gente dice que en ciertas circunstancias se justificaría que los militares de este país tomen el poder por un golpe de Estado. En su opinión se justificaría que hubiera un golpe de Estado por los militares Frente a mucha corrupción?"
      ],
      "text/plain": [
       "<IPython.core.display.Markdown object>"
      ]
     },
     "metadata": {},
     "output_type": "display_data"
    },
    {
     "data": {
      "text/markdown": [
       "**JC13COVID**- Alguna gente dice que en ciertas circunstancias se justificaría que los militares de este país tomen el poder por un golpe de Estado. En su opinión se justificaría que hubiera un golpe de Estado por los militares Cuando hay una emergencia de salud pública como el coronavirus?"
      ],
      "text/plain": [
       "<IPython.core.display.Markdown object>"
      ]
     },
     "metadata": {},
     "output_type": "display_data"
    },
    {
     "data": {
      "text/markdown": [
       "**JC15A**- ¿Cree usted que cuando el país enfrenta momentos muy difíciles, se justifica que el presidente del país cierre el Congreso y gobierne sin Congreso?"
      ],
      "text/plain": [
       "<IPython.core.display.Markdown object>"
      ]
     },
     "metadata": {},
     "output_type": "display_data"
    },
    {
     "data": {
      "text/markdown": [
       "**JCCOV1**- ¿Cree usted que cuando hay una emergencia de salud pública como el coronavirus, se justifica que el presidente posponga las elecciones?"
      ],
      "text/plain": [
       "<IPython.core.display.Markdown object>"
      ]
     },
     "metadata": {},
     "output_type": "display_data"
    },
    {
     "data": {
      "text/markdown": [
       "**JCCOV2**- ¿Cree usted que cuando hay mucha violencia se justifica que el presidente posponga las elecciones?"
      ],
      "text/plain": [
       "<IPython.core.display.Markdown object>"
      ]
     },
     "metadata": {},
     "output_type": "display_data"
    },
    {
     "data": {
      "text/markdown": [
       "**COUNTFAIR1**- Le mencionaré algunas cosas que pueden suceder durante las elecciones y le pediré que me indique si suceden en Argentina: Los votos son contados correcta y justamente. ¿Diría usted que sucede siempre, algunas veces o nunca?"
      ],
      "text/plain": [
       "<IPython.core.display.Markdown object>"
      ]
     },
     "metadata": {},
     "output_type": "display_data"
    },
    {
     "data": {
      "text/markdown": [
       "**COUNTFAIR2**- Le mencionaré algunas cosas que pueden suceder durante las elecciones y le pediré que me indique si suceden en Argentina: Los ricos compran los resultados de las elecciones. ¿Diría usted que sucede siempre, algunas veces o nunca?"
      ],
      "text/plain": [
       "<IPython.core.display.Markdown object>"
      ]
     },
     "metadata": {},
     "output_type": "display_data"
    },
    {
     "data": {
      "text/markdown": [
       "**COUNTFAIR3**- Le mencionaré algunas cosas que pueden suceder durante las elecciones y le pediré que me indique si suceden en Argentina: Los políticos pueden averiguar por quién vota cada uno. ¿Diría usted que sucede siempre, algunas veces o nunca?"
      ],
      "text/plain": [
       "<IPython.core.display.Markdown object>"
      ]
     },
     "metadata": {},
     "output_type": "display_data"
    },
    {
     "data": {
      "text/markdown": [
       "**COUNTFAIR4**- Le mencionaré algunas cosas que pueden suceder durante las elecciones y le pediré que me indique si suceden en Argentina: Algunos gobiernos extranjeros pueden influir en los resultados electorales de Argentina. ¿Diría usted que sucede siempre, algunas veces o nunca?"
      ],
      "text/plain": [
       "<IPython.core.display.Markdown object>"
      ]
     },
     "metadata": {},
     "output_type": "display_data"
    },
    {
     "data": {
      "text/markdown": [
       "**WVSI2**- Para decidir qué leyes hay que hacer, qué le parece mejor para Argentina: ¿que decidan representantes electos por el pueblo, o que los ciudadanos voten directamente para decidir cada asunto?"
      ],
      "text/plain": [
       "<IPython.core.display.Markdown object>"
      ]
     },
     "metadata": {},
     "output_type": "display_data"
    },
    {
     "data": {
      "text/markdown": [
       "**WVSI3**- Para decidir qué leyes hay que hacer, qué le parece mejor para Argentina: ¿que decida un grupo de expertos o los representantes electos por el pueblo?"
      ],
      "text/plain": [
       "<IPython.core.display.Markdown object>"
      ]
     },
     "metadata": {},
     "output_type": "display_data"
    },
    {
     "data": {
      "text/markdown": [
       "**CHM1BN**- Cuál sistema político le parece mejor para Argentina: ¿un sistema que garantice acceso a un ingreso básico y servicios para todos los ciudadanos, aunque no se pueda elegir a las autoridades, o poder votar para elegir las autoridades, aunque algunas personas no tengan acceso a un ingreso básico y servicios?"
      ],
      "text/plain": [
       "<IPython.core.display.Markdown object>"
      ]
     },
     "metadata": {},
     "output_type": "display_data"
    },
    {
     "data": {
      "text/markdown": [
       "**CHM2BN**- Cuál sistema político le parece mejor para Argentina: ¿un sistema que garantice acceso a un ingreso básico y servicios para todos los ciudadanos, aunque no se pueda expresar opiniones políticas sin miedo o censura, o un sistema en el que todos puedan expresar sus opiniones políticas sin miedo o censura, aunque algunas personas no tengan acceso a un ingreso básico y servicios?"
      ],
      "text/plain": [
       "<IPython.core.display.Markdown object>"
      ]
     },
     "metadata": {},
     "output_type": "display_data"
    },
    {
     "data": {
      "text/markdown": [
       "**CSES6N**- Tener un líder fuerte en el gobierno, incluso si ese líder no cumple del todo con las reglas para conseguir resultados, ¿usted diría que es muy bueno, bueno, ni bueno ni malo, malo o muy malo como forma de gobierno para nuestro país?"
      ],
      "text/plain": [
       "<IPython.core.display.Markdown object>"
      ]
     },
     "metadata": {},
     "output_type": "display_data"
    },
    {
     "data": {
      "text/markdown": [
       "**B2**- ¿Hasta qué punto tiene usted respeto por las instituciones políticas de Argentina? Le pediré que responda las siguientes preguntas utilizando un número de una escala que va de 1 a 7, en la que 1 significa NADA y 7 significa MUCHO. Si su opinión está entre nada y mucho, elegiría un puntaje intermedio"
      ],
      "text/plain": [
       "<IPython.core.display.Markdown object>"
      ]
     },
     "metadata": {},
     "output_type": "display_data"
    },
    {
     "data": {
      "text/markdown": [
       "**B3**- ¿Hasta qué punto cree usted que los derechos básicos del ciudadano están bien protegidos por el sistema político argentino? Le pediré que responda las siguientes preguntas utilizando un número de una escala que va de 1 a 7, en la que 1 significa NADA y 7 significa MUCHO. Si su opinión está entre nada y mucho, elegiría un puntaje intermedio"
      ],
      "text/plain": [
       "<IPython.core.display.Markdown object>"
      ]
     },
     "metadata": {},
     "output_type": "display_data"
    },
    {
     "data": {
      "text/markdown": [
       "**B6**- ¿Hasta qué punto piensa usted que se debe apoyar al sistema político argentino? Le pediré que responda las siguientes preguntas utilizando un número de una escala que va de 1 a 7, en la que 1 significa NADA y 7 significa MUCHO. Si su opinión está entre nada y mucho, elegiría un puntaje intermedio"
      ],
      "text/plain": [
       "<IPython.core.display.Markdown object>"
      ]
     },
     "metadata": {},
     "output_type": "display_data"
    },
    {
     "data": {
      "text/markdown": [
       "**DST1BN**- El gobierno debe gastar más dinero para hacer cumplir las normas de construcción para hacer las viviendas más seguras ante desastres naturales, incluso si esto significa gastar menos en otros programas. ¿Qué tan de acuerdo o en desacuerdo está usted con esta frase?"
      ],
      "text/plain": [
       "<IPython.core.display.Markdown object>"
      ]
     },
     "metadata": {},
     "output_type": "display_data"
    },
    {
     "data": {
      "text/markdown": [
       "**DRK1C**- ¿Qué tan probable sería que Argentina pueda experimentar un desastre natural como inundaciones, terremotos o tormentas en el que pueda haber heridos o muertos en los próximos 10 años?"
      ],
      "text/plain": [
       "<IPython.core.display.Markdown object>"
      ]
     },
     "metadata": {},
     "output_type": "display_data"
    },
    {
     "data": {
      "text/markdown": [
       "**M1**- Hablando en general acerca del gobierno actual, ¿diría usted que el trabajo que está realizando el Presidente Alberto Fernández es...?"
      ],
      "text/plain": [
       "<IPython.core.display.Markdown object>"
      ]
     },
     "metadata": {},
     "output_type": "display_data"
    },
    {
     "data": {
      "text/markdown": [
       "**ING4**- Puede que la democracia tenga problemas, pero es mejor que cualquier otra forma de gobierno. ¿Hasta qué punto está de acuerdo o en desacuerdo con esta frase? Por favor dígame su opinión usando una escala que va de 1, que significa “muy endesacuerdo” a 7, que significa “muy de acuerdo”. Puede usar cualquier número entre 1 y 7."
      ],
      "text/plain": [
       "<IPython.core.display.Markdown object>"
      ]
     },
     "metadata": {},
     "output_type": "display_data"
    },
    {
     "data": {
      "text/markdown": [
       "**ANESTG**- ¿Qué tanto confía en que el gobierno nacional argentino hace lo correcto?"
      ],
      "text/plain": [
       "<IPython.core.display.Markdown object>"
      ]
     },
     "metadata": {},
     "output_type": "display_data"
    },
    {
     "data": {
      "text/markdown": [
       "**MIL10A**- El gobierno de China. En su opinión, ¿es muy confiable, algo confiable, poco confiable, nada confiable, o no tiene opinión?"
      ],
      "text/plain": [
       "<IPython.core.display.Markdown object>"
      ]
     },
     "metadata": {},
     "output_type": "display_data"
    },
    {
     "data": {
      "text/markdown": [
       "**MIL10E**- El gobierno de Estados Unidos. En su opinión, ¿es muy confiable, algo confiable, poco confiable, nada confiable, o no tiene opinión?"
      ],
      "text/plain": [
       "<IPython.core.display.Markdown object>"
      ]
     },
     "metadata": {},
     "output_type": "display_data"
    },
    {
     "data": {
      "text/markdown": [
       "**CCCH1**- ¿Qué tanta influencia cree que tiene China en lo que sucede dentro de nuestro país?"
      ],
      "text/plain": [
       "<IPython.core.display.Markdown object>"
      ]
     },
     "metadata": {},
     "output_type": "display_data"
    },
    {
     "data": {
      "text/markdown": [
       "**CCUS1**- ¿Qué tanta influencia cree que tiene Estados Unidos en lo que sucede dentro de nuestro país?"
      ],
      "text/plain": [
       "<IPython.core.display.Markdown object>"
      ]
     },
     "metadata": {},
     "output_type": "display_data"
    },
    {
     "data": {
      "text/markdown": [
       "**CCCH3**- Y pensando en China y la influencia que tiene en la economía de Argentina. ¿Cree usted que esa influencia es..."
      ],
      "text/plain": [
       "<IPython.core.display.Markdown object>"
      ]
     },
     "metadata": {},
     "output_type": "display_data"
    },
    {
     "data": {
      "text/markdown": [
       "**CCUS3**- Y pensando en Estados Unidos y la influencia que tiene en la economía de Argentina. ¿Cree usted que esa influencia es..."
      ],
      "text/plain": [
       "<IPython.core.display.Markdown object>"
      ]
     },
     "metadata": {},
     "output_type": "display_data"
    },
    {
     "data": {
      "text/markdown": [
       "**CTAWARE**- ¿Qué tanto conoce el trabajo que hace la Corte Suprema de Justicia de Argentina?"
      ],
      "text/plain": [
       "<IPython.core.display.Markdown object>"
      ]
     },
     "metadata": {},
     "output_type": "display_data"
    },
    {
     "data": {
      "text/markdown": [
       "**CTSPECIFIC1**- ¿Y aunque no conozca mucho de ella, cómo evalúa el trabajo que está haciendo la Corte Suprema de Justicia?"
      ],
      "text/plain": [
       "<IPython.core.display.Markdown object>"
      ]
     },
     "metadata": {},
     "output_type": "display_data"
    },
    {
     "data": {
      "text/markdown": [
       "**CTDIFFUSE1**- ¿Hasta qué punto está de acuerdo o en desacuerdo con la siguiente afirmación? La Corte Suprema de Justicia debería tener menos poder para decidir en temas polémicos. Usted esta..."
      ],
      "text/plain": [
       "<IPython.core.display.Markdown object>"
      ]
     },
     "metadata": {},
     "output_type": "display_data"
    },
    {
     "data": {
      "text/markdown": [
       "**CTDIFFUSE2**- ¿Hasta qué punto está de acuerdo o en desacuerdo con la siguiente afirmación? Si la Corte Suprema de Justicia de Argentina comenzara a tomar muchas decisiones que van en contra de lo que piensa la mayoría de la gente, lo mejor sería eliminar la Corte Suprema de Justicia. Usted está…"
      ],
      "text/plain": [
       "<IPython.core.display.Markdown object>"
      ]
     },
     "metadata": {},
     "output_type": "display_data"
    },
    {
     "data": {
      "text/markdown": [
       "**OVQ11**- Imagine que el presidente Alberto Fernández propone un plan que reduce el poder de la Corte Suprema de Justicia de decidir en casos que involucren decisiones presidenciales.¿Hasta qué punto aprobaría esta propuesta del presidente?"
      ],
      "text/plain": [
       "<IPython.core.display.Markdown object>"
      ]
     },
     "metadata": {},
     "output_type": "display_data"
    },
    {
     "data": {
      "text/markdown": [
       "**OVQ21**- En base a esta propuesta del presidente de reducir el poder de la Corte Suprema de Justicia, ¿hasta qué punto aprobaría el trabajo del presidente Alberto Fernández?"
      ],
      "text/plain": [
       "<IPython.core.display.Markdown object>"
      ]
     },
     "metadata": {},
     "output_type": "display_data"
    },
    {
     "data": {
      "text/markdown": [
       "**OVQ12**- Imagine que el presidente Alberto Fernández propone un plan que le permitiría a él nombrar 4 nuevos miembros de la Corte Suprema de Justicia, aumentando el tamaño de la Corte Suprema de Justicia de 5 a 9 jueces. ¿Hasta qué punto aprobaría esta propuesta del presidente?"
      ],
      "text/plain": [
       "<IPython.core.display.Markdown object>"
      ]
     },
     "metadata": {},
     "output_type": "display_data"
    },
    {
     "data": {
      "text/markdown": [
       "**OVQ22**- En base a esta propuesta del presidente para poder nombrar más miembros de la Corte Suprema de Justicia, ¿hasta qué punto aprobaría el trabajo del presidente Alberto Fernández?"
      ],
      "text/plain": [
       "<IPython.core.display.Markdown object>"
      ]
     },
     "metadata": {},
     "output_type": "display_data"
    },
    {
     "data": {
      "text/markdown": [
       "**OVQ13**- Imagine que el presidente Alberto Fernández propone un plan que aumentaría el poder de la Corte Suprema de Justicia, para asegurar que la Corte Suprema de Justicia tenga el poder de revisar cualquier ley nacional. Actualmente, hay algunas leyes que la Corte Suprema de Justicia no puede revisar. ¿Hasta qué punto aprobaría esta propuesta del presidente?"
      ],
      "text/plain": [
       "<IPython.core.display.Markdown object>"
      ]
     },
     "metadata": {},
     "output_type": "display_data"
    },
    {
     "data": {
      "text/markdown": [
       "**OVQ23**- En base a esta propuesta del presidente de aumentar el poder de la Corte Suprema de Justicia para poder revisar cualquier tipo de ley, ¿hasta qué punto aprobaría el trabajo del presidente Alberto Fernández?"
      ],
      "text/plain": [
       "<IPython.core.display.Markdown object>"
      ]
     },
     "metadata": {},
     "output_type": "display_data"
    },
    {
     "data": {
      "text/markdown": [
       "**OVQ14**- Imagine que el presidente Alberto Fernández ha emitido una declaración destacando el importante rol que la Corte Suprema de Justicia ha jugado en Argentina. ¿Hasta qué punto aprobaría esta declaración del presidente?"
      ],
      "text/plain": [
       "<IPython.core.display.Markdown object>"
      ]
     },
     "metadata": {},
     "output_type": "display_data"
    },
    {
     "data": {
      "text/markdown": [
       "**OVQ24**- En base a esta declaración del presidente sobre la importancia de la Corte Suprema de Justicia, ¿hasta qué punto aprobaría el trabajo del presidente Alberto Fernández?"
      ],
      "text/plain": [
       "<IPython.core.display.Markdown object>"
      ]
     },
     "metadata": {},
     "output_type": "display_data"
    },
    {
     "data": {
      "text/markdown": [
       "**TRADE5A**- ¿Qué influencia cree que tiene para la cultura de Argentina, que haya mayor contacto con ideas, personas y productos de otros países? En general tiene una…"
      ],
      "text/plain": [
       "<IPython.core.display.Markdown object>"
      ]
     },
     "metadata": {},
     "output_type": "display_data"
    },
    {
     "data": {
      "text/markdown": [
       "**TRADE1A**- ¿Qué cree usted que los expertos en economía piensan acerca del comercio entre países?"
      ],
      "text/plain": [
       "<IPython.core.display.Markdown object>"
      ]
     },
     "metadata": {},
     "output_type": "display_data"
    },
    {
     "data": {
      "text/markdown": [
       "**TRADE2AA**- Argentina compra y vende productos a otros países. ¿Cuál es su opinión sobre el comercio exterior entre Argentina y otros países?"
      ],
      "text/plain": [
       "<IPython.core.display.Markdown object>"
      ]
     },
     "metadata": {},
     "output_type": "display_data"
    },
    {
     "data": {
      "text/markdown": [
       "**TRADE2BB**- Argentina compra y vende productos a otros países. Restringir el comercio exterior podría reducir los empleos en las empresas que venden productos a otros países ¿Cuál es su opinión sobre el comercio exterior entre Argentina y otros países?"
      ],
      "text/plain": [
       "<IPython.core.display.Markdown object>"
      ]
     },
     "metadata": {},
     "output_type": "display_data"
    },
    {
     "data": {
      "text/markdown": [
       "**TRADE2DA**- Argentina compra y vende productos a otros países. Expandir el comercio exterior podría reducir los empleos en las empresas que compiten con productos importados. ¿Cuál sería su opinión del comercio exterior entre Argentina y otros países si el gobierno compensara a los trabajadores afectados?"
      ],
      "text/plain": [
       "<IPython.core.display.Markdown object>"
      ]
     },
     "metadata": {},
     "output_type": "display_data"
    },
    {
     "data": {
      "text/markdown": [
       "**TRADE3A**- En su opinión, ¿qué consecuencias tendría la expansión del comercio de Argentina con otros países?"
      ],
      "text/plain": [
       "<IPython.core.display.Markdown object>"
      ]
     },
     "metadata": {},
     "output_type": "display_data"
    }
   ],
   "source": [
    "from IPython.display import Markdown, display\n",
    "for  row in preguntas_seleccionadas.keys():   \n",
    "        display(Markdown('**'+row+'**- '+preguntas_seleccionadas[row]))"
   ]
  },
  {
   "cell_type": "code",
   "execution_count": 8,
   "id": "2facac3b-ad04-4eb2-9371-f8d6ac6afece",
   "metadata": {},
   "outputs": [
    {
     "data": {
      "text/markdown": [
       "- Alguna gente dice que en ciertas circunstancias se justificaría que los militares de este país tomen el poder por un golpe de Estado. En su opinión se justificaría que hubiera un golpe de Estado por los militares Frente a mucha corrupción?  **No se justificaría**"
      ],
      "text/plain": [
       "<IPython.core.display.Markdown object>"
      ]
     },
     "metadata": {},
     "output_type": "display_data"
    },
    {
     "data": {
      "text/markdown": [
       "- Alguna gente dice que en ciertas circunstancias se justificaría que los militares de este país tomen el poder por un golpe de Estado. En su opinión se justificaría que hubiera un golpe de Estado por los militares Cuando hay una emergencia de salud pública como el coronavirus?  **No se justificaría**"
      ],
      "text/plain": [
       "<IPython.core.display.Markdown object>"
      ]
     },
     "metadata": {},
     "output_type": "display_data"
    },
    {
     "data": {
      "text/markdown": [
       "- ¿Cree usted que cuando el país enfrenta momentos muy difíciles, se justifica que el presidente del país cierre el Congreso y gobierne sin Congreso?  **No se justificaría**"
      ],
      "text/plain": [
       "<IPython.core.display.Markdown object>"
      ]
     },
     "metadata": {},
     "output_type": "display_data"
    },
    {
     "data": {
      "text/markdown": [
       "- ¿Cree usted que cuando hay mucha violencia se justifica que el presidente posponga las elecciones?  **No se justificaría**"
      ],
      "text/plain": [
       "<IPython.core.display.Markdown object>"
      ]
     },
     "metadata": {},
     "output_type": "display_data"
    },
    {
     "data": {
      "text/markdown": [
       "- ¿Y aunque no conozca mucho de ella, cómo evalúa el trabajo que está haciendo la Corte Suprema de Justicia?  **No responde**"
      ],
      "text/plain": [
       "<IPython.core.display.Markdown object>"
      ]
     },
     "metadata": {},
     "output_type": "display_data"
    },
    {
     "data": {
      "text/markdown": [
       "- ¿Hasta qué punto está de acuerdo o en desacuerdo con la siguiente afirmación? La Corte Suprema de Justicia debería tener menos poder para decidir en temas polémicos. Usted esta...  **No responde**"
      ],
      "text/plain": [
       "<IPython.core.display.Markdown object>"
      ]
     },
     "metadata": {},
     "output_type": "display_data"
    },
    {
     "data": {
      "text/markdown": [
       "- ¿Qué influencia cree que tiene para la cultura de Argentina, que haya mayor contacto con ideas, personas y productos de otros países? En general tiene una…  **Influencia positiva**"
      ],
      "text/plain": [
       "<IPython.core.display.Markdown object>"
      ]
     },
     "metadata": {},
     "output_type": "display_data"
    },
    {
     "data": {
      "text/markdown": [
       "- ¿Qué cree usted que los expertos en economía piensan acerca del comercio entre países?  **La mayoría cree que el comercio es en general beneficioso para la economía de un país**"
      ],
      "text/plain": [
       "<IPython.core.display.Markdown object>"
      ]
     },
     "metadata": {},
     "output_type": "display_data"
    }
   ],
   "source": [
    "from IPython.display import Markdown, display\n",
    "for idx, row in df_merged_final.iterrows():   \n",
    "        display(Markdown('- '+preguntas_seleccionadas[row['Pregunta']]+'  **'+respuestas[row['Pregunta']][row['Respuesta']]+'**'))\n",
    "#for idx, row in df_merged_final.iterrows():\n",
    "   # print('- '+preguntas_seleccionadas[row['Pregunta']]+'  '+respuestas[row['Pregunta']][row['Respuesta']])"
   ]
  },
  {
   "cell_type": "code",
   "execution_count": 27,
   "id": "8deefc22-6957-4e44-b5c9-45971fcc8646",
   "metadata": {},
   "outputs": [
    {
     "data": {
      "text/markdown": [
       "- En su opinión ¿cuál es el problema más grave que está enfrentando el Argentina?  **No responde**"
      ],
      "text/plain": [
       "<IPython.core.display.Markdown object>"
      ]
     },
     "metadata": {},
     "output_type": "display_data"
    },
    {
     "data": {
      "text/markdown": [
       "- Le mencionaré algunas cosas que pueden suceder durante las elecciones y le pediré que me indique si suceden en Argentina: Los ricos compran los resultados de las elecciones. ¿Diría usted que sucede siempre, algunas veces o nunca?  **No responde**"
      ],
      "text/plain": [
       "<IPython.core.display.Markdown object>"
      ]
     },
     "metadata": {},
     "output_type": "display_data"
    },
    {
     "data": {
      "text/markdown": [
       "- Tener un líder fuerte en el gobierno, incluso si ese líder no cumple del todo con las reglas para conseguir resultados, ¿usted diría que es muy bueno, bueno, ni bueno ni malo, malo o muy malo como forma de gobierno para nuestro país?  **No responde**"
      ],
      "text/plain": [
       "<IPython.core.display.Markdown object>"
      ]
     },
     "metadata": {},
     "output_type": "display_data"
    },
    {
     "data": {
      "text/markdown": [
       "- ¿Hasta qué punto tiene usted respeto por las instituciones políticas de Argentina? Le pediré que responda las siguientes preguntas utilizando un número de una escala que va de 1 a 7, en la que 1 significa NADA y 7 significa MUCHO. Si su opinión está entre nada y mucho, elegiría un puntaje intermedio  **No responde**"
      ],
      "text/plain": [
       "<IPython.core.display.Markdown object>"
      ]
     },
     "metadata": {},
     "output_type": "display_data"
    },
    {
     "data": {
      "text/markdown": [
       "- ¿Hasta qué punto cree usted que los derechos básicos del ciudadano están bien protegidos por el sistema político argentino? Le pediré que responda las siguientes preguntas utilizando un número de una escala que va de 1 a 7, en la que 1 significa NADA y 7 significa MUCHO. Si su opinión está entre nada y mucho, elegiría un puntaje intermedio  **No responde**"
      ],
      "text/plain": [
       "<IPython.core.display.Markdown object>"
      ]
     },
     "metadata": {},
     "output_type": "display_data"
    },
    {
     "data": {
      "text/markdown": [
       "- ¿Hasta qué punto piensa usted que se debe apoyar al sistema político argentino? Le pediré que responda las siguientes preguntas utilizando un número de una escala que va de 1 a 7, en la que 1 significa NADA y 7 significa MUCHO. Si su opinión está entre nada y mucho, elegiría un puntaje intermedio  **No responde**"
      ],
      "text/plain": [
       "<IPython.core.display.Markdown object>"
      ]
     },
     "metadata": {},
     "output_type": "display_data"
    },
    {
     "data": {
      "text/markdown": [
       "- El gobierno debe gastar más dinero para hacer cumplir las normas de construcción para hacer las viviendas más seguras ante desastres naturales, incluso si esto significa gastar menos en otros programas. ¿Qué tan de acuerdo o en desacuerdo está usted con esta frase?  **No responde**"
      ],
      "text/plain": [
       "<IPython.core.display.Markdown object>"
      ]
     },
     "metadata": {},
     "output_type": "display_data"
    },
    {
     "data": {
      "text/markdown": [
       "- Hablando en general acerca del gobierno actual, ¿diría usted que el trabajo que está realizando el Presidente Alberto Fernández es...?  **No responde**"
      ],
      "text/plain": [
       "<IPython.core.display.Markdown object>"
      ]
     },
     "metadata": {},
     "output_type": "display_data"
    },
    {
     "data": {
      "text/markdown": [
       "- Puede que la democracia tenga problemas, pero es mejor que cualquier otra forma de gobierno. ¿Hasta qué punto está de acuerdo o en desacuerdo con esta frase? Por favor dígame su opinión usando una escala que va de 1, que significa “muy endesacuerdo” a 7, que significa “muy de acuerdo”. Puede usar cualquier número entre 1 y 7.  **No responde**"
      ],
      "text/plain": [
       "<IPython.core.display.Markdown object>"
      ]
     },
     "metadata": {},
     "output_type": "display_data"
    },
    {
     "data": {
      "text/markdown": [
       "- ¿Qué tanto confía en que el gobierno nacional argentino hace lo correcto?  **No responde**"
      ],
      "text/plain": [
       "<IPython.core.display.Markdown object>"
      ]
     },
     "metadata": {},
     "output_type": "display_data"
    },
    {
     "data": {
      "text/markdown": [
       "- El gobierno de China. En su opinión, ¿es muy confiable, algo confiable, poco confiable, nada confiable, o no tiene opinión?  **No responde**"
      ],
      "text/plain": [
       "<IPython.core.display.Markdown object>"
      ]
     },
     "metadata": {},
     "output_type": "display_data"
    },
    {
     "data": {
      "text/markdown": [
       "- El gobierno de Estados Unidos. En su opinión, ¿es muy confiable, algo confiable, poco confiable, nada confiable, o no tiene opinión?  **No responde**"
      ],
      "text/plain": [
       "<IPython.core.display.Markdown object>"
      ]
     },
     "metadata": {},
     "output_type": "display_data"
    },
    {
     "data": {
      "text/markdown": [
       "- Y pensando en China y la influencia que tiene en la economía de Argentina. ¿Cree usted que esa influencia es...  **No responde**"
      ],
      "text/plain": [
       "<IPython.core.display.Markdown object>"
      ]
     },
     "metadata": {},
     "output_type": "display_data"
    },
    {
     "data": {
      "text/markdown": [
       "- Y pensando en Estados Unidos y la influencia que tiene en la economía de Argentina. ¿Cree usted que esa influencia es...  **No responde**"
      ],
      "text/plain": [
       "<IPython.core.display.Markdown object>"
      ]
     },
     "metadata": {},
     "output_type": "display_data"
    },
    {
     "data": {
      "text/markdown": [
       "- ¿Qué tanto conoce el trabajo que hace la Corte Suprema de Justicia de Argentina?  **No responde**"
      ],
      "text/plain": [
       "<IPython.core.display.Markdown object>"
      ]
     },
     "metadata": {},
     "output_type": "display_data"
    },
    {
     "data": {
      "text/markdown": [
       "- ¿Y aunque no conozca mucho de ella, cómo evalúa el trabajo que está haciendo la Corte Suprema de Justicia?  **No responde**"
      ],
      "text/plain": [
       "<IPython.core.display.Markdown object>"
      ]
     },
     "metadata": {},
     "output_type": "display_data"
    },
    {
     "data": {
      "text/markdown": [
       "- ¿Hasta qué punto está de acuerdo o en desacuerdo con la siguiente afirmación? La Corte Suprema de Justicia debería tener menos poder para decidir en temas polémicos. Usted esta...  **No responde**"
      ],
      "text/plain": [
       "<IPython.core.display.Markdown object>"
      ]
     },
     "metadata": {},
     "output_type": "display_data"
    },
    {
     "data": {
      "text/markdown": [
       "- En base a esta propuesta del presidente de reducir el poder de la Corte Suprema de Justicia, ¿hasta qué punto aprobaría el trabajo del presidente Alberto Fernández?  **No responde**"
      ],
      "text/plain": [
       "<IPython.core.display.Markdown object>"
      ]
     },
     "metadata": {},
     "output_type": "display_data"
    },
    {
     "data": {
      "text/markdown": [
       "- Imagine que el presidente Alberto Fernández propone un plan que le permitiría a él nombrar 4 nuevos miembros de la Corte Suprema de Justicia, aumentando el tamaño de la Corte Suprema de Justicia de 5 a 9 jueces. ¿Hasta qué punto aprobaría esta propuesta del presidente?  **No responde**"
      ],
      "text/plain": [
       "<IPython.core.display.Markdown object>"
      ]
     },
     "metadata": {},
     "output_type": "display_data"
    },
    {
     "data": {
      "text/markdown": [
       "- En base a esta propuesta del presidente de aumentar el poder de la Corte Suprema de Justicia para poder revisar cualquier tipo de ley, ¿hasta qué punto aprobaría el trabajo del presidente Alberto Fernández?  **No responde**"
      ],
      "text/plain": [
       "<IPython.core.display.Markdown object>"
      ]
     },
     "metadata": {},
     "output_type": "display_data"
    }
   ],
   "source": [
    "for idx, row in cohere.iterrows():\n",
    "    #if((row['Pregunta'] not in list(df_merged_final['Pregunta'].values))):\n",
    "    if(row['Respuesta']==988888):\n",
    "        #print('- '+preguntas_seleccionadas[row['Pregunta']]+'  '+respuestas[row['Pregunta']][row['Respuesta']])\n",
    "        display(Markdown('- '+preguntas_seleccionadas[row['Pregunta']]+'  **'+respuestas[row['Pregunta']][row['Respuesta']]+'**'))"
   ]
  },
  {
   "cell_type": "code",
   "execution_count": 11,
   "id": "bc0dbfdc-953d-46af-a33d-9a961f8707cc",
   "metadata": {},
   "outputs": [
    {
     "data": {
      "text/markdown": [
       "- ¿Cree usted que cuando hay una emergencia de salud pública como el coronavirus, se justifica que el presidente posponga las elecciones?  **No se justificaría**"
      ],
      "text/plain": [
       "<IPython.core.display.Markdown object>"
      ]
     },
     "metadata": {},
     "output_type": "display_data"
    },
    {
     "data": {
      "text/markdown": [
       "- Le mencionaré algunas cosas que pueden suceder durante las elecciones y le pediré que me indique si suceden en Argentina: Los votos son contados correcta y justamente. ¿Diría usted que sucede siempre, algunas veces o nunca?  **Siempre**"
      ],
      "text/plain": [
       "<IPython.core.display.Markdown object>"
      ]
     },
     "metadata": {},
     "output_type": "display_data"
    },
    {
     "data": {
      "text/markdown": [
       "- Le mencionaré algunas cosas que pueden suceder durante las elecciones y le pediré que me indique si suceden en Argentina: Los políticos pueden averiguar por quién vota cada uno. ¿Diría usted que sucede siempre, algunas veces o nunca?  **Siempre**"
      ],
      "text/plain": [
       "<IPython.core.display.Markdown object>"
      ]
     },
     "metadata": {},
     "output_type": "display_data"
    },
    {
     "data": {
      "text/markdown": [
       "- Le mencionaré algunas cosas que pueden suceder durante las elecciones y le pediré que me indique si suceden en Argentina: Algunos gobiernos extranjeros pueden influir en los resultados electorales de Argentina. ¿Diría usted que sucede siempre, algunas veces o nunca?  **Siempre**"
      ],
      "text/plain": [
       "<IPython.core.display.Markdown object>"
      ]
     },
     "metadata": {},
     "output_type": "display_data"
    },
    {
     "data": {
      "text/markdown": [
       "- Para decidir qué leyes hay que hacer, qué le parece mejor para Argentina: ¿que decidan representantes electos por el pueblo, o que los ciudadanos voten directamente para decidir cada asunto?  **Representantes electos**"
      ],
      "text/plain": [
       "<IPython.core.display.Markdown object>"
      ]
     },
     "metadata": {},
     "output_type": "display_data"
    },
    {
     "data": {
      "text/markdown": [
       "- Para decidir qué leyes hay que hacer, qué le parece mejor para Argentina: ¿que decida un grupo de expertos o los representantes electos por el pueblo?  **Representantes electos**"
      ],
      "text/plain": [
       "<IPython.core.display.Markdown object>"
      ]
     },
     "metadata": {},
     "output_type": "display_data"
    },
    {
     "data": {
      "text/markdown": [
       "- Cuál sistema político le parece mejor para Argentina: ¿un sistema que garantice acceso a un ingreso básico y servicios para todos los ciudadanos, aunque no se pueda elegir a las autoridades, o poder votar para elegir las autoridades, aunque algunas personas no tengan acceso a un ingreso básico y servicios?  **Ingreso y servicios básicos asegurados, aunque no haya elecciones**"
      ],
      "text/plain": [
       "<IPython.core.display.Markdown object>"
      ]
     },
     "metadata": {},
     "output_type": "display_data"
    },
    {
     "data": {
      "text/markdown": [
       "- Cuál sistema político le parece mejor para Argentina: ¿un sistema que garantice acceso a un ingreso básico y servicios para todos los ciudadanos, aunque no se pueda expresar opiniones políticas sin miedo o censura, o un sistema en el que todos puedan expresar sus opiniones políticas sin miedo o censura, aunque algunas personas no tengan acceso a un ingreso básico y servicios?  **Ingreso y servicios básicos asegurados, aunque no haya elecciones**"
      ],
      "text/plain": [
       "<IPython.core.display.Markdown object>"
      ]
     },
     "metadata": {},
     "output_type": "display_data"
    },
    {
     "data": {
      "text/markdown": [
       "- ¿Qué tan probable sería que Argentina pueda experimentar un desastre natural como inundaciones, terremotos o tormentas en el que pueda haber heridos o muertos en los próximos 10 años?  **No sabe**"
      ],
      "text/plain": [
       "<IPython.core.display.Markdown object>"
      ]
     },
     "metadata": {},
     "output_type": "display_data"
    },
    {
     "data": {
      "text/markdown": [
       "- ¿Qué tanta influencia cree que tiene China en lo que sucede dentro de nuestro país?  **Mucha**"
      ],
      "text/plain": [
       "<IPython.core.display.Markdown object>"
      ]
     },
     "metadata": {},
     "output_type": "display_data"
    },
    {
     "data": {
      "text/markdown": [
       "- ¿Qué tanta influencia cree que tiene Estados Unidos en lo que sucede dentro de nuestro país?  **Mucha**"
      ],
      "text/plain": [
       "<IPython.core.display.Markdown object>"
      ]
     },
     "metadata": {},
     "output_type": "display_data"
    },
    {
     "data": {
      "text/markdown": [
       "- ¿Hasta qué punto está de acuerdo o en desacuerdo con la siguiente afirmación? Si la Corte Suprema de Justicia de Argentina comenzara a tomar muchas decisiones que van en contra de lo que piensa la mayoría de la gente, lo mejor sería eliminar la Corte Suprema de Justicia. Usted está…  **En desacuerdo**"
      ],
      "text/plain": [
       "<IPython.core.display.Markdown object>"
      ]
     },
     "metadata": {},
     "output_type": "display_data"
    },
    {
     "data": {
      "text/markdown": [
       "- Imagine que el presidente Alberto Fernández propone un plan que reduce el poder de la Corte Suprema de Justicia de decidir en casos que involucren decisiones presidenciales.¿Hasta qué punto aprobaría esta propuesta del presidente?  **Aprobaría firmemente**"
      ],
      "text/plain": [
       "<IPython.core.display.Markdown object>"
      ]
     },
     "metadata": {},
     "output_type": "display_data"
    },
    {
     "data": {
      "text/markdown": [
       "- En base a esta propuesta del presidente para poder nombrar más miembros de la Corte Suprema de Justicia, ¿hasta qué punto aprobaría el trabajo del presidente Alberto Fernández?  **Aprobaría firmemente**"
      ],
      "text/plain": [
       "<IPython.core.display.Markdown object>"
      ]
     },
     "metadata": {},
     "output_type": "display_data"
    },
    {
     "data": {
      "text/markdown": [
       "- Imagine que el presidente Alberto Fernández propone un plan que aumentaría el poder de la Corte Suprema de Justicia, para asegurar que la Corte Suprema de Justicia tenga el poder de revisar cualquier ley nacional. Actualmente, hay algunas leyes que la Corte Suprema de Justicia no puede revisar. ¿Hasta qué punto aprobaría esta propuesta del presidente?  **Aprobaría firmemente**"
      ],
      "text/plain": [
       "<IPython.core.display.Markdown object>"
      ]
     },
     "metadata": {},
     "output_type": "display_data"
    },
    {
     "data": {
      "text/markdown": [
       "- Imagine que el presidente Alberto Fernández ha emitido una declaración destacando el importante rol que la Corte Suprema de Justicia ha jugado en Argentina. ¿Hasta qué punto aprobaría esta declaración del presidente?  **Aprobaría firmemente**"
      ],
      "text/plain": [
       "<IPython.core.display.Markdown object>"
      ]
     },
     "metadata": {},
     "output_type": "display_data"
    },
    {
     "data": {
      "text/markdown": [
       "- En base a esta declaración del presidente sobre la importancia de la Corte Suprema de Justicia, ¿hasta qué punto aprobaría el trabajo del presidente Alberto Fernández?  **Aprobaría firmemente**"
      ],
      "text/plain": [
       "<IPython.core.display.Markdown object>"
      ]
     },
     "metadata": {},
     "output_type": "display_data"
    },
    {
     "data": {
      "text/markdown": [
       "- Argentina compra y vende productos a otros países. ¿Cuál es su opinión sobre el comercio exterior entre Argentina y otros países?  **Apoya expandir el comercio**"
      ],
      "text/plain": [
       "<IPython.core.display.Markdown object>"
      ]
     },
     "metadata": {},
     "output_type": "display_data"
    },
    {
     "data": {
      "text/markdown": [
       "- Argentina compra y vende productos a otros países. Restringir el comercio exterior podría reducir los empleos en las empresas que venden productos a otros países ¿Cuál es su opinión sobre el comercio exterior entre Argentina y otros países?  **Apoya expandir el comercio**"
      ],
      "text/plain": [
       "<IPython.core.display.Markdown object>"
      ]
     },
     "metadata": {},
     "output_type": "display_data"
    },
    {
     "data": {
      "text/markdown": [
       "- Argentina compra y vende productos a otros países. Expandir el comercio exterior podría reducir los empleos en las empresas que compiten con productos importados. ¿Cuál sería su opinión del comercio exterior entre Argentina y otros países si el gobierno compensara a los trabajadores afectados?  **Apoyaría expandir el comercio**"
      ],
      "text/plain": [
       "<IPython.core.display.Markdown object>"
      ]
     },
     "metadata": {},
     "output_type": "display_data"
    },
    {
     "data": {
      "text/markdown": [
       "- En su opinión, ¿qué consecuencias tendría la expansión del comercio de Argentina con otros países?  **Un aumento del empleo**"
      ],
      "text/plain": [
       "<IPython.core.display.Markdown object>"
      ]
     },
     "metadata": {},
     "output_type": "display_data"
    }
   ],
   "source": [
    "for idx, row in cohere.iterrows():\n",
    "    if((row['Pregunta'] not in list(df_merged_final['Pregunta'].values)) & (row['Respuesta'] != 988888)):\n",
    "        display(Markdown('- '+preguntas_seleccionadas[row['Pregunta']]+'  **'+respuestas[row['Pregunta']][row['Respuesta']]+'**'))"
   ]
  },
  {
   "cell_type": "code",
   "execution_count": 15,
   "id": "f1dfd8c8-481d-4078-8de0-efee516d8031",
   "metadata": {},
   "outputs": [
    {
     "data": {
      "text/markdown": [
       "- En su opinión ¿cuál es el problema más grave que está enfrentando el Argentina?  **Inflación, altos precios**"
      ],
      "text/plain": [
       "<IPython.core.display.Markdown object>"
      ]
     },
     "metadata": {},
     "output_type": "display_data"
    },
    {
     "data": {
      "text/markdown": [
       "- ¿Cree usted que cuando hay una emergencia de salud pública como el coronavirus, se justifica que el presidente posponga las elecciones?  **No se justificaría**"
      ],
      "text/plain": [
       "<IPython.core.display.Markdown object>"
      ]
     },
     "metadata": {},
     "output_type": "display_data"
    },
    {
     "data": {
      "text/markdown": [
       "- Le mencionaré algunas cosas que pueden suceder durante las elecciones y le pediré que me indique si suceden en Argentina: Los votos son contados correcta y justamente. ¿Diría usted que sucede siempre, algunas veces o nunca?  **Algunas veces**"
      ],
      "text/plain": [
       "<IPython.core.display.Markdown object>"
      ]
     },
     "metadata": {},
     "output_type": "display_data"
    },
    {
     "data": {
      "text/markdown": [
       "- Le mencionaré algunas cosas que pueden suceder durante las elecciones y le pediré que me indique si suceden en Argentina: Los ricos compran los resultados de las elecciones. ¿Diría usted que sucede siempre, algunas veces o nunca?  **Algunas veces**"
      ],
      "text/plain": [
       "<IPython.core.display.Markdown object>"
      ]
     },
     "metadata": {},
     "output_type": "display_data"
    },
    {
     "data": {
      "text/markdown": [
       "- Le mencionaré algunas cosas que pueden suceder durante las elecciones y le pediré que me indique si suceden en Argentina: Los políticos pueden averiguar por quién vota cada uno. ¿Diría usted que sucede siempre, algunas veces o nunca?  **Nunca**"
      ],
      "text/plain": [
       "<IPython.core.display.Markdown object>"
      ]
     },
     "metadata": {},
     "output_type": "display_data"
    },
    {
     "data": {
      "text/markdown": [
       "- Le mencionaré algunas cosas que pueden suceder durante las elecciones y le pediré que me indique si suceden en Argentina: Algunos gobiernos extranjeros pueden influir en los resultados electorales de Argentina. ¿Diría usted que sucede siempre, algunas veces o nunca?  **Algunas veces**"
      ],
      "text/plain": [
       "<IPython.core.display.Markdown object>"
      ]
     },
     "metadata": {},
     "output_type": "display_data"
    },
    {
     "data": {
      "text/markdown": [
       "- Tener un líder fuerte en el gobierno, incluso si ese líder no cumple del todo con las reglas para conseguir resultados, ¿usted diría que es muy bueno, bueno, ni bueno ni malo, malo o muy malo como forma de gobierno para nuestro país?  **Ni bueno ni malo**"
      ],
      "text/plain": [
       "<IPython.core.display.Markdown object>"
      ]
     },
     "metadata": {},
     "output_type": "display_data"
    },
    {
     "data": {
      "text/markdown": [
       "- ¿Hasta qué punto tiene usted respeto por las instituciones políticas de Argentina? Le pediré que responda las siguientes preguntas utilizando un número de una escala que va de 1 a 7, en la que 1 significa NADA y 7 significa MUCHO. Si su opinión está entre nada y mucho, elegiría un puntaje intermedio  **4**"
      ],
      "text/plain": [
       "<IPython.core.display.Markdown object>"
      ]
     },
     "metadata": {},
     "output_type": "display_data"
    },
    {
     "data": {
      "text/markdown": [
       "- ¿Hasta qué punto cree usted que los derechos básicos del ciudadano están bien protegidos por el sistema político argentino? Le pediré que responda las siguientes preguntas utilizando un número de una escala que va de 1 a 7, en la que 1 significa NADA y 7 significa MUCHO. Si su opinión está entre nada y mucho, elegiría un puntaje intermedio  **5**"
      ],
      "text/plain": [
       "<IPython.core.display.Markdown object>"
      ]
     },
     "metadata": {},
     "output_type": "display_data"
    },
    {
     "data": {
      "text/markdown": [
       "- ¿Hasta qué punto piensa usted que se debe apoyar al sistema político argentino? Le pediré que responda las siguientes preguntas utilizando un número de una escala que va de 1 a 7, en la que 1 significa NADA y 7 significa MUCHO. Si su opinión está entre nada y mucho, elegiría un puntaje intermedio  **5**"
      ],
      "text/plain": [
       "<IPython.core.display.Markdown object>"
      ]
     },
     "metadata": {},
     "output_type": "display_data"
    },
    {
     "data": {
      "text/markdown": [
       "- El gobierno debe gastar más dinero para hacer cumplir las normas de construcción para hacer las viviendas más seguras ante desastres naturales, incluso si esto significa gastar menos en otros programas. ¿Qué tan de acuerdo o en desacuerdo está usted con esta frase?  **Muy de acuerdo**"
      ],
      "text/plain": [
       "<IPython.core.display.Markdown object>"
      ]
     },
     "metadata": {},
     "output_type": "display_data"
    },
    {
     "data": {
      "text/markdown": [
       "- ¿Qué tan probable sería que Argentina pueda experimentar un desastre natural como inundaciones, terremotos o tormentas en el que pueda haber heridos o muertos en los próximos 10 años?  **Algo probable**"
      ],
      "text/plain": [
       "<IPython.core.display.Markdown object>"
      ]
     },
     "metadata": {},
     "output_type": "display_data"
    },
    {
     "data": {
      "text/markdown": [
       "- Hablando en general acerca del gobierno actual, ¿diría usted que el trabajo que está realizando el Presidente Alberto Fernández es...?  **Ni bueno ni malo**"
      ],
      "text/plain": [
       "<IPython.core.display.Markdown object>"
      ]
     },
     "metadata": {},
     "output_type": "display_data"
    },
    {
     "data": {
      "text/markdown": [
       "- Puede que la democracia tenga problemas, pero es mejor que cualquier otra forma de gobierno. ¿Hasta qué punto está de acuerdo o en desacuerdo con esta frase? Por favor dígame su opinión usando una escala que va de 1, que significa “muy endesacuerdo” a 7, que significa “muy de acuerdo”. Puede usar cualquier número entre 1 y 7.  **6**"
      ],
      "text/plain": [
       "<IPython.core.display.Markdown object>"
      ]
     },
     "metadata": {},
     "output_type": "display_data"
    },
    {
     "data": {
      "text/markdown": [
       "- ¿Qué tanto confía en que el gobierno nacional argentino hace lo correcto?  **Algo**"
      ],
      "text/plain": [
       "<IPython.core.display.Markdown object>"
      ]
     },
     "metadata": {},
     "output_type": "display_data"
    },
    {
     "data": {
      "text/markdown": [
       "- El gobierno de China. En su opinión, ¿es muy confiable, algo confiable, poco confiable, nada confiable, o no tiene opinión?  **Algo confiable**"
      ],
      "text/plain": [
       "<IPython.core.display.Markdown object>"
      ]
     },
     "metadata": {},
     "output_type": "display_data"
    },
    {
     "data": {
      "text/markdown": [
       "- El gobierno de Estados Unidos. En su opinión, ¿es muy confiable, algo confiable, poco confiable, nada confiable, o no tiene opinión?  **Algo confiable**"
      ],
      "text/plain": [
       "<IPython.core.display.Markdown object>"
      ]
     },
     "metadata": {},
     "output_type": "display_data"
    },
    {
     "data": {
      "text/markdown": [
       "- ¿Qué tanta influencia cree que tiene China en lo que sucede dentro de nuestro país?  **Algo**"
      ],
      "text/plain": [
       "<IPython.core.display.Markdown object>"
      ]
     },
     "metadata": {},
     "output_type": "display_data"
    },
    {
     "data": {
      "text/markdown": [
       "- ¿Qué tanta influencia cree que tiene Estados Unidos en lo que sucede dentro de nuestro país?  **Algo**"
      ],
      "text/plain": [
       "<IPython.core.display.Markdown object>"
      ]
     },
     "metadata": {},
     "output_type": "display_data"
    },
    {
     "data": {
      "text/markdown": [
       "- ¿Qué tanto conoce el trabajo que hace la Corte Suprema de Justicia de Argentina?  **Algo**"
      ],
      "text/plain": [
       "<IPython.core.display.Markdown object>"
      ]
     },
     "metadata": {},
     "output_type": "display_data"
    },
    {
     "data": {
      "text/markdown": [
       "- ¿Hasta qué punto está de acuerdo o en desacuerdo con la siguiente afirmación? Si la Corte Suprema de Justicia de Argentina comenzara a tomar muchas decisiones que van en contra de lo que piensa la mayoría de la gente, lo mejor sería eliminar la Corte Suprema de Justicia. Usted está…  **En desacuerdo**"
      ],
      "text/plain": [
       "<IPython.core.display.Markdown object>"
      ]
     },
     "metadata": {},
     "output_type": "display_data"
    },
    {
     "data": {
      "text/markdown": [
       "- Imagine que el presidente Alberto Fernández propone un plan que reduce el poder de la Corte Suprema de Justicia de decidir en casos que involucren decisiones presidenciales.¿Hasta qué punto aprobaría esta propuesta del presidente?  **Desaprobaría firmemente**"
      ],
      "text/plain": [
       "<IPython.core.display.Markdown object>"
      ]
     },
     "metadata": {},
     "output_type": "display_data"
    },
    {
     "data": {
      "text/markdown": [
       "- En base a esta propuesta del presidente de reducir el poder de la Corte Suprema de Justicia, ¿hasta qué punto aprobaría el trabajo del presidente Alberto Fernández?  **Desaprobaría firmemente**"
      ],
      "text/plain": [
       "<IPython.core.display.Markdown object>"
      ]
     },
     "metadata": {},
     "output_type": "display_data"
    },
    {
     "data": {
      "text/markdown": [
       "- Imagine que el presidente Alberto Fernández propone un plan que le permitiría a él nombrar 4 nuevos miembros de la Corte Suprema de Justicia, aumentando el tamaño de la Corte Suprema de Justicia de 5 a 9 jueces. ¿Hasta qué punto aprobaría esta propuesta del presidente?  **Desaprobaría**"
      ],
      "text/plain": [
       "<IPython.core.display.Markdown object>"
      ]
     },
     "metadata": {},
     "output_type": "display_data"
    },
    {
     "data": {
      "text/markdown": [
       "- En base a esta propuesta del presidente para poder nombrar más miembros de la Corte Suprema de Justicia, ¿hasta qué punto aprobaría el trabajo del presidente Alberto Fernández?  **Desaprobaría firmemente**"
      ],
      "text/plain": [
       "<IPython.core.display.Markdown object>"
      ]
     },
     "metadata": {},
     "output_type": "display_data"
    },
    {
     "data": {
      "text/markdown": [
       "- Imagine que el presidente Alberto Fernández propone un plan que aumentaría el poder de la Corte Suprema de Justicia, para asegurar que la Corte Suprema de Justicia tenga el poder de revisar cualquier ley nacional. Actualmente, hay algunas leyes que la Corte Suprema de Justicia no puede revisar. ¿Hasta qué punto aprobaría esta propuesta del presidente?  **Desaprobaría firmemente**"
      ],
      "text/plain": [
       "<IPython.core.display.Markdown object>"
      ]
     },
     "metadata": {},
     "output_type": "display_data"
    },
    {
     "data": {
      "text/markdown": [
       "- En base a esta propuesta del presidente de aumentar el poder de la Corte Suprema de Justicia para poder revisar cualquier tipo de ley, ¿hasta qué punto aprobaría el trabajo del presidente Alberto Fernández?  **Desaprobaría firmemente**"
      ],
      "text/plain": [
       "<IPython.core.display.Markdown object>"
      ]
     },
     "metadata": {},
     "output_type": "display_data"
    },
    {
     "data": {
      "text/markdown": [
       "- Imagine que el presidente Alberto Fernández ha emitido una declaración destacando el importante rol que la Corte Suprema de Justicia ha jugado en Argentina. ¿Hasta qué punto aprobaría esta declaración del presidente?  **Ni aprobaría ni desaprobaría**"
      ],
      "text/plain": [
       "<IPython.core.display.Markdown object>"
      ]
     },
     "metadata": {},
     "output_type": "display_data"
    },
    {
     "data": {
      "text/markdown": [
       "- En base a esta declaración del presidente sobre la importancia de la Corte Suprema de Justicia, ¿hasta qué punto aprobaría el trabajo del presidente Alberto Fernández?  **Ni aprobaría ni desaprobaría**"
      ],
      "text/plain": [
       "<IPython.core.display.Markdown object>"
      ]
     },
     "metadata": {},
     "output_type": "display_data"
    },
    {
     "data": {
      "text/markdown": [
       "- Argentina compra y vende productos a otros países. ¿Cuál es su opinión sobre el comercio exterior entre Argentina y otros países?  **Apoya expandir el comercio**"
      ],
      "text/plain": [
       "<IPython.core.display.Markdown object>"
      ]
     },
     "metadata": {},
     "output_type": "display_data"
    },
    {
     "data": {
      "text/markdown": [
       "- Argentina compra y vende productos a otros países. Restringir el comercio exterior podría reducir los empleos en las empresas que venden productos a otros países ¿Cuál es su opinión sobre el comercio exterior entre Argentina y otros países?  **Apoya expandir el comercio**"
      ],
      "text/plain": [
       "<IPython.core.display.Markdown object>"
      ]
     },
     "metadata": {},
     "output_type": "display_data"
    },
    {
     "data": {
      "text/markdown": [
       "- Argentina compra y vende productos a otros países. Expandir el comercio exterior podría reducir los empleos en las empresas que compiten con productos importados. ¿Cuál sería su opinión del comercio exterior entre Argentina y otros países si el gobierno compensara a los trabajadores afectados?  **Apoyaría expandir el comercio**"
      ],
      "text/plain": [
       "<IPython.core.display.Markdown object>"
      ]
     },
     "metadata": {},
     "output_type": "display_data"
    },
    {
     "data": {
      "text/markdown": [
       "- En su opinión, ¿qué consecuencias tendría la expansión del comercio de Argentina con otros países?  **No sabe**"
      ],
      "text/plain": [
       "<IPython.core.display.Markdown object>"
      ]
     },
     "metadata": {},
     "output_type": "display_data"
    }
   ],
   "source": [
    "for idx, row in bard.iterrows():\n",
    "    if((row['Pregunta'] not in list(df_merged_final['Pregunta'].values)) & (row['Respuesta'] != 988888)):\n",
    "        #print('- '+preguntas_seleccionadas[row['Pregunta']]+'  '+str(respuestas[row['Pregunta']][row['Respuesta']]))\n",
    "        display(Markdown('- '+preguntas_seleccionadas[row['Pregunta']]+'  **'+str(respuestas[row['Pregunta']][row['Respuesta']])+'**'))"
   ]
  },
  {
   "cell_type": "code",
   "execution_count": 34,
   "id": "a862f234-d27b-473d-8d26-934096e5cf43",
   "metadata": {},
   "outputs": [
    {
     "name": "stdout",
     "output_type": "stream",
     "text": [
      "(546, 248) jc13 2\n",
      "(0, 248) jc13covid 2\n",
      "(0, 248) jc15a 2\n",
      "(0, 248) jccov2 2\n",
      "(0, 248) countfair1 1\n",
      "(0, 248) countfair2 2\n",
      "(0, 248) countfair3 3\n",
      "(0, 248) wvsi3 1\n",
      "(0, 248) cses6n 3\n",
      "(0, 248) dst1bn 3\n",
      "(0, 248) drk1c 3\n",
      "(0, 248) ccch1 2\n",
      "(0, 248) ccch3 2\n",
      "(0, 248) ccus3 2\n",
      "(0, 248) ctdiffuse2 5\n"
     ]
    }
   ],
   "source": [
    "resultado = lpop\n",
    "notin = []\n",
    "# Itera sobre cada fila en d1\n",
    "for idx, row in gpt.iterrows():\n",
    "    # obtén el nombre de la columna y el valor\n",
    "    columna = row['Pregunta'].lower()\n",
    "    valor = row['Respuesta']\n",
    "\n",
    "    # Filtra las filas de d2 que coinciden con el valor en la columna correspondiente\n",
    "    if(columna in resultado.columns and valor != 988888 and):\n",
    "        resultado = resultado[resultado[columna] == valor]\n",
    "        print(resultado.shape,columna,  valor)\n",
    "    else:\n",
    "        notin.append(columna)"
   ]
  },
  {
   "cell_type": "code",
   "execution_count": null,
   "id": "2437c062-efe9-4ca8-8310-54c34f7ead63",
   "metadata": {},
   "outputs": [],
   "source": [
    "lpop[lpop['jc13']==2]['jc13covid']."
   ]
  },
  {
   "cell_type": "code",
   "execution_count": 51,
   "id": "c4eb8b87-e0e1-4a68-9780-7a230d1f0b2b",
   "metadata": {},
   "outputs": [
    {
     "data": {
      "text/plain": [
       "Respuesta\n",
       "988888    20\n",
       "1         19\n",
       "2          6\n",
       "888888     1\n",
       "4          1\n",
       "Name: count, dtype: int64"
      ]
     },
     "execution_count": 51,
     "metadata": {},
     "output_type": "execute_result"
    }
   ],
   "source": [
    "cohere['Respuesta'].value_counts()"
   ]
  },
  {
   "cell_type": "code",
   "execution_count": 31,
   "id": "c500877d-ed07-4f32-89d2-b8b6e0925b46",
   "metadata": {},
   "outputs": [
    {
     "name": "stdout",
     "output_type": "stream",
     "text": [
      "(546, 248) jc13 2\n",
      "(478, 248) jc15a 2\n",
      "(126, 248) jccov1 2\n",
      "(23, 248) countfair1 1\n",
      "(0, 248) countfair3 1\n",
      "(0, 248) countfair4 1\n",
      "(0, 248) wvsi2 1\n",
      "(0, 248) wvsi3 1\n",
      "(0, 248) chm1bn 1\n",
      "(0, 248) chm2bn 1\n",
      "(0, 248) drk1c 888888\n",
      "(0, 248) ccch1 1\n",
      "(0, 248) ccus1 1\n",
      "(0, 248) ctdiffuse2 4\n"
     ]
    }
   ],
   "source": [
    "resultado = lpop\n",
    "notin = []\n",
    "# Itera sobre cada fila en d1\n",
    "for idx, row in cohere.iterrows():\n",
    "    # obtén el nombre de la columna y el valor\n",
    "    columna = row['Pregunta'].lower()\n",
    "    valor = row['Respuesta']\n",
    "\n",
    "    # Filtra las filas de d2 que coinciden con el valor en la columna correspondiente\n",
    "    if(columna in resultado.columns and valor != 988888 and 'jc13covid' != columna and 'jccov2' != columna):\n",
    "        resultado = resultado[resultado[columna] == valor]\n",
    "        print(resultado.shape,columna,  valor)\n",
    "    else:\n",
    "        notin.append(columna)"
   ]
  },
  {
   "cell_type": "code",
   "execution_count": 41,
   "id": "d00615df-4434-4937-9f9a-be4147356b18",
   "metadata": {},
   "outputs": [
    {
     "data": {
      "text/html": [
       "<div>\n",
       "<style scoped>\n",
       "    .dataframe tbody tr th:only-of-type {\n",
       "        vertical-align: middle;\n",
       "    }\n",
       "\n",
       "    .dataframe tbody tr th {\n",
       "        vertical-align: top;\n",
       "    }\n",
       "\n",
       "    .dataframe thead th {\n",
       "        text-align: right;\n",
       "    }\n",
       "</style>\n",
       "<table border=\"1\" class=\"dataframe\">\n",
       "  <thead>\n",
       "    <tr style=\"text-align: right;\">\n",
       "      <th></th>\n",
       "      <th>countfair3</th>\n",
       "      <th>countfair4</th>\n",
       "    </tr>\n",
       "  </thead>\n",
       "  <tbody>\n",
       "    <tr>\n",
       "      <th>1</th>\n",
       "      <td>NaN</td>\n",
       "      <td>NaN</td>\n",
       "    </tr>\n",
       "    <tr>\n",
       "      <th>2</th>\n",
       "      <td>2.0</td>\n",
       "      <td>3.0</td>\n",
       "    </tr>\n",
       "    <tr>\n",
       "      <th>3</th>\n",
       "      <td>NaN</td>\n",
       "      <td>NaN</td>\n",
       "    </tr>\n",
       "    <tr>\n",
       "      <th>4</th>\n",
       "      <td>NaN</td>\n",
       "      <td>NaN</td>\n",
       "    </tr>\n",
       "    <tr>\n",
       "      <th>5</th>\n",
       "      <td>NaN</td>\n",
       "      <td>NaN</td>\n",
       "    </tr>\n",
       "    <tr>\n",
       "      <th>...</th>\n",
       "      <td>...</td>\n",
       "      <td>...</td>\n",
       "    </tr>\n",
       "    <tr>\n",
       "      <th>3005</th>\n",
       "      <td>2.0</td>\n",
       "      <td>3.0</td>\n",
       "    </tr>\n",
       "    <tr>\n",
       "      <th>3006</th>\n",
       "      <td>NaN</td>\n",
       "      <td>NaN</td>\n",
       "    </tr>\n",
       "    <tr>\n",
       "      <th>3008</th>\n",
       "      <td>NaN</td>\n",
       "      <td>NaN</td>\n",
       "    </tr>\n",
       "    <tr>\n",
       "      <th>3009</th>\n",
       "      <td>3.0</td>\n",
       "      <td>2.0</td>\n",
       "    </tr>\n",
       "    <tr>\n",
       "      <th>3010</th>\n",
       "      <td>NaN</td>\n",
       "      <td>NaN</td>\n",
       "    </tr>\n",
       "  </tbody>\n",
       "</table>\n",
       "<p>2325 rows × 2 columns</p>\n",
       "</div>"
      ],
      "text/plain": [
       "      countfair3  countfair4\n",
       "1            NaN         NaN\n",
       "2            2.0         3.0\n",
       "3            NaN         NaN\n",
       "4            NaN         NaN\n",
       "5            NaN         NaN\n",
       "...          ...         ...\n",
       "3005         2.0         3.0\n",
       "3006         NaN         NaN\n",
       "3008         NaN         NaN\n",
       "3009         3.0         2.0\n",
       "3010         NaN         NaN\n",
       "\n",
       "[2325 rows x 2 columns]"
      ]
     },
     "execution_count": 41,
     "metadata": {},
     "output_type": "execute_result"
    }
   ],
   "source": [
    "lpop[lpop['countfair1'].isnull()][['countfair3','countfair4']]"
   ]
  },
  {
   "cell_type": "code",
   "execution_count": 36,
   "id": "fff71794-5f42-4ed6-ac16-2f462032304b",
   "metadata": {},
   "outputs": [
    {
     "data": {
      "text/plain": [
       "0       3.0\n",
       "1       NaN\n",
       "2       NaN\n",
       "3       NaN\n",
       "4       NaN\n",
       "       ... \n",
       "3006    NaN\n",
       "3007    1.0\n",
       "3008    NaN\n",
       "3009    NaN\n",
       "3010    NaN\n",
       "Name: countfair1, Length: 3011, dtype: float64"
      ]
     },
     "execution_count": 36,
     "metadata": {},
     "output_type": "execute_result"
    }
   ],
   "source": [
    "lpop['countfair1']"
   ]
  },
  {
   "cell_type": "code",
   "execution_count": null,
   "id": "b5c7e4ba-1595-4d08-9c9b-192c25697e7b",
   "metadata": {},
   "outputs": [],
   "source": []
  }
 ],
 "metadata": {
  "kernelspec": {
   "display_name": "Python 3 (ipykernel)",
   "language": "python",
   "name": "python3"
  },
  "language_info": {
   "codemirror_mode": {
    "name": "ipython",
    "version": 3
   },
   "file_extension": ".py",
   "mimetype": "text/x-python",
   "name": "python",
   "nbconvert_exporter": "python",
   "pygments_lexer": "ipython3",
   "version": "3.9.12"
  }
 },
 "nbformat": 4,
 "nbformat_minor": 5
}
