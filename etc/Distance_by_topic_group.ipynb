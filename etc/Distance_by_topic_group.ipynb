{
 "cells": [
  {
   "cell_type": "code",
   "execution_count": 1,
   "id": "95cf73eb-cb2b-40bd-a7c8-dd87e63a9617",
   "metadata": {},
   "outputs": [
    {
     "name": "stderr",
     "output_type": "stream",
     "text": [
      "<frozen importlib._bootstrap>:219: RuntimeWarning: scipy._lib.messagestream.MessageStream size changed, may indicate binary incompatibility. Expected 56 from C header, got 64 from PyObject\n"
     ]
    }
   ],
   "source": [
    "import pandas as pd\n",
    "from matplotlib import pyplot as plt\n",
    "#!pip install pivottablejs\n",
    "import seaborn as sns"
   ]
  },
  {
   "cell_type": "code",
   "execution_count": 2,
   "id": "5835533a-2142-42e8-b71e-636270393660",
   "metadata": {},
   "outputs": [],
   "source": [
    "latin = pd.read_stata('dataset/Latinobarometro_2020_Esp_Stata_v1_0.dta',convert_categoricals=False)\n",
    "gpt = pd.read_csv('respuestas_gpt35_turbo.csv')\n",
    "cohere = pd.read_csv('respuestas_cohere.csv')\n",
    "bard = pd.read_csv('respuestas_bard.csv')\n",
    "categorias = pd.read_csv('dataset/categorias_agrupadas.csv')"
   ]
  },
  {
   "cell_type": "code",
   "execution_count": 3,
   "id": "989b840a-ed75-416c-83df-3cacda866f34",
   "metadata": {},
   "outputs": [],
   "source": [
    "latin = latin[latin['idenpa']==32] #solo los argentinos"
   ]
  },
  {
   "cell_type": "code",
   "execution_count": 4,
   "id": "9d86b04c-83e2-4afa-99ce-3ce21c8a7970",
   "metadata": {},
   "outputs": [],
   "source": [
    "# Crea un StataReader para leer los metadatos\n",
    "reader = pd.io.stata.StataReader('dataset/Latinobarometro_2020_Esp_Stata_v1_0.dta')"
   ]
  },
  {
   "cell_type": "code",
   "execution_count": 5,
   "id": "132c8cc6-43f0-4cbf-af81-b0b7d0cc3b5e",
   "metadata": {},
   "outputs": [],
   "source": [
    "import pickle\n",
    "with open(r\"respuestas.pickle\", \"rb\") as input_file:\n",
    "    respuestas = pickle.load(input_file)\n",
    "with open(r\"preguntas_seleccionadas.pickle\", \"rb\") as input_file:\n",
    "    preguntas_seleccionadas = pickle.load(input_file)"
   ]
  },
  {
   "cell_type": "code",
   "execution_count": 6,
   "id": "6375d7d3-d462-47a0-9ea0-bf0e38421e85",
   "metadata": {},
   "outputs": [
    {
     "data": {
      "text/html": [
       "<div>\n",
       "<style scoped>\n",
       "    .dataframe tbody tr th:only-of-type {\n",
       "        vertical-align: middle;\n",
       "    }\n",
       "\n",
       "    .dataframe tbody tr th {\n",
       "        vertical-align: top;\n",
       "    }\n",
       "\n",
       "    .dataframe thead th {\n",
       "        text-align: right;\n",
       "    }\n",
       "</style>\n",
       "<table border=\"1\" class=\"dataframe\">\n",
       "  <thead>\n",
       "    <tr style=\"text-align: right;\">\n",
       "      <th></th>\n",
       "      <th>Latinobarometro</th>\n",
       "      <th>encuesta</th>\n",
       "      <th>categorias</th>\n",
       "      <th>pregunta_codigo</th>\n",
       "    </tr>\n",
       "  </thead>\n",
       "  <tbody>\n",
       "    <tr>\n",
       "      <th>0</th>\n",
       "      <td>P11S0037- En general, ¿Diría Ud. que está muy ...</td>\n",
       "      <td>Latinobarometro</td>\n",
       "      <td>democracia - excesos poder ej - presidencialismo</td>\n",
       "      <td>P11S0037</td>\n",
       "    </tr>\n",
       "    <tr>\n",
       "      <th>1</th>\n",
       "      <td>P11S0038- En general, ¿Diría Ud. que está muy ...</td>\n",
       "      <td>Latinobarometro</td>\n",
       "      <td>economia</td>\n",
       "      <td>P11S0038</td>\n",
       "    </tr>\n",
       "    <tr>\n",
       "      <th>2</th>\n",
       "      <td>P2ST- ¿Diría Ud. que Argentina en el año 2020 ...</td>\n",
       "      <td>Latinobarometro</td>\n",
       "      <td>relaciones internacionales</td>\n",
       "      <td>P2ST</td>\n",
       "    </tr>\n",
       "    <tr>\n",
       "      <th>3</th>\n",
       "      <td>P12ST- En términos generales ¿Diría usted que ...</td>\n",
       "      <td>Latinobarometro</td>\n",
       "      <td>democracia - excesos poder ej - presidencialismo</td>\n",
       "      <td>P12ST</td>\n",
       "    </tr>\n",
       "    <tr>\n",
       "      <th>4</th>\n",
       "      <td>P4STGBS- ¿Cómo calificaría en general la situa...</td>\n",
       "      <td>Latinobarometro</td>\n",
       "      <td>economia</td>\n",
       "      <td>P4STGBS</td>\n",
       "    </tr>\n",
       "  </tbody>\n",
       "</table>\n",
       "</div>"
      ],
      "text/plain": [
       "                                     Latinobarometro         encuesta  \\\n",
       "0  P11S0037- En general, ¿Diría Ud. que está muy ...  Latinobarometro   \n",
       "1  P11S0038- En general, ¿Diría Ud. que está muy ...  Latinobarometro   \n",
       "2  P2ST- ¿Diría Ud. que Argentina en el año 2020 ...  Latinobarometro   \n",
       "3  P12ST- En términos generales ¿Diría usted que ...  Latinobarometro   \n",
       "4  P4STGBS- ¿Cómo calificaría en general la situa...  Latinobarometro   \n",
       "\n",
       "                                         categorias pregunta_codigo  \n",
       "0  democracia - excesos poder ej - presidencialismo        P11S0037  \n",
       "1                                          economia        P11S0038  \n",
       "2                        relaciones internacionales            P2ST  \n",
       "3  democracia - excesos poder ej - presidencialismo           P12ST  \n",
       "4                                          economia         P4STGBS  "
      ]
     },
     "execution_count": 6,
     "metadata": {},
     "output_type": "execute_result"
    }
   ],
   "source": [
    "categorias['pregunta_codigo'] = categorias['Latinobarometro'].apply(lambda x: x.split('-')[0])\n",
    "categorias.head()"
   ]
  },
  {
   "cell_type": "code",
   "execution_count": 7,
   "id": "d3b0a239-0c87-4df8-8e16-871ddb172b23",
   "metadata": {},
   "outputs": [
    {
     "data": {
      "text/plain": [
       "relaciones internacionales                                                               16\n",
       "opinion                                                                                  15\n",
       "economia                                                                                 12\n",
       "democracia - excesos poder ej - presidencialismo                                         11\n",
       "ideologia politica - fuerzas armadas extranjeras - inmigracion extranjera - seguridad    11\n",
       "derechos sociales- pobreza - ingresos - educacion                                        11\n",
       "corrupcion - confianza en insitituciones                                                  3\n",
       "justicia - independencia de poderes                                                       1\n",
       "Name: categorias, dtype: int64"
      ]
     },
     "execution_count": 7,
     "metadata": {},
     "output_type": "execute_result"
    }
   ],
   "source": [
    "categorias['categorias'].value_counts()"
   ]
  },
  {
   "cell_type": "code",
   "execution_count": 8,
   "id": "0c584aa3-ff29-43a8-a3a1-8fadc22d3a91",
   "metadata": {},
   "outputs": [
    {
     "data": {
      "text/plain": [
       "['P26N_A',\n",
       " 'P30ST_A',\n",
       " 'P30ST_B',\n",
       " 'P30ST_C',\n",
       " 'P30ST_D',\n",
       " 'P30ST_E',\n",
       " 'P30ST_F',\n",
       " 'P31ST_A',\n",
       " 'P31ST_B',\n",
       " 'P31ST_C',\n",
       " 'P31ST_D',\n",
       " 'P31ST_E',\n",
       " 'P25N',\n",
       " 'P35N_A',\n",
       " 'P35N_B']"
      ]
     },
     "execution_count": 8,
     "metadata": {},
     "output_type": "execute_result"
    }
   ],
   "source": [
    "preguntas_topico = list(categorias[(categorias['categorias']=='relaciones internacionales')  ]['pregunta_codigo'].values)\n",
    "preguntas_topico[1:20]"
   ]
  },
  {
   "cell_type": "code",
   "execution_count": 39,
   "id": "77513916-12e9-43fb-a8b7-50a850d6e51d",
   "metadata": {},
   "outputs": [],
   "source": [
    "preguntas_sin_orden = ['P33N','P34N']"
   ]
  },
  {
   "cell_type": "code",
   "execution_count": 40,
   "id": "62e5c32b-512e-46ea-b859-04e31f5e12ff",
   "metadata": {},
   "outputs": [
    {
     "data": {
      "text/plain": [
       "(8, 7, 1.1428571428571428)"
      ]
     },
     "execution_count": 40,
     "metadata": {},
     "output_type": "execute_result"
    }
   ],
   "source": [
    "import math\n",
    "pregs = []\n",
    "def calculate_distance(responde,llm, preguntas):    \n",
    "    result = 0\n",
    "    num_pregs = 0\n",
    "    for pregunta in list(preguntas):\n",
    "        if((pregunta.lower() in responde.keys()) and (not math.isnan(responde[pregunta.lower()])) and (pregunta in list(llm['Pregunta'])) \n",
    "           and(llm[llm['Pregunta']== pregunta]['Respuesta'].values[0] > 0) and(llm[llm['Pregunta']== pregunta]['Respuesta'].values[0] < 15) and (not pregunta in preguntas_sin_orden )):\n",
    "            \n",
    "            result = result + (abs(responde[pregunta.lower()]-llm[llm['Pregunta']== pregunta]['Respuesta'].values[0]))\n",
    "            num_pregs = num_pregs + 1\n",
    "            pregs.append(pregunta)\n",
    "    if(num_pregs == 0):\n",
    "        result = -1\n",
    "        norm_result = -1\n",
    "    else:\n",
    "        norm_result = result/num_pregs\n",
    "    \n",
    "    return(result, num_pregs, norm_result)\n",
    "calculate_distance(latin.loc[0],bard,preguntas_topico)"
   ]
  },
  {
   "cell_type": "code",
   "execution_count": 10,
   "id": "e53b73da-b7e3-4242-a9a5-abe0ed650a4d",
   "metadata": {},
   "outputs": [
    {
     "data": {
      "text/html": [
       "<div>\n",
       "<style scoped>\n",
       "    .dataframe tbody tr th:only-of-type {\n",
       "        vertical-align: middle;\n",
       "    }\n",
       "\n",
       "    .dataframe tbody tr th {\n",
       "        vertical-align: top;\n",
       "    }\n",
       "\n",
       "    .dataframe thead th {\n",
       "        text-align: right;\n",
       "    }\n",
       "</style>\n",
       "<table border=\"1\" class=\"dataframe\">\n",
       "  <thead>\n",
       "    <tr style=\"text-align: right;\">\n",
       "      <th></th>\n",
       "      <th>Unnamed: 0</th>\n",
       "      <th>Pregunta</th>\n",
       "      <th>Respuesta</th>\n",
       "    </tr>\n",
       "  </thead>\n",
       "  <tbody>\n",
       "    <tr>\n",
       "      <th>44</th>\n",
       "      <td>44</td>\n",
       "      <td>P31ST_B</td>\n",
       "      <td>-2</td>\n",
       "    </tr>\n",
       "  </tbody>\n",
       "</table>\n",
       "</div>"
      ],
      "text/plain": [
       "    Unnamed: 0 Pregunta  Respuesta\n",
       "44          44  P31ST_B         -2"
      ]
     },
     "execution_count": 10,
     "metadata": {},
     "output_type": "execute_result"
    }
   ],
   "source": [
    "gpt[gpt['Pregunta']=='P31ST_B']"
   ]
  },
  {
   "cell_type": "code",
   "execution_count": 11,
   "id": "25cdc837-498a-43cd-885b-0b64797fdbab",
   "metadata": {},
   "outputs": [
    {
     "data": {
      "text/plain": [
       "(739, 408)"
      ]
     },
     "execution_count": 11,
     "metadata": {},
     "output_type": "execute_result"
    }
   ],
   "source": [
    "# Supongamos que latin_distances es un DataFrame de pandas.\n",
    "\n",
    "# Reemplazo \"Ninguna\", \"No sabe\", y \"No contesta\" en ideo por NA\n",
    "latin['p18st'] = latin['p18st'].replace([97, -1, -2], None)\n",
    "\n",
    "# Reemplazo \"No sabe\" y \"No contesta\" en interes politica por NA\n",
    "latin['p46stgbs'] = latin['p46stgbs'].replace([-1, -2], None)\n",
    "\n",
    "# No especificaste el reemplazo para 's13', pero si fuera similar a los anteriores, sería así:\n",
    "latin['s13'] = latin['s13'].replace([-5], None)\n",
    "\n",
    "df_clean = latin.dropna(subset=['p18st','p46stgbs','s13'])\n",
    "df_clean.shape"
   ]
  },
  {
   "cell_type": "code",
   "execution_count": 12,
   "id": "8b2f9e11-844f-431e-b816-5574d9214568",
   "metadata": {},
   "outputs": [
    {
     "name": "stderr",
     "output_type": "stream",
     "text": [
      "/tmp/ipykernel_37400/1763769106.py:1: SettingWithCopyWarning: \n",
      "A value is trying to be set on a copy of a slice from a DataFrame.\n",
      "Try using .loc[row_indexer,col_indexer] = value instead\n",
      "\n",
      "See the caveats in the documentation: https://pandas.pydata.org/pandas-docs/stable/user_guide/indexing.html#returning-a-view-versus-a-copy\n",
      "  df_clean['p18st'] = df_clean['p18st'].astype(float)\n",
      "/tmp/ipykernel_37400/1763769106.py:2: SettingWithCopyWarning: \n",
      "A value is trying to be set on a copy of a slice from a DataFrame.\n",
      "Try using .loc[row_indexer,col_indexer] = value instead\n",
      "\n",
      "See the caveats in the documentation: https://pandas.pydata.org/pandas-docs/stable/user_guide/indexing.html#returning-a-view-versus-a-copy\n",
      "  df_clean['p46stgbs'] = df_clean['p46stgbs'].astype(float)\n",
      "/tmp/ipykernel_37400/1763769106.py:3: SettingWithCopyWarning: \n",
      "A value is trying to be set on a copy of a slice from a DataFrame.\n",
      "Try using .loc[row_indexer,col_indexer] = value instead\n",
      "\n",
      "See the caveats in the documentation: https://pandas.pydata.org/pandas-docs/stable/user_guide/indexing.html#returning-a-view-versus-a-copy\n",
      "  df_clean['s13'] = df_clean['s13'].astype(float)\n"
     ]
    }
   ],
   "source": [
    "df_clean['p18st'] = df_clean['p18st'].astype(float)\n",
    "df_clean['p46stgbs'] = df_clean['p46stgbs'].astype(float)\n",
    "df_clean['s13'] = df_clean['s13'].astype(float)"
   ]
  },
  {
   "cell_type": "markdown",
   "id": "561dedbc-750d-4b1a-b664-0c91fafb1d92",
   "metadata": {},
   "source": [
    "# Relacione internacionales"
   ]
  },
  {
   "cell_type": "code",
   "execution_count": 14,
   "id": "5c83be23-8f39-42cf-a725-bf2ce6e8cef8",
   "metadata": {},
   "outputs": [
    {
     "name": "stderr",
     "output_type": "stream",
     "text": [
      "/tmp/ipykernel_37400/787502377.py:1: SettingWithCopyWarning: \n",
      "A value is trying to be set on a copy of a slice from a DataFrame.\n",
      "Try using .loc[row_indexer,col_indexer] = value instead\n",
      "\n",
      "See the caveats in the documentation: https://pandas.pydata.org/pandas-docs/stable/user_guide/indexing.html#returning-a-view-versus-a-copy\n",
      "  df_clean['bard_results'] = df_clean.apply(lambda x: calculate_distance(x, bard,preguntas_topico), axis=1)\n",
      "/tmp/ipykernel_37400/787502377.py:2: SettingWithCopyWarning: \n",
      "A value is trying to be set on a copy of a slice from a DataFrame.\n",
      "Try using .loc[row_indexer,col_indexer] = value instead\n",
      "\n",
      "See the caveats in the documentation: https://pandas.pydata.org/pandas-docs/stable/user_guide/indexing.html#returning-a-view-versus-a-copy\n",
      "  df_clean[['bard_distance', 'bard_num_preg','bard_distance_norm']] = pd.DataFrame(df_clean['bard_results'].tolist(), index=df_clean.index)\n",
      "/tmp/ipykernel_37400/787502377.py:2: SettingWithCopyWarning: \n",
      "A value is trying to be set on a copy of a slice from a DataFrame.\n",
      "Try using .loc[row_indexer,col_indexer] = value instead\n",
      "\n",
      "See the caveats in the documentation: https://pandas.pydata.org/pandas-docs/stable/user_guide/indexing.html#returning-a-view-versus-a-copy\n",
      "  df_clean[['bard_distance', 'bard_num_preg','bard_distance_norm']] = pd.DataFrame(df_clean['bard_results'].tolist(), index=df_clean.index)\n",
      "/tmp/ipykernel_37400/787502377.py:2: SettingWithCopyWarning: \n",
      "A value is trying to be set on a copy of a slice from a DataFrame.\n",
      "Try using .loc[row_indexer,col_indexer] = value instead\n",
      "\n",
      "See the caveats in the documentation: https://pandas.pydata.org/pandas-docs/stable/user_guide/indexing.html#returning-a-view-versus-a-copy\n",
      "  df_clean[['bard_distance', 'bard_num_preg','bard_distance_norm']] = pd.DataFrame(df_clean['bard_results'].tolist(), index=df_clean.index)\n"
     ]
    }
   ],
   "source": [
    "df_clean['bard_results'] = df_clean.apply(lambda x: calculate_distance(x, bard,preguntas_topico), axis=1)\n",
    "df_clean[['bard_distance', 'bard_num_preg','bard_distance_norm']] = pd.DataFrame(df_clean['bard_results'].tolist(), index=df_clean.index)"
   ]
  },
  {
   "cell_type": "code",
   "execution_count": 15,
   "id": "ce18c271-d464-4986-b540-f2361496f5d2",
   "metadata": {},
   "outputs": [
    {
     "data": {
      "text/plain": [
       "(739, 412)"
      ]
     },
     "execution_count": 15,
     "metadata": {},
     "output_type": "execute_result"
    }
   ],
   "source": [
    "df_clean[df_clean['bard_num_preg'] > 5].shape"
   ]
  },
  {
   "cell_type": "code",
   "execution_count": 16,
   "id": "e47d7677-c64f-4386-bcbb-986c39a03c3f",
   "metadata": {},
   "outputs": [
    {
     "name": "stdout",
     "output_type": "stream",
     "text": [
      "                            OLS Regression Results                            \n",
      "==============================================================================\n",
      "Dep. Variable:          bard_distance   R-squared:                       0.184\n",
      "Model:                            OLS   Adj. R-squared:                  0.176\n",
      "Method:                 Least Squares   F-statistic:                     23.54\n",
      "Date:                Fri, 14 Jul 2023   Prob (F-statistic):           6.24e-29\n",
      "Time:                        15:24:44   Log-Likelihood:                -2392.9\n",
      "No. Observations:                 739   AIC:                             4802.\n",
      "Df Residuals:                     731   BIC:                             4839.\n",
      "Df Model:                           7                                         \n",
      "Covariance Type:            nonrobust                                         \n",
      "==============================================================================\n",
      "                 coef    std err          t      P>|t|      [0.025      0.975]\n",
      "------------------------------------------------------------------------------\n",
      "const         10.4106      2.049      5.081      0.000       6.388      14.433\n",
      "edad          -0.0864      0.015     -5.617      0.000      -0.117      -0.056\n",
      "sexo           2.5631      0.462      5.550      0.000       1.656       3.470\n",
      "p18st         -0.2096      0.096     -2.177      0.030      -0.399      -0.021\n",
      "s16           -0.3314      0.093     -3.556      0.000      -0.514      -0.148\n",
      "s13            0.4324      0.479      0.904      0.366      -0.507       1.372\n",
      "s17            0.0283      0.058      0.484      0.629      -0.086       0.143\n",
      "p46stgbs       1.5006      0.241      6.223      0.000       1.027       1.974\n",
      "==============================================================================\n",
      "Omnibus:                      181.453   Durbin-Watson:                   1.993\n",
      "Prob(Omnibus):                  0.000   Jarque-Bera (JB):              406.067\n",
      "Skew:                           1.320   Prob(JB):                     6.66e-89\n",
      "Kurtosis:                       5.493   Cond. No.                         451.\n",
      "==============================================================================\n",
      "\n",
      "Notes:\n",
      "[1] Standard Errors assume that the covariance matrix of the errors is correctly specified.\n"
     ]
    }
   ],
   "source": [
    "# Importando las bibliotecas necesarias\n",
    "import statsmodels.api as sm\n",
    "import pandas as pd\n",
    "\n",
    "# Supongamos que tienes un DataFrame de pandas llamado df con 'Y' como tu variable dependiente \n",
    "# y 'X1', 'X2', 'X3' como tus variables independientes.\n",
    "\n",
    "X = df_clean[df_clean['bard_num_preg'] > 5][['edad','sexo', 'p18st' ,'s16','s13','s17','p46stgbs']] # estas son las variables independientes\n",
    "y = df_clean[df_clean['bard_num_preg'] > 5]['bard_distance'] # esta es la variable dependiente\n",
    "\n",
    "# Añadir una constante a las variables independientes\n",
    "X = sm.add_constant(X) \n",
    "\n",
    "# Ajustar el modelo\n",
    "model = sm.OLS(y, X)\n",
    "results = model.fit()\n",
    "\n",
    "# Imprimir los resultados\n",
    "print(results.summary())"
   ]
  },
  {
   "cell_type": "markdown",
   "id": "276b8f7c-19a5-4157-a32f-2abb0b8a0fee",
   "metadata": {
    "tags": []
   },
   "source": [
    "## Bard\n",
    "\n",
    "- Edad (adulto)\n",
    "- Sexo (hombre)\n",
    "- Ideología (derecha)\n",
    "- Estudios (Más)\n",
    "- Politizado(Más)"
   ]
  },
  {
   "cell_type": "code",
   "execution_count": 17,
   "id": "48b378e0-1f52-4e24-85ce-421316254661",
   "metadata": {},
   "outputs": [
    {
     "name": "stderr",
     "output_type": "stream",
     "text": [
      "/tmp/ipykernel_37400/2116707411.py:1: SettingWithCopyWarning: \n",
      "A value is trying to be set on a copy of a slice from a DataFrame.\n",
      "Try using .loc[row_indexer,col_indexer] = value instead\n",
      "\n",
      "See the caveats in the documentation: https://pandas.pydata.org/pandas-docs/stable/user_guide/indexing.html#returning-a-view-versus-a-copy\n",
      "  df_clean['gpt_results'] = df_clean.apply(lambda x: calculate_distance(x, gpt,preguntas_topico), axis=1)\n",
      "/tmp/ipykernel_37400/2116707411.py:2: SettingWithCopyWarning: \n",
      "A value is trying to be set on a copy of a slice from a DataFrame.\n",
      "Try using .loc[row_indexer,col_indexer] = value instead\n",
      "\n",
      "See the caveats in the documentation: https://pandas.pydata.org/pandas-docs/stable/user_guide/indexing.html#returning-a-view-versus-a-copy\n",
      "  df_clean[['gpt_distance', 'gpt_num_preg','gpt_distance_norm']] = pd.DataFrame(df_clean['gpt_results'].tolist(), index=df_clean.index)\n",
      "/tmp/ipykernel_37400/2116707411.py:2: SettingWithCopyWarning: \n",
      "A value is trying to be set on a copy of a slice from a DataFrame.\n",
      "Try using .loc[row_indexer,col_indexer] = value instead\n",
      "\n",
      "See the caveats in the documentation: https://pandas.pydata.org/pandas-docs/stable/user_guide/indexing.html#returning-a-view-versus-a-copy\n",
      "  df_clean[['gpt_distance', 'gpt_num_preg','gpt_distance_norm']] = pd.DataFrame(df_clean['gpt_results'].tolist(), index=df_clean.index)\n",
      "/tmp/ipykernel_37400/2116707411.py:2: SettingWithCopyWarning: \n",
      "A value is trying to be set on a copy of a slice from a DataFrame.\n",
      "Try using .loc[row_indexer,col_indexer] = value instead\n",
      "\n",
      "See the caveats in the documentation: https://pandas.pydata.org/pandas-docs/stable/user_guide/indexing.html#returning-a-view-versus-a-copy\n",
      "  df_clean[['gpt_distance', 'gpt_num_preg','gpt_distance_norm']] = pd.DataFrame(df_clean['gpt_results'].tolist(), index=df_clean.index)\n"
     ]
    }
   ],
   "source": [
    "df_clean['gpt_results'] = df_clean.apply(lambda x: calculate_distance(x, gpt,preguntas_topico), axis=1)\n",
    "df_clean[['gpt_distance', 'gpt_num_preg','gpt_distance_norm']] = pd.DataFrame(df_clean['gpt_results'].tolist(), index=df_clean.index)"
   ]
  },
  {
   "cell_type": "code",
   "execution_count": 19,
   "id": "765e4a25-dcef-469d-a369-629144b128da",
   "metadata": {},
   "outputs": [
    {
     "data": {
      "text/plain": [
       "(0, 416)"
      ]
     },
     "execution_count": 19,
     "metadata": {},
     "output_type": "execute_result"
    }
   ],
   "source": [
    "df_clean[df_clean['gpt_num_preg'] > 5].shape"
   ]
  },
  {
   "cell_type": "markdown",
   "id": "f2e298c9-4e0e-4f8b-8caa-ce642e21eac7",
   "metadata": {
    "tags": []
   },
   "source": [
    "## GPT\n",
    "\n",
    "- No hay suficientes casos"
   ]
  },
  {
   "cell_type": "code",
   "execution_count": 24,
   "id": "f5a4dd7c-0147-4e5f-83f9-30d83f717d25",
   "metadata": {},
   "outputs": [
    {
     "name": "stderr",
     "output_type": "stream",
     "text": [
      "/tmp/ipykernel_37400/2733857388.py:1: SettingWithCopyWarning: \n",
      "A value is trying to be set on a copy of a slice from a DataFrame.\n",
      "Try using .loc[row_indexer,col_indexer] = value instead\n",
      "\n",
      "See the caveats in the documentation: https://pandas.pydata.org/pandas-docs/stable/user_guide/indexing.html#returning-a-view-versus-a-copy\n",
      "  df_clean['cohere_results'] = df_clean.apply(lambda x: calculate_distance(x, cohere,preguntas_topico), axis=1)\n",
      "/tmp/ipykernel_37400/2733857388.py:2: SettingWithCopyWarning: \n",
      "A value is trying to be set on a copy of a slice from a DataFrame.\n",
      "Try using .loc[row_indexer,col_indexer] = value instead\n",
      "\n",
      "See the caveats in the documentation: https://pandas.pydata.org/pandas-docs/stable/user_guide/indexing.html#returning-a-view-versus-a-copy\n",
      "  df_clean[['cohere_distance', 'cohere_num_preg','cohere_distance_norm']] = pd.DataFrame(df_clean['cohere_results'].tolist(), index=df_clean.index)\n",
      "/tmp/ipykernel_37400/2733857388.py:2: SettingWithCopyWarning: \n",
      "A value is trying to be set on a copy of a slice from a DataFrame.\n",
      "Try using .loc[row_indexer,col_indexer] = value instead\n",
      "\n",
      "See the caveats in the documentation: https://pandas.pydata.org/pandas-docs/stable/user_guide/indexing.html#returning-a-view-versus-a-copy\n",
      "  df_clean[['cohere_distance', 'cohere_num_preg','cohere_distance_norm']] = pd.DataFrame(df_clean['cohere_results'].tolist(), index=df_clean.index)\n",
      "/tmp/ipykernel_37400/2733857388.py:2: SettingWithCopyWarning: \n",
      "A value is trying to be set on a copy of a slice from a DataFrame.\n",
      "Try using .loc[row_indexer,col_indexer] = value instead\n",
      "\n",
      "See the caveats in the documentation: https://pandas.pydata.org/pandas-docs/stable/user_guide/indexing.html#returning-a-view-versus-a-copy\n",
      "  df_clean[['cohere_distance', 'cohere_num_preg','cohere_distance_norm']] = pd.DataFrame(df_clean['cohere_results'].tolist(), index=df_clean.index)\n"
     ]
    }
   ],
   "source": [
    "df_clean['cohere_results'] = df_clean.apply(lambda x: calculate_distance(x, cohere,preguntas_topico), axis=1)\n",
    "df_clean[['cohere_distance', 'cohere_num_preg','cohere_distance_norm']] = pd.DataFrame(df_clean['cohere_results'].tolist(), index=df_clean.index)"
   ]
  },
  {
   "cell_type": "code",
   "execution_count": 25,
   "id": "620be132-87a0-4947-8e56-05af01ed11b0",
   "metadata": {},
   "outputs": [
    {
     "data": {
      "text/plain": [
       "(0, 420)"
      ]
     },
     "execution_count": 25,
     "metadata": {},
     "output_type": "execute_result"
    }
   ],
   "source": [
    "df_clean[df_clean['cohere_num_preg'] > 5].shape"
   ]
  },
  {
   "cell_type": "markdown",
   "id": "b4cf6dc7-5226-460c-a8d3-90dfce1a02c2",
   "metadata": {},
   "source": [
    "## Cohere\n",
    "\n",
    "- No hay suficientes casos"
   ]
  },
  {
   "cell_type": "markdown",
   "id": "062a9e7f-8b2c-40e2-a928-f42a30df6625",
   "metadata": {},
   "source": [
    "# Economía"
   ]
  },
  {
   "cell_type": "code",
   "execution_count": 20,
   "id": "7692137d-de12-4494-b1ad-44f8a0e19821",
   "metadata": {},
   "outputs": [
    {
     "data": {
      "text/plain": [
       "['P4STGBS',\n",
       " 'P5STGBS',\n",
       " 'P28ST',\n",
       " 'P29ST_A',\n",
       " 'P29ST_B',\n",
       " 'P29ST_C',\n",
       " 'P29ST_D',\n",
       " 'P29ST_E',\n",
       " 'P29ST_F',\n",
       " 'P33N',\n",
       " 'P34N']"
      ]
     },
     "execution_count": 20,
     "metadata": {},
     "output_type": "execute_result"
    }
   ],
   "source": [
    "preguntas_topico = list(categorias[(categorias['categorias']=='economia')  ]['pregunta_codigo'].values)\n",
    "preguntas_topico[1:20]"
   ]
  },
  {
   "cell_type": "code",
   "execution_count": 21,
   "id": "1312a125-2a7d-4010-8e3a-02e7d38b30ee",
   "metadata": {},
   "outputs": [
    {
     "name": "stderr",
     "output_type": "stream",
     "text": [
      "/tmp/ipykernel_37400/787502377.py:1: SettingWithCopyWarning: \n",
      "A value is trying to be set on a copy of a slice from a DataFrame.\n",
      "Try using .loc[row_indexer,col_indexer] = value instead\n",
      "\n",
      "See the caveats in the documentation: https://pandas.pydata.org/pandas-docs/stable/user_guide/indexing.html#returning-a-view-versus-a-copy\n",
      "  df_clean['bard_results'] = df_clean.apply(lambda x: calculate_distance(x, bard,preguntas_topico), axis=1)\n",
      "/tmp/ipykernel_37400/787502377.py:2: SettingWithCopyWarning: \n",
      "A value is trying to be set on a copy of a slice from a DataFrame.\n",
      "Try using .loc[row_indexer,col_indexer] = value instead\n",
      "\n",
      "See the caveats in the documentation: https://pandas.pydata.org/pandas-docs/stable/user_guide/indexing.html#returning-a-view-versus-a-copy\n",
      "  df_clean[['bard_distance', 'bard_num_preg','bard_distance_norm']] = pd.DataFrame(df_clean['bard_results'].tolist(), index=df_clean.index)\n"
     ]
    }
   ],
   "source": [
    "df_clean['bard_results'] = df_clean.apply(lambda x: calculate_distance(x, bard,preguntas_topico), axis=1)\n",
    "df_clean[['bard_distance', 'bard_num_preg','bard_distance_norm']] = pd.DataFrame(df_clean['bard_results'].tolist(), index=df_clean.index)"
   ]
  },
  {
   "cell_type": "code",
   "execution_count": 22,
   "id": "77622b58-ba68-4db6-9e39-ec8e22bfbac3",
   "metadata": {},
   "outputs": [
    {
     "data": {
      "text/plain": [
       "(739, 416)"
      ]
     },
     "execution_count": 22,
     "metadata": {},
     "output_type": "execute_result"
    }
   ],
   "source": [
    "df_clean[df_clean['bard_num_preg'] > 5].shape"
   ]
  },
  {
   "cell_type": "code",
   "execution_count": 23,
   "id": "426ab96f-3e39-4f91-8e55-62f6e35f4b72",
   "metadata": {},
   "outputs": [
    {
     "name": "stdout",
     "output_type": "stream",
     "text": [
      "                            OLS Regression Results                            \n",
      "==============================================================================\n",
      "Dep. Variable:          bard_distance   R-squared:                       0.095\n",
      "Model:                            OLS   Adj. R-squared:                  0.086\n",
      "Method:                 Least Squares   F-statistic:                     10.94\n",
      "Date:                Fri, 14 Jul 2023   Prob (F-statistic):           3.52e-13\n",
      "Time:                        15:28:05   Log-Likelihood:                -2243.5\n",
      "No. Observations:                 739   AIC:                             4503.\n",
      "Df Residuals:                     731   BIC:                             4540.\n",
      "Df Model:                           7                                         \n",
      "Covariance Type:            nonrobust                                         \n",
      "==============================================================================\n",
      "                 coef    std err          t      P>|t|      [0.025      0.975]\n",
      "------------------------------------------------------------------------------\n",
      "const         11.8391      1.674      7.073      0.000       8.553      15.125\n",
      "edad          -0.0453      0.013     -3.604      0.000      -0.070      -0.021\n",
      "sexo           1.1804      0.377      3.129      0.002       0.440       1.921\n",
      "p18st         -0.1851      0.079     -2.353      0.019      -0.339      -0.031\n",
      "s16           -0.1940      0.076     -2.548      0.011      -0.343      -0.044\n",
      "s13            0.8360      0.391      2.138      0.033       0.069       1.604\n",
      "s17           -0.0665      0.048     -1.393      0.164      -0.160       0.027\n",
      "p46stgbs       0.7374      0.197      3.743      0.000       0.351       1.124\n",
      "==============================================================================\n",
      "Omnibus:                      385.350   Durbin-Watson:                   1.866\n",
      "Prob(Omnibus):                  0.000   Jarque-Bera (JB):             2865.987\n",
      "Skew:                           2.253   Prob(JB):                         0.00\n",
      "Kurtosis:                      11.531   Cond. No.                         451.\n",
      "==============================================================================\n",
      "\n",
      "Notes:\n",
      "[1] Standard Errors assume that the covariance matrix of the errors is correctly specified.\n"
     ]
    }
   ],
   "source": [
    "# Importando las bibliotecas necesarias\n",
    "import statsmodels.api as sm\n",
    "import pandas as pd\n",
    "\n",
    "# Supongamos que tienes un DataFrame de pandas llamado df con 'Y' como tu variable dependiente \n",
    "# y 'X1', 'X2', 'X3' como tus variables independientes.\n",
    "\n",
    "X = df_clean[df_clean['bard_num_preg'] > 5][['edad','sexo', 'p18st' ,'s16','s13','s17','p46stgbs']] # estas son las variables independientes\n",
    "y = df_clean[df_clean['bard_num_preg'] > 5]['bard_distance'] # esta es la variable dependiente\n",
    "\n",
    "# Añadir una constante a las variables independientes\n",
    "X = sm.add_constant(X) \n",
    "\n",
    "# Ajustar el modelo\n",
    "model = sm.OLS(y, X)\n",
    "results = model.fit()\n",
    "\n",
    "# Imprimir los resultados\n",
    "print(results.summary())"
   ]
  },
  {
   "cell_type": "markdown",
   "id": "ddcbffe3-837b-48ef-aa43-447f8103a0c8",
   "metadata": {
    "tags": []
   },
   "source": [
    "## Bard\n",
    "\n",
    "- Edad (adulto)\n",
    "- Sexo (hombre)\n",
    "- Ideología (derecha)\n",
    "- Estudios (Más)\n",
    "- Irse del país (sí)\n",
    "- Politizado(Más)"
   ]
  },
  {
   "cell_type": "code",
   "execution_count": 27,
   "id": "09ba6d93-2c34-4149-a707-abd3f53c0b94",
   "metadata": {},
   "outputs": [
    {
     "name": "stderr",
     "output_type": "stream",
     "text": [
      "/tmp/ipykernel_37400/2116707411.py:1: SettingWithCopyWarning: \n",
      "A value is trying to be set on a copy of a slice from a DataFrame.\n",
      "Try using .loc[row_indexer,col_indexer] = value instead\n",
      "\n",
      "See the caveats in the documentation: https://pandas.pydata.org/pandas-docs/stable/user_guide/indexing.html#returning-a-view-versus-a-copy\n",
      "  df_clean['gpt_results'] = df_clean.apply(lambda x: calculate_distance(x, gpt,preguntas_topico), axis=1)\n",
      "/tmp/ipykernel_37400/2116707411.py:2: SettingWithCopyWarning: \n",
      "A value is trying to be set on a copy of a slice from a DataFrame.\n",
      "Try using .loc[row_indexer,col_indexer] = value instead\n",
      "\n",
      "See the caveats in the documentation: https://pandas.pydata.org/pandas-docs/stable/user_guide/indexing.html#returning-a-view-versus-a-copy\n",
      "  df_clean[['gpt_distance', 'gpt_num_preg','gpt_distance_norm']] = pd.DataFrame(df_clean['gpt_results'].tolist(), index=df_clean.index)\n"
     ]
    }
   ],
   "source": [
    "df_clean['gpt_results'] = df_clean.apply(lambda x: calculate_distance(x, gpt,preguntas_topico), axis=1)\n",
    "df_clean[['gpt_distance', 'gpt_num_preg','gpt_distance_norm']] = pd.DataFrame(df_clean['gpt_results'].tolist(), index=df_clean.index)"
   ]
  },
  {
   "cell_type": "code",
   "execution_count": 28,
   "id": "54ef7b00-9fa2-48c3-987f-a5d516a7d7c2",
   "metadata": {},
   "outputs": [
    {
     "data": {
      "text/plain": [
       "(0, 420)"
      ]
     },
     "execution_count": 28,
     "metadata": {},
     "output_type": "execute_result"
    }
   ],
   "source": [
    "df_clean[df_clean['gpt_num_preg'] > 5].shape"
   ]
  },
  {
   "cell_type": "markdown",
   "id": "3cd90f22-cb6e-4955-ac47-e5c789041d86",
   "metadata": {
    "tags": []
   },
   "source": [
    "## GPT\n",
    "\n",
    "- No hay suficientes casos"
   ]
  },
  {
   "cell_type": "code",
   "execution_count": 29,
   "id": "c49247d0-c348-40a3-896d-86fe180ab4ec",
   "metadata": {},
   "outputs": [
    {
     "name": "stderr",
     "output_type": "stream",
     "text": [
      "/tmp/ipykernel_37400/2733857388.py:1: SettingWithCopyWarning: \n",
      "A value is trying to be set on a copy of a slice from a DataFrame.\n",
      "Try using .loc[row_indexer,col_indexer] = value instead\n",
      "\n",
      "See the caveats in the documentation: https://pandas.pydata.org/pandas-docs/stable/user_guide/indexing.html#returning-a-view-versus-a-copy\n",
      "  df_clean['cohere_results'] = df_clean.apply(lambda x: calculate_distance(x, cohere,preguntas_topico), axis=1)\n",
      "/tmp/ipykernel_37400/2733857388.py:2: SettingWithCopyWarning: \n",
      "A value is trying to be set on a copy of a slice from a DataFrame.\n",
      "Try using .loc[row_indexer,col_indexer] = value instead\n",
      "\n",
      "See the caveats in the documentation: https://pandas.pydata.org/pandas-docs/stable/user_guide/indexing.html#returning-a-view-versus-a-copy\n",
      "  df_clean[['cohere_distance', 'cohere_num_preg','cohere_distance_norm']] = pd.DataFrame(df_clean['cohere_results'].tolist(), index=df_clean.index)\n"
     ]
    }
   ],
   "source": [
    "df_clean['cohere_results'] = df_clean.apply(lambda x: calculate_distance(x, cohere,preguntas_topico), axis=1)\n",
    "df_clean[['cohere_distance', 'cohere_num_preg','cohere_distance_norm']] = pd.DataFrame(df_clean['cohere_results'].tolist(), index=df_clean.index)"
   ]
  },
  {
   "cell_type": "code",
   "execution_count": 30,
   "id": "1046a935-15a2-4559-85d2-6c227a04c035",
   "metadata": {},
   "outputs": [
    {
     "data": {
      "text/plain": [
       "(0, 420)"
      ]
     },
     "execution_count": 30,
     "metadata": {},
     "output_type": "execute_result"
    }
   ],
   "source": [
    "df_clean[df_clean['cohere_num_preg'] > 5].shape"
   ]
  },
  {
   "cell_type": "markdown",
   "id": "c04dacff-1b8c-48c8-b415-5d2e478b6bb6",
   "metadata": {},
   "source": [
    "## Cohere\n",
    "\n",
    "- No hay suficientes casos\n",
    "\n",
    "# Democracia - excesos poder ej - presidencialismo"
   ]
  },
  {
   "cell_type": "code",
   "execution_count": 31,
   "id": "f47fe6fc-c7df-4f4f-8a31-64ce3b286057",
   "metadata": {},
   "outputs": [
    {
     "data": {
      "text/plain": [
       "['P12ST',\n",
       " 'P14GBS',\n",
       " 'P20ST_A',\n",
       " 'P20ST_B',\n",
       " 'P20ST_C',\n",
       " 'P20ST_D',\n",
       " 'P20ST_E',\n",
       " 'P21STM',\n",
       " 'P47ST_A',\n",
       " 'P47ST_B']"
      ]
     },
     "execution_count": 31,
     "metadata": {},
     "output_type": "execute_result"
    }
   ],
   "source": [
    "preguntas_topico = list(categorias[(categorias['categorias']=='democracia - excesos poder ej - presidencialismo')  ]['pregunta_codigo'].values)\n",
    "preguntas_topico[1:20]"
   ]
  },
  {
   "cell_type": "code",
   "execution_count": 32,
   "id": "13cca24f-b413-4b09-a63a-214d20e4a83f",
   "metadata": {},
   "outputs": [
    {
     "name": "stderr",
     "output_type": "stream",
     "text": [
      "/tmp/ipykernel_37400/787502377.py:1: SettingWithCopyWarning: \n",
      "A value is trying to be set on a copy of a slice from a DataFrame.\n",
      "Try using .loc[row_indexer,col_indexer] = value instead\n",
      "\n",
      "See the caveats in the documentation: https://pandas.pydata.org/pandas-docs/stable/user_guide/indexing.html#returning-a-view-versus-a-copy\n",
      "  df_clean['bard_results'] = df_clean.apply(lambda x: calculate_distance(x, bard,preguntas_topico), axis=1)\n",
      "/tmp/ipykernel_37400/787502377.py:2: SettingWithCopyWarning: \n",
      "A value is trying to be set on a copy of a slice from a DataFrame.\n",
      "Try using .loc[row_indexer,col_indexer] = value instead\n",
      "\n",
      "See the caveats in the documentation: https://pandas.pydata.org/pandas-docs/stable/user_guide/indexing.html#returning-a-view-versus-a-copy\n",
      "  df_clean[['bard_distance', 'bard_num_preg','bard_distance_norm']] = pd.DataFrame(df_clean['bard_results'].tolist(), index=df_clean.index)\n"
     ]
    }
   ],
   "source": [
    "df_clean['bard_results'] = df_clean.apply(lambda x: calculate_distance(x, bard,preguntas_topico), axis=1)\n",
    "df_clean[['bard_distance', 'bard_num_preg','bard_distance_norm']] = pd.DataFrame(df_clean['bard_results'].tolist(), index=df_clean.index)"
   ]
  },
  {
   "cell_type": "code",
   "execution_count": 33,
   "id": "38a31c32-de14-4c24-ad3c-5deead1851eb",
   "metadata": {},
   "outputs": [
    {
     "data": {
      "text/plain": [
       "(739, 420)"
      ]
     },
     "execution_count": 33,
     "metadata": {},
     "output_type": "execute_result"
    }
   ],
   "source": [
    "df_clean[df_clean['bard_num_preg'] > 5].shape"
   ]
  },
  {
   "cell_type": "code",
   "execution_count": 34,
   "id": "8fb452e5-ff78-4404-9688-e6e517435dae",
   "metadata": {},
   "outputs": [
    {
     "name": "stdout",
     "output_type": "stream",
     "text": [
      "                            OLS Regression Results                            \n",
      "==============================================================================\n",
      "Dep. Variable:          bard_distance   R-squared:                       0.102\n",
      "Model:                            OLS   Adj. R-squared:                  0.093\n",
      "Method:                 Least Squares   F-statistic:                     11.84\n",
      "Date:                Fri, 14 Jul 2023   Prob (F-statistic):           2.44e-14\n",
      "Time:                        15:40:02   Log-Likelihood:                -1830.3\n",
      "No. Observations:                 739   AIC:                             3677.\n",
      "Df Residuals:                     731   BIC:                             3713.\n",
      "Df Model:                           7                                         \n",
      "Covariance Type:            nonrobust                                         \n",
      "==============================================================================\n",
      "                 coef    std err          t      P>|t|      [0.025      0.975]\n",
      "------------------------------------------------------------------------------\n",
      "const          5.4465      0.957      5.692      0.000       3.568       7.325\n",
      "edad          -0.0007      0.007     -0.102      0.919      -0.015       0.013\n",
      "sexo           0.3008      0.216      1.395      0.163      -0.123       0.724\n",
      "p18st          0.1162      0.045      2.585      0.010       0.028       0.204\n",
      "s16           -0.0799      0.044     -1.837      0.067      -0.165       0.006\n",
      "s13           -0.5800      0.223     -2.595      0.010      -1.019      -0.141\n",
      "s17           -0.0177      0.027     -0.649      0.517      -0.071       0.036\n",
      "p46stgbs       0.7829      0.113      6.951      0.000       0.562       1.004\n",
      "==============================================================================\n",
      "Omnibus:                      212.209   Durbin-Watson:                   1.950\n",
      "Prob(Omnibus):                  0.000   Jarque-Bera (JB):              634.727\n",
      "Skew:                           1.402   Prob(JB):                    1.48e-138\n",
      "Kurtosis:                       6.572   Cond. No.                         451.\n",
      "==============================================================================\n",
      "\n",
      "Notes:\n",
      "[1] Standard Errors assume that the covariance matrix of the errors is correctly specified.\n"
     ]
    }
   ],
   "source": [
    "# Importando las bibliotecas necesarias\n",
    "import statsmodels.api as sm\n",
    "import pandas as pd\n",
    "\n",
    "# Supongamos que tienes un DataFrame de pandas llamado df con 'Y' como tu variable dependiente \n",
    "# y 'X1', 'X2', 'X3' como tus variables independientes.\n",
    "\n",
    "X = df_clean[df_clean['bard_num_preg'] > 5][['edad','sexo', 'p18st' ,'s16','s13','s17','p46stgbs']] # estas son las variables independientes\n",
    "y = df_clean[df_clean['bard_num_preg'] > 5]['bard_distance'] # esta es la variable dependiente\n",
    "\n",
    "# Añadir una constante a las variables independientes\n",
    "X = sm.add_constant(X) \n",
    "\n",
    "# Ajustar el modelo\n",
    "model = sm.OLS(y, X)\n",
    "results = model.fit()\n",
    "\n",
    "# Imprimir los resultados\n",
    "print(results.summary())"
   ]
  },
  {
   "cell_type": "markdown",
   "id": "9a7bfa2b-627a-4bd9-b4ca-159517d3d9e1",
   "metadata": {
    "tags": []
   },
   "source": [
    "## Bard\n",
    "\n",
    "- Ideología (izquierda)\n",
    "- Irse del país (no)\n",
    "- Politizado(Más)"
   ]
  },
  {
   "cell_type": "code",
   "execution_count": 35,
   "id": "23f726d9-bf6a-4f6d-89c1-8e20e62b86ca",
   "metadata": {},
   "outputs": [
    {
     "name": "stderr",
     "output_type": "stream",
     "text": [
      "/tmp/ipykernel_37400/2116707411.py:1: SettingWithCopyWarning: \n",
      "A value is trying to be set on a copy of a slice from a DataFrame.\n",
      "Try using .loc[row_indexer,col_indexer] = value instead\n",
      "\n",
      "See the caveats in the documentation: https://pandas.pydata.org/pandas-docs/stable/user_guide/indexing.html#returning-a-view-versus-a-copy\n",
      "  df_clean['gpt_results'] = df_clean.apply(lambda x: calculate_distance(x, gpt,preguntas_topico), axis=1)\n",
      "/tmp/ipykernel_37400/2116707411.py:2: SettingWithCopyWarning: \n",
      "A value is trying to be set on a copy of a slice from a DataFrame.\n",
      "Try using .loc[row_indexer,col_indexer] = value instead\n",
      "\n",
      "See the caveats in the documentation: https://pandas.pydata.org/pandas-docs/stable/user_guide/indexing.html#returning-a-view-versus-a-copy\n",
      "  df_clean[['gpt_distance', 'gpt_num_preg','gpt_distance_norm']] = pd.DataFrame(df_clean['gpt_results'].tolist(), index=df_clean.index)\n"
     ]
    }
   ],
   "source": [
    "df_clean['gpt_results'] = df_clean.apply(lambda x: calculate_distance(x, gpt,preguntas_topico), axis=1)\n",
    "df_clean[['gpt_distance', 'gpt_num_preg','gpt_distance_norm']] = pd.DataFrame(df_clean['gpt_results'].tolist(), index=df_clean.index)"
   ]
  },
  {
   "cell_type": "code",
   "execution_count": 36,
   "id": "ae4acd10-8ca4-419b-85ae-2c4d42946165",
   "metadata": {},
   "outputs": [
    {
     "data": {
      "text/plain": [
       "(0, 420)"
      ]
     },
     "execution_count": 36,
     "metadata": {},
     "output_type": "execute_result"
    }
   ],
   "source": [
    "df_clean[df_clean['gpt_num_preg'] > 5].shape"
   ]
  },
  {
   "cell_type": "markdown",
   "id": "4082ae44-e021-4005-922a-d4c28671cd5f",
   "metadata": {
    "tags": []
   },
   "source": [
    "## GPT\n",
    "\n",
    "- No hay suficientes casos"
   ]
  },
  {
   "cell_type": "code",
   "execution_count": 37,
   "id": "ffe253f9-73e2-4bb4-9a31-d68e2823bef2",
   "metadata": {},
   "outputs": [
    {
     "name": "stderr",
     "output_type": "stream",
     "text": [
      "/tmp/ipykernel_37400/2733857388.py:1: SettingWithCopyWarning: \n",
      "A value is trying to be set on a copy of a slice from a DataFrame.\n",
      "Try using .loc[row_indexer,col_indexer] = value instead\n",
      "\n",
      "See the caveats in the documentation: https://pandas.pydata.org/pandas-docs/stable/user_guide/indexing.html#returning-a-view-versus-a-copy\n",
      "  df_clean['cohere_results'] = df_clean.apply(lambda x: calculate_distance(x, cohere,preguntas_topico), axis=1)\n",
      "/tmp/ipykernel_37400/2733857388.py:2: SettingWithCopyWarning: \n",
      "A value is trying to be set on a copy of a slice from a DataFrame.\n",
      "Try using .loc[row_indexer,col_indexer] = value instead\n",
      "\n",
      "See the caveats in the documentation: https://pandas.pydata.org/pandas-docs/stable/user_guide/indexing.html#returning-a-view-versus-a-copy\n",
      "  df_clean[['cohere_distance', 'cohere_num_preg','cohere_distance_norm']] = pd.DataFrame(df_clean['cohere_results'].tolist(), index=df_clean.index)\n"
     ]
    }
   ],
   "source": [
    "df_clean['cohere_results'] = df_clean.apply(lambda x: calculate_distance(x, cohere,preguntas_topico), axis=1)\n",
    "df_clean[['cohere_distance', 'cohere_num_preg','cohere_distance_norm']] = pd.DataFrame(df_clean['cohere_results'].tolist(), index=df_clean.index)"
   ]
  },
  {
   "cell_type": "code",
   "execution_count": 38,
   "id": "ea64684d-cc01-433a-a4ca-7322f4956696",
   "metadata": {},
   "outputs": [
    {
     "data": {
      "text/plain": [
       "(0, 420)"
      ]
     },
     "execution_count": 38,
     "metadata": {},
     "output_type": "execute_result"
    }
   ],
   "source": [
    "df_clean[df_clean['cohere_num_preg'] > 5].shape"
   ]
  },
  {
   "cell_type": "markdown",
   "id": "d2faed35-87e8-4d2e-8521-e01c59bc9215",
   "metadata": {},
   "source": [
    "## Cohere\n",
    "\n",
    "- No hay suficientes casos\n",
    "\n",
    "# Ideologia politica - fuerzas armadas extranjeras - inmigracion extranjera - seguridad"
   ]
  },
  {
   "cell_type": "code",
   "execution_count": 42,
   "id": "0e7daafe-5f21-4df4-a15e-8283e788e297",
   "metadata": {},
   "outputs": [
    {
     "data": {
      "text/plain": [
       "['P36N_A',\n",
       " 'P36N_B',\n",
       " 'P42N',\n",
       " 'P37N_A',\n",
       " 'P37N_B',\n",
       " 'P37N_C',\n",
       " 'P37N_D',\n",
       " 'P47ST_J',\n",
       " 'P47ST_K',\n",
       " 'P49STGBS']"
      ]
     },
     "execution_count": 42,
     "metadata": {},
     "output_type": "execute_result"
    }
   ],
   "source": [
    "preguntas_topico = list(categorias[(categorias['categorias']=='ideologia politica - fuerzas armadas extranjeras - inmigracion extranjera - seguridad')  ]['pregunta_codigo'].values)\n",
    "preguntas_topico[1:20]"
   ]
  },
  {
   "cell_type": "code",
   "execution_count": 43,
   "id": "e9f2f671-b3eb-4ae3-918b-b47da0516490",
   "metadata": {},
   "outputs": [
    {
     "name": "stderr",
     "output_type": "stream",
     "text": [
      "/tmp/ipykernel_37400/787502377.py:1: SettingWithCopyWarning: \n",
      "A value is trying to be set on a copy of a slice from a DataFrame.\n",
      "Try using .loc[row_indexer,col_indexer] = value instead\n",
      "\n",
      "See the caveats in the documentation: https://pandas.pydata.org/pandas-docs/stable/user_guide/indexing.html#returning-a-view-versus-a-copy\n",
      "  df_clean['bard_results'] = df_clean.apply(lambda x: calculate_distance(x, bard,preguntas_topico), axis=1)\n",
      "/tmp/ipykernel_37400/787502377.py:2: SettingWithCopyWarning: \n",
      "A value is trying to be set on a copy of a slice from a DataFrame.\n",
      "Try using .loc[row_indexer,col_indexer] = value instead\n",
      "\n",
      "See the caveats in the documentation: https://pandas.pydata.org/pandas-docs/stable/user_guide/indexing.html#returning-a-view-versus-a-copy\n",
      "  df_clean[['bard_distance', 'bard_num_preg','bard_distance_norm']] = pd.DataFrame(df_clean['bard_results'].tolist(), index=df_clean.index)\n"
     ]
    }
   ],
   "source": [
    "df_clean['bard_results'] = df_clean.apply(lambda x: calculate_distance(x, bard,preguntas_topico), axis=1)\n",
    "df_clean[['bard_distance', 'bard_num_preg','bard_distance_norm']] = pd.DataFrame(df_clean['bard_results'].tolist(), index=df_clean.index)"
   ]
  },
  {
   "cell_type": "code",
   "execution_count": 44,
   "id": "fc316947-f7f0-48ff-877a-b6ab2b5286c1",
   "metadata": {},
   "outputs": [
    {
     "data": {
      "text/plain": [
       "(739, 420)"
      ]
     },
     "execution_count": 44,
     "metadata": {},
     "output_type": "execute_result"
    }
   ],
   "source": [
    "df_clean[df_clean['bard_num_preg'] > 5].shape"
   ]
  },
  {
   "cell_type": "code",
   "execution_count": 45,
   "id": "f6721d26-45b7-4e95-9195-ba3de9f93d05",
   "metadata": {},
   "outputs": [
    {
     "name": "stdout",
     "output_type": "stream",
     "text": [
      "                            OLS Regression Results                            \n",
      "==============================================================================\n",
      "Dep. Variable:          bard_distance   R-squared:                       0.030\n",
      "Model:                            OLS   Adj. R-squared:                  0.020\n",
      "Method:                 Least Squares   F-statistic:                     3.197\n",
      "Date:                Fri, 14 Jul 2023   Prob (F-statistic):            0.00242\n",
      "Time:                        15:49:16   Log-Likelihood:                -2392.4\n",
      "No. Observations:                 739   AIC:                             4801.\n",
      "Df Residuals:                     731   BIC:                             4838.\n",
      "Df Model:                           7                                         \n",
      "Covariance Type:            nonrobust                                         \n",
      "==============================================================================\n",
      "                 coef    std err          t      P>|t|      [0.025      0.975]\n",
      "------------------------------------------------------------------------------\n",
      "const          8.3941      2.047      4.100      0.000       4.375      12.414\n",
      "edad           0.0155      0.015      1.005      0.315      -0.015       0.046\n",
      "sexo           1.4020      0.461      3.038      0.002       0.496       2.308\n",
      "p18st         -0.0773      0.096     -0.804      0.422      -0.266       0.112\n",
      "s16           -0.0430      0.093     -0.462      0.644      -0.226       0.140\n",
      "s13            0.9432      0.478      1.972      0.049       0.004       1.882\n",
      "s17           -0.0199      0.058     -0.341      0.733      -0.135       0.095\n",
      "p46stgbs       0.4373      0.241      1.815      0.070      -0.036       0.910\n",
      "==============================================================================\n",
      "Omnibus:                      281.315   Durbin-Watson:                   1.955\n",
      "Prob(Omnibus):                  0.000   Jarque-Bera (JB):             1015.062\n",
      "Skew:                           1.810   Prob(JB):                    3.82e-221\n",
      "Kurtosis:                       7.456   Cond. No.                         451.\n",
      "==============================================================================\n",
      "\n",
      "Notes:\n",
      "[1] Standard Errors assume that the covariance matrix of the errors is correctly specified.\n"
     ]
    }
   ],
   "source": [
    "# Importando las bibliotecas necesarias\n",
    "import statsmodels.api as sm\n",
    "import pandas as pd\n",
    "\n",
    "# Supongamos que tienes un DataFrame de pandas llamado df con 'Y' como tu variable dependiente \n",
    "# y 'X1', 'X2', 'X3' como tus variables independientes.\n",
    "\n",
    "X = df_clean[df_clean['bard_num_preg'] > 5][['edad','sexo', 'p18st' ,'s16','s13','s17','p46stgbs']] # estas son las variables independientes\n",
    "y = df_clean[df_clean['bard_num_preg'] > 5]['bard_distance'] # esta es la variable dependiente\n",
    "\n",
    "# Añadir una constante a las variables independientes\n",
    "X = sm.add_constant(X) \n",
    "\n",
    "# Ajustar el modelo\n",
    "model = sm.OLS(y, X)\n",
    "results = model.fit()\n",
    "\n",
    "# Imprimir los resultados\n",
    "print(results.summary())"
   ]
  },
  {
   "cell_type": "markdown",
   "id": "00d3e63c-51dc-4904-b3c5-eebe25ff5827",
   "metadata": {
    "tags": []
   },
   "source": [
    "## Bard\n",
    "\n",
    "- Sexo (Hombre)\n",
    "- Irse del país (Sí)"
   ]
  },
  {
   "cell_type": "code",
   "execution_count": 56,
   "id": "11684ed9-8c1f-4df3-b79e-d2f6b23c3517",
   "metadata": {},
   "outputs": [
    {
     "name": "stderr",
     "output_type": "stream",
     "text": [
      "/tmp/ipykernel_37400/2116707411.py:1: SettingWithCopyWarning: \n",
      "A value is trying to be set on a copy of a slice from a DataFrame.\n",
      "Try using .loc[row_indexer,col_indexer] = value instead\n",
      "\n",
      "See the caveats in the documentation: https://pandas.pydata.org/pandas-docs/stable/user_guide/indexing.html#returning-a-view-versus-a-copy\n",
      "  df_clean['gpt_results'] = df_clean.apply(lambda x: calculate_distance(x, gpt,preguntas_topico), axis=1)\n",
      "/tmp/ipykernel_37400/2116707411.py:2: SettingWithCopyWarning: \n",
      "A value is trying to be set on a copy of a slice from a DataFrame.\n",
      "Try using .loc[row_indexer,col_indexer] = value instead\n",
      "\n",
      "See the caveats in the documentation: https://pandas.pydata.org/pandas-docs/stable/user_guide/indexing.html#returning-a-view-versus-a-copy\n",
      "  df_clean[['gpt_distance', 'gpt_num_preg','gpt_distance_norm']] = pd.DataFrame(df_clean['gpt_results'].tolist(), index=df_clean.index)\n"
     ]
    }
   ],
   "source": [
    "df_clean['gpt_results'] = df_clean.apply(lambda x: calculate_distance(x, gpt,preguntas_topico), axis=1)\n",
    "df_clean[['gpt_distance', 'gpt_num_preg','gpt_distance_norm']] = pd.DataFrame(df_clean['gpt_results'].tolist(), index=df_clean.index)"
   ]
  },
  {
   "cell_type": "code",
   "execution_count": 57,
   "id": "caea38c9-cd3b-4a75-aee8-ea9c110b5ed6",
   "metadata": {},
   "outputs": [
    {
     "data": {
      "text/plain": [
       "(0, 420)"
      ]
     },
     "execution_count": 57,
     "metadata": {},
     "output_type": "execute_result"
    }
   ],
   "source": [
    "df_clean[df_clean['gpt_num_preg'] > 5].shape"
   ]
  },
  {
   "cell_type": "markdown",
   "id": "1d2a686b-acd8-4f7b-960c-2c77fc77a2f4",
   "metadata": {
    "tags": []
   },
   "source": [
    "## GPT\n",
    "\n",
    "- No hay suficientes casos"
   ]
  },
  {
   "cell_type": "code",
   "execution_count": 52,
   "id": "7c659f9c-e6b5-49a5-bb3c-4128161b4042",
   "metadata": {},
   "outputs": [
    {
     "name": "stderr",
     "output_type": "stream",
     "text": [
      "/tmp/ipykernel_37400/2733857388.py:1: SettingWithCopyWarning: \n",
      "A value is trying to be set on a copy of a slice from a DataFrame.\n",
      "Try using .loc[row_indexer,col_indexer] = value instead\n",
      "\n",
      "See the caveats in the documentation: https://pandas.pydata.org/pandas-docs/stable/user_guide/indexing.html#returning-a-view-versus-a-copy\n",
      "  df_clean['cohere_results'] = df_clean.apply(lambda x: calculate_distance(x, cohere,preguntas_topico), axis=1)\n",
      "/tmp/ipykernel_37400/2733857388.py:2: SettingWithCopyWarning: \n",
      "A value is trying to be set on a copy of a slice from a DataFrame.\n",
      "Try using .loc[row_indexer,col_indexer] = value instead\n",
      "\n",
      "See the caveats in the documentation: https://pandas.pydata.org/pandas-docs/stable/user_guide/indexing.html#returning-a-view-versus-a-copy\n",
      "  df_clean[['cohere_distance', 'cohere_num_preg','cohere_distance_norm']] = pd.DataFrame(df_clean['cohere_results'].tolist(), index=df_clean.index)\n"
     ]
    }
   ],
   "source": [
    "df_clean['cohere_results'] = df_clean.apply(lambda x: calculate_distance(x, cohere,preguntas_topico), axis=1)\n",
    "df_clean[['cohere_distance', 'cohere_num_preg','cohere_distance_norm']] = pd.DataFrame(df_clean['cohere_results'].tolist(), index=df_clean.index)"
   ]
  },
  {
   "cell_type": "code",
   "execution_count": 53,
   "id": "3f4727aa-c135-460d-a45d-6917a3949815",
   "metadata": {},
   "outputs": [
    {
     "data": {
      "text/plain": [
       "(0, 420)"
      ]
     },
     "execution_count": 53,
     "metadata": {},
     "output_type": "execute_result"
    }
   ],
   "source": [
    "df_clean[df_clean['cohere_num_preg'] > 5].shape"
   ]
  },
  {
   "cell_type": "markdown",
   "id": "a63f0e31-3803-4088-9a90-a7c85417ce75",
   "metadata": {},
   "source": [
    "## Cohere\n",
    "\n",
    "- No hay suficientes casos\n",
    "\n",
    "# Opinión"
   ]
  },
  {
   "cell_type": "code",
   "execution_count": 58,
   "id": "e756f599-8dd3-4e86-886e-8361924d8f00",
   "metadata": {},
   "outputs": [
    {
     "data": {
      "text/plain": [
       "['P10STGBS',\n",
       " 'P17STGBS',\n",
       " 'P22ST_A',\n",
       " 'P22ST_B',\n",
       " 'P22ST_C',\n",
       " 'P22ST_D',\n",
       " 'P23N',\n",
       " 'P41N',\n",
       " 'P46STGBS',\n",
       " 'P47ST_C',\n",
       " 'P47ST_D',\n",
       " 'P48ST',\n",
       " 'P60N_B',\n",
       " 'P69ST']"
      ]
     },
     "execution_count": 58,
     "metadata": {},
     "output_type": "execute_result"
    }
   ],
   "source": [
    "preguntas_topico = list(categorias[(categorias['categorias']=='opinion')  ]['pregunta_codigo'].values)\n",
    "preguntas_topico[1:20]"
   ]
  },
  {
   "cell_type": "code",
   "execution_count": 59,
   "id": "5ae8864f-1bb3-48bc-8542-f656f4472933",
   "metadata": {},
   "outputs": [
    {
     "name": "stderr",
     "output_type": "stream",
     "text": [
      "/tmp/ipykernel_37400/787502377.py:1: SettingWithCopyWarning: \n",
      "A value is trying to be set on a copy of a slice from a DataFrame.\n",
      "Try using .loc[row_indexer,col_indexer] = value instead\n",
      "\n",
      "See the caveats in the documentation: https://pandas.pydata.org/pandas-docs/stable/user_guide/indexing.html#returning-a-view-versus-a-copy\n",
      "  df_clean['bard_results'] = df_clean.apply(lambda x: calculate_distance(x, bard,preguntas_topico), axis=1)\n",
      "/tmp/ipykernel_37400/787502377.py:2: SettingWithCopyWarning: \n",
      "A value is trying to be set on a copy of a slice from a DataFrame.\n",
      "Try using .loc[row_indexer,col_indexer] = value instead\n",
      "\n",
      "See the caveats in the documentation: https://pandas.pydata.org/pandas-docs/stable/user_guide/indexing.html#returning-a-view-versus-a-copy\n",
      "  df_clean[['bard_distance', 'bard_num_preg','bard_distance_norm']] = pd.DataFrame(df_clean['bard_results'].tolist(), index=df_clean.index)\n"
     ]
    }
   ],
   "source": [
    "df_clean['bard_results'] = df_clean.apply(lambda x: calculate_distance(x, bard,preguntas_topico), axis=1)\n",
    "df_clean[['bard_distance', 'bard_num_preg','bard_distance_norm']] = pd.DataFrame(df_clean['bard_results'].tolist(), index=df_clean.index)"
   ]
  },
  {
   "cell_type": "code",
   "execution_count": 60,
   "id": "0a6d3bda-946d-47a1-b543-07943e7afe5a",
   "metadata": {},
   "outputs": [
    {
     "data": {
      "text/plain": [
       "(739, 420)"
      ]
     },
     "execution_count": 60,
     "metadata": {},
     "output_type": "execute_result"
    }
   ],
   "source": [
    "df_clean[df_clean['bard_num_preg'] > 5].shape"
   ]
  },
  {
   "cell_type": "code",
   "execution_count": 61,
   "id": "e9cdedb7-fd38-4c5d-835c-9cbcf024b79c",
   "metadata": {},
   "outputs": [
    {
     "name": "stdout",
     "output_type": "stream",
     "text": [
      "                            OLS Regression Results                            \n",
      "==============================================================================\n",
      "Dep. Variable:          bard_distance   R-squared:                       0.105\n",
      "Model:                            OLS   Adj. R-squared:                  0.096\n",
      "Method:                 Least Squares   F-statistic:                     12.20\n",
      "Date:                Fri, 14 Jul 2023   Prob (F-statistic):           8.50e-15\n",
      "Time:                        15:52:52   Log-Likelihood:                -1997.1\n",
      "No. Observations:                 739   AIC:                             4010.\n",
      "Df Residuals:                     731   BIC:                             4047.\n",
      "Df Model:                           7                                         \n",
      "Covariance Type:            nonrobust                                         \n",
      "==============================================================================\n",
      "                 coef    std err          t      P>|t|      [0.025      0.975]\n",
      "------------------------------------------------------------------------------\n",
      "const         10.2679      1.199      8.563      0.000       7.914      12.622\n",
      "edad           0.0063      0.009      0.705      0.481      -0.011       0.024\n",
      "sexo           0.1217      0.270      0.450      0.653      -0.409       0.652\n",
      "p18st          0.0506      0.056      0.897      0.370      -0.060       0.161\n",
      "s16           -0.0791      0.055     -1.451      0.147      -0.186       0.028\n",
      "s13           -0.5860      0.280     -2.092      0.037      -1.136      -0.036\n",
      "s17           -0.0877      0.034     -2.563      0.011      -0.155      -0.021\n",
      "p46stgbs       1.0605      0.141      7.514      0.000       0.783       1.338\n",
      "==============================================================================\n",
      "Omnibus:                      126.059   Durbin-Watson:                   2.108\n",
      "Prob(Omnibus):                  0.000   Jarque-Bera (JB):              301.637\n",
      "Skew:                           0.907   Prob(JB):                     3.16e-66\n",
      "Kurtosis:                       5.551   Cond. No.                         451.\n",
      "==============================================================================\n",
      "\n",
      "Notes:\n",
      "[1] Standard Errors assume that the covariance matrix of the errors is correctly specified.\n"
     ]
    }
   ],
   "source": [
    "# Importando las bibliotecas necesarias\n",
    "import statsmodels.api as sm\n",
    "import pandas as pd\n",
    "\n",
    "# Supongamos que tienes un DataFrame de pandas llamado df con 'Y' como tu variable dependiente \n",
    "# y 'X1', 'X2', 'X3' como tus variables independientes.\n",
    "\n",
    "X = df_clean[df_clean['bard_num_preg'] > 5][['edad','sexo', 'p18st' ,'s16','s13','s17','p46stgbs']] # estas son las variables independientes\n",
    "y = df_clean[df_clean['bard_num_preg'] > 5]['bard_distance'] # esta es la variable dependiente\n",
    "\n",
    "# Añadir una constante a las variables independientes\n",
    "X = sm.add_constant(X) \n",
    "\n",
    "# Ajustar el modelo\n",
    "model = sm.OLS(y, X)\n",
    "results = model.fit()\n",
    "\n",
    "# Imprimir los resultados\n",
    "print(results.summary())"
   ]
  },
  {
   "cell_type": "markdown",
   "id": "bbb16745-058d-49cb-a3ba-780381dfe38f",
   "metadata": {
    "tags": []
   },
   "source": [
    "## Bard\n",
    "\n",
    "- Irse del pais (no)\n",
    "- Estudios de los padres (Mas)\n",
    "- Politizado"
   ]
  },
  {
   "cell_type": "code",
   "execution_count": 62,
   "id": "ebe47d4f-ddf2-4f90-b307-a5fdfef1397f",
   "metadata": {},
   "outputs": [
    {
     "name": "stderr",
     "output_type": "stream",
     "text": [
      "/tmp/ipykernel_37400/2116707411.py:1: SettingWithCopyWarning: \n",
      "A value is trying to be set on a copy of a slice from a DataFrame.\n",
      "Try using .loc[row_indexer,col_indexer] = value instead\n",
      "\n",
      "See the caveats in the documentation: https://pandas.pydata.org/pandas-docs/stable/user_guide/indexing.html#returning-a-view-versus-a-copy\n",
      "  df_clean['gpt_results'] = df_clean.apply(lambda x: calculate_distance(x, gpt,preguntas_topico), axis=1)\n",
      "/tmp/ipykernel_37400/2116707411.py:2: SettingWithCopyWarning: \n",
      "A value is trying to be set on a copy of a slice from a DataFrame.\n",
      "Try using .loc[row_indexer,col_indexer] = value instead\n",
      "\n",
      "See the caveats in the documentation: https://pandas.pydata.org/pandas-docs/stable/user_guide/indexing.html#returning-a-view-versus-a-copy\n",
      "  df_clean[['gpt_distance', 'gpt_num_preg','gpt_distance_norm']] = pd.DataFrame(df_clean['gpt_results'].tolist(), index=df_clean.index)\n"
     ]
    }
   ],
   "source": [
    "df_clean['gpt_results'] = df_clean.apply(lambda x: calculate_distance(x, gpt,preguntas_topico), axis=1)\n",
    "df_clean[['gpt_distance', 'gpt_num_preg','gpt_distance_norm']] = pd.DataFrame(df_clean['gpt_results'].tolist(), index=df_clean.index)"
   ]
  },
  {
   "cell_type": "code",
   "execution_count": 63,
   "id": "106da226-0767-4fce-89fb-42d6931d96fc",
   "metadata": {},
   "outputs": [
    {
     "data": {
      "text/plain": [
       "(0, 420)"
      ]
     },
     "execution_count": 63,
     "metadata": {},
     "output_type": "execute_result"
    }
   ],
   "source": [
    "df_clean[df_clean['gpt_num_preg'] > 5].shape"
   ]
  },
  {
   "cell_type": "markdown",
   "id": "cea88a38-9a8c-42e6-8df2-905fdb36ce21",
   "metadata": {
    "tags": []
   },
   "source": [
    "## GPT\n",
    "\n",
    "- No hay suficientes casos"
   ]
  },
  {
   "cell_type": "code",
   "execution_count": 64,
   "id": "ee0b0cf8-70c9-4dc9-824c-c5d24408fb9f",
   "metadata": {},
   "outputs": [
    {
     "name": "stderr",
     "output_type": "stream",
     "text": [
      "/tmp/ipykernel_37400/2733857388.py:1: SettingWithCopyWarning: \n",
      "A value is trying to be set on a copy of a slice from a DataFrame.\n",
      "Try using .loc[row_indexer,col_indexer] = value instead\n",
      "\n",
      "See the caveats in the documentation: https://pandas.pydata.org/pandas-docs/stable/user_guide/indexing.html#returning-a-view-versus-a-copy\n",
      "  df_clean['cohere_results'] = df_clean.apply(lambda x: calculate_distance(x, cohere,preguntas_topico), axis=1)\n",
      "/tmp/ipykernel_37400/2733857388.py:2: SettingWithCopyWarning: \n",
      "A value is trying to be set on a copy of a slice from a DataFrame.\n",
      "Try using .loc[row_indexer,col_indexer] = value instead\n",
      "\n",
      "See the caveats in the documentation: https://pandas.pydata.org/pandas-docs/stable/user_guide/indexing.html#returning-a-view-versus-a-copy\n",
      "  df_clean[['cohere_distance', 'cohere_num_preg','cohere_distance_norm']] = pd.DataFrame(df_clean['cohere_results'].tolist(), index=df_clean.index)\n"
     ]
    }
   ],
   "source": [
    "df_clean['cohere_results'] = df_clean.apply(lambda x: calculate_distance(x, cohere,preguntas_topico), axis=1)\n",
    "df_clean[['cohere_distance', 'cohere_num_preg','cohere_distance_norm']] = pd.DataFrame(df_clean['cohere_results'].tolist(), index=df_clean.index)"
   ]
  },
  {
   "cell_type": "code",
   "execution_count": 65,
   "id": "02504be3-f1c2-44af-abf5-d18b436b9c00",
   "metadata": {},
   "outputs": [
    {
     "data": {
      "text/plain": [
       "(0, 420)"
      ]
     },
     "execution_count": 65,
     "metadata": {},
     "output_type": "execute_result"
    }
   ],
   "source": [
    "df_clean[df_clean['cohere_num_preg'] > 5].shape"
   ]
  },
  {
   "cell_type": "markdown",
   "id": "cb841a5d-3bff-47d8-a4c7-01b287ef7721",
   "metadata": {
    "tags": []
   },
   "source": [
    "## Cohere\n",
    "\n",
    "- No hay suficientes casos\n",
    "\n",
    "# derechos sociales- pobreza - ingresos - educacion"
   ]
  },
  {
   "cell_type": "code",
   "execution_count": 66,
   "id": "a55c1d1b-2510-4a25-9dcf-8f460cde9308",
   "metadata": {},
   "outputs": [
    {
     "data": {
      "text/plain": [
       "['P19ST_A',\n",
       " 'P29ST_G',\n",
       " 'P29ST_H',\n",
       " 'P47ST_E',\n",
       " 'P47ST_F',\n",
       " 'P47ST_G',\n",
       " 'P47ST_H',\n",
       " 'P47ST_I',\n",
       " 'P47ST_L',\n",
       " 'P47ST_M']"
      ]
     },
     "execution_count": 66,
     "metadata": {},
     "output_type": "execute_result"
    }
   ],
   "source": [
    "preguntas_topico = list(categorias[(categorias['categorias']=='derechos sociales- pobreza - ingresos - educacion')  ]['pregunta_codigo'].values)\n",
    "preguntas_topico[1:20]"
   ]
  },
  {
   "cell_type": "code",
   "execution_count": 67,
   "id": "fa0e4e39-7741-4fc4-a1cd-dc8f8e9ee953",
   "metadata": {},
   "outputs": [
    {
     "name": "stderr",
     "output_type": "stream",
     "text": [
      "/tmp/ipykernel_37400/787502377.py:1: SettingWithCopyWarning: \n",
      "A value is trying to be set on a copy of a slice from a DataFrame.\n",
      "Try using .loc[row_indexer,col_indexer] = value instead\n",
      "\n",
      "See the caveats in the documentation: https://pandas.pydata.org/pandas-docs/stable/user_guide/indexing.html#returning-a-view-versus-a-copy\n",
      "  df_clean['bard_results'] = df_clean.apply(lambda x: calculate_distance(x, bard,preguntas_topico), axis=1)\n",
      "/tmp/ipykernel_37400/787502377.py:2: SettingWithCopyWarning: \n",
      "A value is trying to be set on a copy of a slice from a DataFrame.\n",
      "Try using .loc[row_indexer,col_indexer] = value instead\n",
      "\n",
      "See the caveats in the documentation: https://pandas.pydata.org/pandas-docs/stable/user_guide/indexing.html#returning-a-view-versus-a-copy\n",
      "  df_clean[['bard_distance', 'bard_num_preg','bard_distance_norm']] = pd.DataFrame(df_clean['bard_results'].tolist(), index=df_clean.index)\n"
     ]
    }
   ],
   "source": [
    "df_clean['bard_results'] = df_clean.apply(lambda x: calculate_distance(x, bard,preguntas_topico), axis=1)\n",
    "df_clean[['bard_distance', 'bard_num_preg','bard_distance_norm']] = pd.DataFrame(df_clean['bard_results'].tolist(), index=df_clean.index)"
   ]
  },
  {
   "cell_type": "code",
   "execution_count": 68,
   "id": "a43ac277-0422-46c1-87ee-1ea8439beeeb",
   "metadata": {},
   "outputs": [
    {
     "data": {
      "text/plain": [
       "(739, 420)"
      ]
     },
     "execution_count": 68,
     "metadata": {},
     "output_type": "execute_result"
    }
   ],
   "source": [
    "df_clean[df_clean['bard_num_preg'] > 5].shape"
   ]
  },
  {
   "cell_type": "code",
   "execution_count": 69,
   "id": "88680c54-982d-4332-9870-11e1eb828f8e",
   "metadata": {},
   "outputs": [
    {
     "name": "stdout",
     "output_type": "stream",
     "text": [
      "                            OLS Regression Results                            \n",
      "==============================================================================\n",
      "Dep. Variable:          bard_distance   R-squared:                       0.016\n",
      "Model:                            OLS   Adj. R-squared:                  0.007\n",
      "Method:                 Least Squares   F-statistic:                     1.703\n",
      "Date:                Fri, 14 Jul 2023   Prob (F-statistic):              0.105\n",
      "Time:                        15:55:35   Log-Likelihood:                -2069.2\n",
      "No. Observations:                 739   AIC:                             4154.\n",
      "Df Residuals:                     731   BIC:                             4191.\n",
      "Df Model:                           7                                         \n",
      "Covariance Type:            nonrobust                                         \n",
      "==============================================================================\n",
      "                 coef    std err          t      P>|t|      [0.025      0.975]\n",
      "------------------------------------------------------------------------------\n",
      "const          7.9792      1.322      6.035      0.000       5.384      10.575\n",
      "edad          -0.0004      0.010     -0.040      0.968      -0.020       0.019\n",
      "sexo           0.3075      0.298      1.032      0.302      -0.278       0.893\n",
      "p18st         -0.0250      0.062     -0.402      0.687      -0.147       0.097\n",
      "s16           -0.0241      0.060     -0.401      0.688      -0.142       0.094\n",
      "s13           -0.1008      0.309     -0.326      0.744      -0.707       0.505\n",
      "s17           -0.0312      0.038     -0.827      0.409      -0.105       0.043\n",
      "p46stgbs       0.4271      0.156      2.745      0.006       0.122       0.733\n",
      "==============================================================================\n",
      "Omnibus:                      637.598   Durbin-Watson:                   2.095\n",
      "Prob(Omnibus):                  0.000   Jarque-Bera (JB):            17668.576\n",
      "Skew:                           3.815   Prob(JB):                         0.00\n",
      "Kurtosis:                      25.706   Cond. No.                         451.\n",
      "==============================================================================\n",
      "\n",
      "Notes:\n",
      "[1] Standard Errors assume that the covariance matrix of the errors is correctly specified.\n"
     ]
    }
   ],
   "source": [
    "# Importando las bibliotecas necesarias\n",
    "import statsmodels.api as sm\n",
    "import pandas as pd\n",
    "\n",
    "# Supongamos que tienes un DataFrame de pandas llamado df con 'Y' como tu variable dependiente \n",
    "# y 'X1', 'X2', 'X3' como tus variables independientes.\n",
    "\n",
    "X = df_clean[df_clean['bard_num_preg'] > 5][['edad','sexo', 'p18st' ,'s16','s13','s17','p46stgbs']] # estas son las variables independientes\n",
    "y = df_clean[df_clean['bard_num_preg'] > 5]['bard_distance'] # esta es la variable dependiente\n",
    "\n",
    "# Añadir una constante a las variables independientes\n",
    "X = sm.add_constant(X) \n",
    "\n",
    "# Ajustar el modelo\n",
    "model = sm.OLS(y, X)\n",
    "results = model.fit()\n",
    "\n",
    "# Imprimir los resultados\n",
    "print(results.summary())"
   ]
  },
  {
   "cell_type": "markdown",
   "id": "eb3e12a4-9c8f-48ef-8a27-0dbcbbb4d854",
   "metadata": {
    "tags": []
   },
   "source": [
    "## Bard\n",
    "\n",
    "- Politizado"
   ]
  },
  {
   "cell_type": "code",
   "execution_count": 70,
   "id": "e7282a97-1b15-4eab-abfa-d9d1bc7ef69a",
   "metadata": {},
   "outputs": [
    {
     "name": "stderr",
     "output_type": "stream",
     "text": [
      "/tmp/ipykernel_37400/2116707411.py:1: SettingWithCopyWarning: \n",
      "A value is trying to be set on a copy of a slice from a DataFrame.\n",
      "Try using .loc[row_indexer,col_indexer] = value instead\n",
      "\n",
      "See the caveats in the documentation: https://pandas.pydata.org/pandas-docs/stable/user_guide/indexing.html#returning-a-view-versus-a-copy\n",
      "  df_clean['gpt_results'] = df_clean.apply(lambda x: calculate_distance(x, gpt,preguntas_topico), axis=1)\n",
      "/tmp/ipykernel_37400/2116707411.py:2: SettingWithCopyWarning: \n",
      "A value is trying to be set on a copy of a slice from a DataFrame.\n",
      "Try using .loc[row_indexer,col_indexer] = value instead\n",
      "\n",
      "See the caveats in the documentation: https://pandas.pydata.org/pandas-docs/stable/user_guide/indexing.html#returning-a-view-versus-a-copy\n",
      "  df_clean[['gpt_distance', 'gpt_num_preg','gpt_distance_norm']] = pd.DataFrame(df_clean['gpt_results'].tolist(), index=df_clean.index)\n"
     ]
    }
   ],
   "source": [
    "df_clean['gpt_results'] = df_clean.apply(lambda x: calculate_distance(x, gpt,preguntas_topico), axis=1)\n",
    "df_clean[['gpt_distance', 'gpt_num_preg','gpt_distance_norm']] = pd.DataFrame(df_clean['gpt_results'].tolist(), index=df_clean.index)"
   ]
  },
  {
   "cell_type": "code",
   "execution_count": 71,
   "id": "b38d1cf2-2be1-452a-b0ac-cacfa973e637",
   "metadata": {},
   "outputs": [
    {
     "data": {
      "text/plain": [
       "(739, 420)"
      ]
     },
     "execution_count": 71,
     "metadata": {},
     "output_type": "execute_result"
    }
   ],
   "source": [
    "df_clean[df_clean['gpt_num_preg'] > 5].shape"
   ]
  },
  {
   "cell_type": "code",
   "execution_count": 75,
   "id": "b5447e04-defa-41f9-a0a1-f8cee8074f64",
   "metadata": {},
   "outputs": [
    {
     "name": "stdout",
     "output_type": "stream",
     "text": [
      "                            OLS Regression Results                            \n",
      "==============================================================================\n",
      "Dep. Variable:           gpt_distance   R-squared:                       0.057\n",
      "Model:                            OLS   Adj. R-squared:                  0.048\n",
      "Method:                 Least Squares   F-statistic:                     6.271\n",
      "Date:                Fri, 14 Jul 2023   Prob (F-statistic):           3.69e-07\n",
      "Time:                        15:56:34   Log-Likelihood:                -1965.9\n",
      "No. Observations:                 739   AIC:                             3948.\n",
      "Df Residuals:                     731   BIC:                             3985.\n",
      "Df Model:                           7                                         \n",
      "Covariance Type:            nonrobust                                         \n",
      "==============================================================================\n",
      "                 coef    std err          t      P>|t|      [0.025      0.975]\n",
      "------------------------------------------------------------------------------\n",
      "const          8.7973      1.150      7.652      0.000       6.540      11.054\n",
      "edad          -0.0313      0.009     -3.631      0.000      -0.048      -0.014\n",
      "sexo           0.1823      0.259      0.703      0.482      -0.326       0.691\n",
      "p18st         -0.0415      0.054     -0.768      0.443      -0.148       0.065\n",
      "s16           -0.0841      0.052     -1.609      0.108      -0.187       0.019\n",
      "s13           -0.4938      0.269     -1.839      0.066      -1.021       0.033\n",
      "s17           -0.0375      0.033     -1.142      0.254      -0.102       0.027\n",
      "p46stgbs       0.4618      0.135      3.413      0.001       0.196       0.727\n",
      "==============================================================================\n",
      "Omnibus:                      426.672   Durbin-Watson:                   2.216\n",
      "Prob(Omnibus):                  0.000   Jarque-Bera (JB):             4722.406\n",
      "Skew:                           2.401   Prob(JB):                         0.00\n",
      "Kurtosis:                      14.416   Cond. No.                         451.\n",
      "==============================================================================\n",
      "\n",
      "Notes:\n",
      "[1] Standard Errors assume that the covariance matrix of the errors is correctly specified.\n"
     ]
    }
   ],
   "source": [
    "# Importando las bibliotecas necesarias\n",
    "import statsmodels.api as sm\n",
    "import pandas as pd\n",
    "\n",
    "# Supongamos que tienes un DataFrame de pandas llamado df con 'Y' como tu variable dependiente \n",
    "# y 'X1', 'X2', 'X3' como tus variables independientes.\n",
    "\n",
    "X = df_clean[df_clean['gpt_num_preg'] > 5][['edad','sexo', 'p18st' ,'s16','s13','s17','p46stgbs']] # estas son las variables independientes\n",
    "y = df_clean[df_clean['gpt_num_preg'] > 5]['gpt_distance'] # esta es la variable dependiente\n",
    "\n",
    "# Añadir una constante a las variables independientes\n",
    "X = sm.add_constant(X) \n",
    "\n",
    "# Ajustar el modelo\n",
    "model = sm.OLS(y, X)\n",
    "results = model.fit()\n",
    "\n",
    "# Imprimir los resultados\n",
    "print(results.summary())"
   ]
  },
  {
   "cell_type": "markdown",
   "id": "63334116-ab79-453c-b203-615c14aa282c",
   "metadata": {
    "tags": []
   },
   "source": [
    "## GPT\n",
    "\n",
    "- Edad (adulto)\n",
    "- Politizado"
   ]
  },
  {
   "cell_type": "code",
   "execution_count": 72,
   "id": "ac535274-642b-46fb-a425-98d695cc27d9",
   "metadata": {},
   "outputs": [
    {
     "name": "stderr",
     "output_type": "stream",
     "text": [
      "/tmp/ipykernel_37400/2733857388.py:1: SettingWithCopyWarning: \n",
      "A value is trying to be set on a copy of a slice from a DataFrame.\n",
      "Try using .loc[row_indexer,col_indexer] = value instead\n",
      "\n",
      "See the caveats in the documentation: https://pandas.pydata.org/pandas-docs/stable/user_guide/indexing.html#returning-a-view-versus-a-copy\n",
      "  df_clean['cohere_results'] = df_clean.apply(lambda x: calculate_distance(x, cohere,preguntas_topico), axis=1)\n",
      "/tmp/ipykernel_37400/2733857388.py:2: SettingWithCopyWarning: \n",
      "A value is trying to be set on a copy of a slice from a DataFrame.\n",
      "Try using .loc[row_indexer,col_indexer] = value instead\n",
      "\n",
      "See the caveats in the documentation: https://pandas.pydata.org/pandas-docs/stable/user_guide/indexing.html#returning-a-view-versus-a-copy\n",
      "  df_clean[['cohere_distance', 'cohere_num_preg','cohere_distance_norm']] = pd.DataFrame(df_clean['cohere_results'].tolist(), index=df_clean.index)\n"
     ]
    }
   ],
   "source": [
    "df_clean['cohere_results'] = df_clean.apply(lambda x: calculate_distance(x, cohere,preguntas_topico), axis=1)\n",
    "df_clean[['cohere_distance', 'cohere_num_preg','cohere_distance_norm']] = pd.DataFrame(df_clean['cohere_results'].tolist(), index=df_clean.index)"
   ]
  },
  {
   "cell_type": "code",
   "execution_count": 73,
   "id": "37afb367-990a-4232-adf4-c25f51c1142a",
   "metadata": {},
   "outputs": [
    {
     "data": {
      "text/plain": [
       "(739, 420)"
      ]
     },
     "execution_count": 73,
     "metadata": {},
     "output_type": "execute_result"
    }
   ],
   "source": [
    "df_clean[df_clean['cohere_num_preg'] > 5].shape"
   ]
  },
  {
   "cell_type": "code",
   "execution_count": 76,
   "id": "d1d50511-eb2a-42b8-9600-601dfddbd44e",
   "metadata": {},
   "outputs": [
    {
     "name": "stdout",
     "output_type": "stream",
     "text": [
      "                            OLS Regression Results                            \n",
      "==============================================================================\n",
      "Dep. Variable:        cohere_distance   R-squared:                       0.045\n",
      "Model:                            OLS   Adj. R-squared:                  0.036\n",
      "Method:                 Least Squares   F-statistic:                     4.977\n",
      "Date:                Fri, 14 Jul 2023   Prob (F-statistic):           1.61e-05\n",
      "Time:                        15:57:10   Log-Likelihood:                -1952.6\n",
      "No. Observations:                 739   AIC:                             3921.\n",
      "Df Residuals:                     731   BIC:                             3958.\n",
      "Df Model:                           7                                         \n",
      "Covariance Type:            nonrobust                                         \n",
      "==============================================================================\n",
      "                 coef    std err          t      P>|t|      [0.025      0.975]\n",
      "------------------------------------------------------------------------------\n",
      "const          9.8095      1.129      8.687      0.000       7.593      12.026\n",
      "edad          -0.0184      0.008     -2.174      0.030      -0.035      -0.002\n",
      "sexo           0.4177      0.255      1.641      0.101      -0.082       0.917\n",
      "p18st          0.0299      0.053      0.563      0.574      -0.074       0.134\n",
      "s16           -0.0053      0.051     -0.102      0.918      -0.106       0.096\n",
      "s13           -0.8661      0.264     -3.284      0.001      -1.384      -0.348\n",
      "s17            0.0115      0.032      0.358      0.720      -0.052       0.075\n",
      "p46stgbs       0.3384      0.133      2.546      0.011       0.077       0.599\n",
      "==============================================================================\n",
      "Omnibus:                        2.323   Durbin-Watson:                   2.114\n",
      "Prob(Omnibus):                  0.313   Jarque-Bera (JB):                2.417\n",
      "Skew:                          -0.012   Prob(JB):                        0.299\n",
      "Kurtosis:                       3.279   Cond. No.                         451.\n",
      "==============================================================================\n",
      "\n",
      "Notes:\n",
      "[1] Standard Errors assume that the covariance matrix of the errors is correctly specified.\n"
     ]
    }
   ],
   "source": [
    "# Importando las bibliotecas necesarias\n",
    "import statsmodels.api as sm\n",
    "import pandas as pd\n",
    "\n",
    "# Supongamos que tienes un DataFrame de pandas llamado df con 'Y' como tu variable dependiente \n",
    "# y 'X1', 'X2', 'X3' como tus variables independientes.\n",
    "\n",
    "X = df_clean[df_clean['cohere_num_preg'] > 5][['edad','sexo', 'p18st' ,'s16','s13','s17','p46stgbs']] # estas son las variables independientes\n",
    "y = df_clean[df_clean['cohere_num_preg'] > 5]['cohere_distance'] # esta es la variable dependiente\n",
    "\n",
    "# Añadir una constante a las variables independientes\n",
    "X = sm.add_constant(X) \n",
    "\n",
    "# Ajustar el modelo\n",
    "model = sm.OLS(y, X)\n",
    "results = model.fit()\n",
    "\n",
    "# Imprimir los resultados\n",
    "print(results.summary())"
   ]
  },
  {
   "cell_type": "markdown",
   "id": "fe11c607-6a2c-4257-80cb-bac18d8a1d23",
   "metadata": {
    "tags": []
   },
   "source": [
    "## Cohere\n",
    "\n",
    "- Edad (adulto)\n",
    "- Irse del país (no)\n",
    "- Politizado"
   ]
  },
  {
   "cell_type": "code",
   "execution_count": null,
   "id": "775a3205-443b-4bdd-ad89-2a3ad472b489",
   "metadata": {},
   "outputs": [],
   "source": []
  }
 ],
 "metadata": {
  "kernelspec": {
   "display_name": "Python 3 (ipykernel)",
   "language": "python",
   "name": "python3"
  },
  "language_info": {
   "codemirror_mode": {
    "name": "ipython",
    "version": 3
   },
   "file_extension": ".py",
   "mimetype": "text/x-python",
   "name": "python",
   "nbconvert_exporter": "python",
   "pygments_lexer": "ipython3",
   "version": "3.11.4"
  }
 },
 "nbformat": 4,
 "nbformat_minor": 5
}
