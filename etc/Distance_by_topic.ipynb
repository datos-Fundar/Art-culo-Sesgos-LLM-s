{
 "cells": [
  {
   "cell_type": "code",
   "execution_count": 2,
   "id": "2d6fd522-300e-4dd6-a64a-215a4b5c406c",
   "metadata": {},
   "outputs": [
    {
     "name": "stderr",
     "output_type": "stream",
     "text": [
      "<frozen importlib._bootstrap>:219: RuntimeWarning: scipy._lib.messagestream.MessageStream size changed, may indicate binary incompatibility. Expected 56 from C header, got 64 from PyObject\n"
     ]
    }
   ],
   "source": [
    "import pandas as pd\n",
    "from matplotlib import pyplot as plt\n",
    "#!pip install pivottablejs\n",
    "import seaborn as sns"
   ]
  },
  {
   "cell_type": "code",
   "execution_count": 3,
   "id": "e7cc468b-c1dc-457a-8a2e-f510b1ff6913",
   "metadata": {},
   "outputs": [],
   "source": [
    "lpop = pd.read_stata('ARG_2021_LAPOP_AmericasBarometer_v1.2_w.dta',convert_categoricals=False)\n",
    "gpt = pd.read_csv('respuestas_gpt35_turbo')\n",
    "cohere = pd.read_csv('respuestas_cohere.csv')\n",
    "bard = pd.read_csv('respuestas_bard.csv')\n",
    "categorias = pd.read_csv('categorización_preguntas.csv')"
   ]
  },
  {
   "cell_type": "code",
   "execution_count": 3,
   "id": "d9876ed4-fde8-4022-ba38-f6303d87c9af",
   "metadata": {},
   "outputs": [
    {
     "data": {
      "text/html": [
       "<div>\n",
       "<style scoped>\n",
       "    .dataframe tbody tr th:only-of-type {\n",
       "        vertical-align: middle;\n",
       "    }\n",
       "\n",
       "    .dataframe tbody tr th {\n",
       "        vertical-align: top;\n",
       "    }\n",
       "\n",
       "    .dataframe thead th {\n",
       "        text-align: right;\n",
       "    }\n",
       "</style>\n",
       "<table border=\"1\" class=\"dataframe\">\n",
       "  <thead>\n",
       "    <tr style=\"text-align: right;\">\n",
       "      <th></th>\n",
       "      <th>preguntas</th>\n",
       "      <th>encuesta</th>\n",
       "      <th>categorias</th>\n",
       "    </tr>\n",
       "  </thead>\n",
       "  <tbody>\n",
       "    <tr>\n",
       "      <th>0</th>\n",
       "      <td>A4- En su opinión ¿cuál es el problema más gra...</td>\n",
       "      <td>LPOP</td>\n",
       "      <td>opinion</td>\n",
       "    </tr>\n",
       "    <tr>\n",
       "      <th>1</th>\n",
       "      <td>JC13- Alguna gente dice que en ciertas circuns...</td>\n",
       "      <td>LPOP</td>\n",
       "      <td>democracia</td>\n",
       "    </tr>\n",
       "    <tr>\n",
       "      <th>2</th>\n",
       "      <td>JC13COVID- Alguna gente dice que en ciertas ci...</td>\n",
       "      <td>LPOP</td>\n",
       "      <td>democracia</td>\n",
       "    </tr>\n",
       "    <tr>\n",
       "      <th>3</th>\n",
       "      <td>JC15A- ¿Cree usted que cuando el país enfrenta...</td>\n",
       "      <td>LPOP</td>\n",
       "      <td>excesos del poder ejecutvio - presidencialismo</td>\n",
       "    </tr>\n",
       "    <tr>\n",
       "      <th>4</th>\n",
       "      <td>JCCOV1- ¿Cree usted que cuando hay una emergen...</td>\n",
       "      <td>LPOP</td>\n",
       "      <td>excesos del poder ejecutvio - presidencialismo</td>\n",
       "    </tr>\n",
       "  </tbody>\n",
       "</table>\n",
       "</div>"
      ],
      "text/plain": [
       "                                           preguntas encuesta  \\\n",
       "0  A4- En su opinión ¿cuál es el problema más gra...     LPOP   \n",
       "1  JC13- Alguna gente dice que en ciertas circuns...     LPOP   \n",
       "2  JC13COVID- Alguna gente dice que en ciertas ci...     LPOP   \n",
       "3  JC15A- ¿Cree usted que cuando el país enfrenta...     LPOP   \n",
       "4  JCCOV1- ¿Cree usted que cuando hay una emergen...     LPOP   \n",
       "\n",
       "                                       categorias  \n",
       "0                                         opinion  \n",
       "1                                     democracia   \n",
       "2                                     democracia   \n",
       "3  excesos del poder ejecutvio - presidencialismo  \n",
       "4  excesos del poder ejecutvio - presidencialismo  "
      ]
     },
     "execution_count": 3,
     "metadata": {},
     "output_type": "execute_result"
    }
   ],
   "source": [
    "categorias.head()"
   ]
  },
  {
   "cell_type": "code",
   "execution_count": 4,
   "id": "f235fb76-3318-44f9-9a29-e71f68110df9",
   "metadata": {},
   "outputs": [
    {
     "data": {
      "text/html": [
       "<div>\n",
       "<style scoped>\n",
       "    .dataframe tbody tr th:only-of-type {\n",
       "        vertical-align: middle;\n",
       "    }\n",
       "\n",
       "    .dataframe tbody tr th {\n",
       "        vertical-align: top;\n",
       "    }\n",
       "\n",
       "    .dataframe thead th {\n",
       "        text-align: right;\n",
       "    }\n",
       "</style>\n",
       "<table border=\"1\" class=\"dataframe\">\n",
       "  <thead>\n",
       "    <tr style=\"text-align: right;\">\n",
       "      <th></th>\n",
       "      <th>preguntas</th>\n",
       "      <th>encuesta</th>\n",
       "      <th>categorias</th>\n",
       "      <th>pregunta_codigo</th>\n",
       "    </tr>\n",
       "  </thead>\n",
       "  <tbody>\n",
       "    <tr>\n",
       "      <th>0</th>\n",
       "      <td>A4- En su opinión ¿cuál es el problema más gra...</td>\n",
       "      <td>LPOP</td>\n",
       "      <td>opinion</td>\n",
       "      <td>A4</td>\n",
       "    </tr>\n",
       "    <tr>\n",
       "      <th>1</th>\n",
       "      <td>JC13- Alguna gente dice que en ciertas circuns...</td>\n",
       "      <td>LPOP</td>\n",
       "      <td>democracia</td>\n",
       "      <td>JC13</td>\n",
       "    </tr>\n",
       "    <tr>\n",
       "      <th>2</th>\n",
       "      <td>JC13COVID- Alguna gente dice que en ciertas ci...</td>\n",
       "      <td>LPOP</td>\n",
       "      <td>democracia</td>\n",
       "      <td>JC13COVID</td>\n",
       "    </tr>\n",
       "    <tr>\n",
       "      <th>3</th>\n",
       "      <td>JC15A- ¿Cree usted que cuando el país enfrenta...</td>\n",
       "      <td>LPOP</td>\n",
       "      <td>excesos del poder ejecutvio - presidencialismo</td>\n",
       "      <td>JC15A</td>\n",
       "    </tr>\n",
       "    <tr>\n",
       "      <th>4</th>\n",
       "      <td>JCCOV1- ¿Cree usted que cuando hay una emergen...</td>\n",
       "      <td>LPOP</td>\n",
       "      <td>excesos del poder ejecutvio - presidencialismo</td>\n",
       "      <td>JCCOV1</td>\n",
       "    </tr>\n",
       "  </tbody>\n",
       "</table>\n",
       "</div>"
      ],
      "text/plain": [
       "                                           preguntas encuesta  \\\n",
       "0  A4- En su opinión ¿cuál es el problema más gra...     LPOP   \n",
       "1  JC13- Alguna gente dice que en ciertas circuns...     LPOP   \n",
       "2  JC13COVID- Alguna gente dice que en ciertas ci...     LPOP   \n",
       "3  JC15A- ¿Cree usted que cuando el país enfrenta...     LPOP   \n",
       "4  JCCOV1- ¿Cree usted que cuando hay una emergen...     LPOP   \n",
       "\n",
       "                                       categorias pregunta_codigo  \n",
       "0                                         opinion              A4  \n",
       "1                                     democracia             JC13  \n",
       "2                                     democracia        JC13COVID  \n",
       "3  excesos del poder ejecutvio - presidencialismo           JC15A  \n",
       "4  excesos del poder ejecutvio - presidencialismo          JCCOV1  "
      ]
     },
     "execution_count": 4,
     "metadata": {},
     "output_type": "execute_result"
    }
   ],
   "source": [
    "categorias['pregunta_codigo'] = categorias['preguntas'].apply(lambda x: x.split('-')[0])\n",
    "categorias.head()"
   ]
  },
  {
   "cell_type": "code",
   "execution_count": 5,
   "id": "dbf252b8-b6a4-4cae-ab48-491b51bb7bb9",
   "metadata": {},
   "outputs": [
    {
     "data": {
      "text/plain": [
       "independencia de poderes: poder ejecutivo vs corte    8\n",
       "democracia                                            6\n",
       "opinion                                               5\n",
       "confianza en las insitituciones                       5\n",
       "relaciones internacionales                            5\n",
       "economia                                              5\n",
       "excesos del poder ejecutvio - presidencialismo        4\n",
       "justicia                                              4\n",
       "ingresos                                              2\n",
       "derechos sociales                                     1\n",
       "vivienda                                              1\n",
       "desastres naturales                                   1\n",
       "Name: categorias, dtype: int64"
      ]
     },
     "execution_count": 5,
     "metadata": {},
     "output_type": "execute_result"
    }
   ],
   "source": [
    "categorias['categorias'].value_counts()"
   ]
  },
  {
   "cell_type": "code",
   "execution_count": 52,
   "id": "c25e165c-fcd6-42b7-9ec5-f5dd6455f854",
   "metadata": {},
   "outputs": [],
   "source": [
    "import pickle\n",
    "with open(r\"respuestas.pickle\", \"rb\") as input_file:\n",
    "    respuestas = pickle.load(input_file)\n",
    "with open(r\"preguntas_seleccionadas.pickle\", \"rb\") as input_file:\n",
    "    preguntas_seleccionadas = pickle.load(input_file)"
   ]
  },
  {
   "cell_type": "code",
   "execution_count": 103,
   "id": "11a50ccf-378f-4a8b-b4a5-a16dfed35b0c",
   "metadata": {},
   "outputs": [
    {
     "data": {
      "text/plain": [
       "['JC13COVID',\n",
       " 'JC15A',\n",
       " 'JCCOV1',\n",
       " 'JCCOV2',\n",
       " 'COUNTFAIR1',\n",
       " 'COUNTFAIR2',\n",
       " 'COUNTFAIR3',\n",
       " 'COUNTFAIR4',\n",
       " 'WVSI2',\n",
       " 'WVSI3',\n",
       " 'CHM1BN',\n",
       " 'CHM2BN',\n",
       " 'CSES6N',\n",
       " 'B2',\n",
       " 'B3',\n",
       " 'B6',\n",
       " 'DST1BN',\n",
       " 'ING4',\n",
       " 'CCCH1']"
      ]
     },
     "execution_count": 103,
     "metadata": {},
     "output_type": "execute_result"
    }
   ],
   "source": [
    "preguntas_seleccionadas = list(categorias[(categorias['categorias']!='opinion') & (categorias['categorias']!='desastres naturales') ]['pregunta_codigo'].values)\n",
    "preguntas_seleccionadas[1:20]"
   ]
  },
  {
   "cell_type": "code",
   "execution_count": 16,
   "id": "cd6f0c2d-8026-4cb0-8ac9-b9694b9d253b",
   "metadata": {},
   "outputs": [
    {
     "data": {
      "text/plain": [
       "dict_keys(['A4', 'JC13', 'JC13COVID', 'JC15A', 'JCCOV1', 'JCCOV2', 'COUNTFAIR1', 'COUNTFAIR2', 'COUNTFAIR3', 'COUNTFAIR4', 'WVSI2', 'WVSI3', 'CHM1BN', 'CHM2BN', 'CSES6N', 'B2', 'B3', 'B6', 'DST1BN', 'DRK1C', 'M1', 'ING4', 'ANESTG', 'MIL10A', 'MIL10E', 'CCCH1', 'CCUS1', 'CCCH3', 'CCUS3', 'CTAWARE', 'CTSPECIFIC1', 'CTDIFFUSE1', 'CTDIFFUSE2', 'OVQ11', 'OVQ21', 'OVQ12', 'OVQ22', 'OVQ13', 'OVQ23', 'OVQ14', 'OVQ24', 'TRADE5A', 'TRADE1A', 'TRADE2AA', 'TRADE2BB', 'TRADE2DA', 'TRADE3A'])"
      ]
     },
     "execution_count": 16,
     "metadata": {},
     "output_type": "execute_result"
    }
   ],
   "source": [
    "preguntas_seleccionadas.keys()"
   ]
  },
  {
   "cell_type": "code",
   "execution_count": 104,
   "id": "0be3889d-2bdc-4ba4-8cf8-a6511e695398",
   "metadata": {},
   "outputs": [
    {
     "data": {
      "text/plain": [
       "(24.0, 13, 1.8461538461538463)"
      ]
     },
     "execution_count": 104,
     "metadata": {},
     "output_type": "execute_result"
    }
   ],
   "source": [
    "import math\n",
    "pregs = []\n",
    "def calculate_distance(responde,llm, preguntas):    \n",
    "    result = 0\n",
    "    num_pregs = 0\n",
    "    for pregunta in list(preguntas):\n",
    "        if((pregunta.lower() in responde.keys()) and (not math.isnan(responde[pregunta.lower()])) and (pregunta in list(llm['Pregunta'])) \n",
    "           and(llm[llm['Pregunta']== pregunta]['Respuesta'].values[0] < 10) ):\n",
    "            \n",
    "            result = result + (abs(responde[pregunta.lower()]-llm[llm['Pregunta']== pregunta]['Respuesta'].values[0]))\n",
    "            num_pregs = num_pregs + 1\n",
    "            pregs.append(pregunta)\n",
    "    if(num_pregs == 0):\n",
    "        result = -1\n",
    "        norm_result = -1\n",
    "    else:\n",
    "        norm_result = result/num_pregs\n",
    "    \n",
    "    return(result, num_pregs, norm_result)\n",
    "calculate_distance(lpop.loc[0],bard,preguntas_seleccionadas)"
   ]
  },
  {
   "cell_type": "code",
   "execution_count": 118,
   "id": "d27b113b-947a-4795-9199-668688dd898f",
   "metadata": {},
   "outputs": [],
   "source": [
    "for valor in lpop.columns:\n",
    "    if valor.startswith('trade'):\n",
    "        print(valor)"
   ]
  },
  {
   "cell_type": "markdown",
   "id": "db4f4842-9172-4292-be4c-48a559b4c527",
   "metadata": {},
   "source": [
    "## ¿Porque no estan las preguntas de economía?\n",
    "\n",
    "### En  el cuestionario dice \"[NOTA DE PROGRAMACIÓN: BLOQUEAR TODOS LOS EXPERIMENTOS TRADE* POR GÉNERO]\" ¿ Que significa??"
   ]
  },
  {
   "cell_type": "code",
   "execution_count": 4,
   "id": "e022696f-5bc4-4281-86b7-f9b2583e2973",
   "metadata": {},
   "outputs": [],
   "source": [
    "# Crea un StataReader para leer los metadatos\n",
    "reader = pd.io.stata.StataReader('ARG_2021_LAPOP_AmericasBarometer_v1.2_w.dta')"
   ]
  },
  {
   "cell_type": "code",
   "execution_count": 25,
   "id": "c6603476-52c9-4e07-8cf1-5b20f7e8e479",
   "metadata": {},
   "outputs": [
    {
     "ename": "AttributeError",
     "evalue": "'list' object has no attribute 'str'",
     "output_type": "error",
     "traceback": [
      "\u001b[0;31m---------------------------------------------------------------------------\u001b[0m",
      "\u001b[0;31mAttributeError\u001b[0m                            Traceback (most recent call last)",
      "\u001b[0;32m/tmp/ipykernel_9467/3510817015.py\u001b[0m in \u001b[0;36m<module>\u001b[0;34m\u001b[0m\n\u001b[0;32m----> 1\u001b[0;31m \u001b[0mlist\u001b[0m\u001b[0;34m(\u001b[0m\u001b[0mreader\u001b[0m\u001b[0;34m.\u001b[0m\u001b[0mvalue_labels\u001b[0m\u001b[0;34m(\u001b[0m\u001b[0;34m)\u001b[0m\u001b[0;34m[\u001b[0m\u001b[0;34m'CTAWARE_esp'\u001b[0m\u001b[0;34m.\u001b[0m\u001b[0mlower\u001b[0m\u001b[0;34m(\u001b[0m\u001b[0;34m)\u001b[0m\u001b[0;34m]\u001b[0m\u001b[0;34m.\u001b[0m\u001b[0mvalues\u001b[0m\u001b[0;34m(\u001b[0m\u001b[0;34m)\u001b[0m\u001b[0;34m)\u001b[0m\u001b[0;34m.\u001b[0m\u001b[0mstr\u001b[0m\u001b[0;34m.\u001b[0m\u001b[0mlower\u001b[0m\u001b[0;34m(\u001b[0m\u001b[0;34m)\u001b[0m\u001b[0;34m\u001b[0m\u001b[0;34m\u001b[0m\u001b[0m\n\u001b[0m",
      "\u001b[0;31mAttributeError\u001b[0m: 'list' object has no attribute 'str'"
     ]
    }
   ],
   "source": [
    "list(reader.value_labels()['CTAWARE_esp'.lower()].values())"
   ]
  },
  {
   "cell_type": "code",
   "execution_count": 33,
   "id": "1ce12bce-bc9c-4eb2-bb9b-dc0cbb3ff304",
   "metadata": {},
   "outputs": [
    {
     "data": {
      "text/plain": [
       "True"
      ]
     },
     "execution_count": 33,
     "metadata": {},
     "output_type": "execute_result"
    }
   ],
   "source": [
    "'comercio' in 'Apoya restringir el comercio'"
   ]
  },
  {
   "cell_type": "code",
   "execution_count": 31,
   "id": "835c581e-b68a-4d05-8017-f0de07847bbe",
   "metadata": {},
   "outputs": [],
   "source": [
    "for preg in reader.value_labels().keys():\n",
    "    lowercase_list = [item.lower() for item in list(reader.value_labels()[preg].values())]\n",
    "    if 'comercio' in lowercase_list:\n",
    "        print(preg)"
   ]
  },
  {
   "cell_type": "code",
   "execution_count": 34,
   "id": "0d144e65-e420-409e-8dd1-b76385ed9805",
   "metadata": {},
   "outputs": [],
   "source": [
    "for preg in reader.value_labels().keys():\n",
    "    \n",
    "    if preg.lower().startswith('trade'):\n",
    "        print(valor)"
   ]
  },
  {
   "cell_type": "code",
   "execution_count": null,
   "id": "a212892b-6212-4aa4-b219-f9cad60c35f2",
   "metadata": {},
   "outputs": [],
   "source": [
    "Influencia positiva"
   ]
  },
  {
   "cell_type": "code",
   "execution_count": null,
   "id": "bb15c208-32a1-40a0-a504-92727a5ff79d",
   "metadata": {},
   "outputs": [],
   "source": [
    "lpop = lpop.drop('a4', axis=1)"
   ]
  },
  {
   "cell_type": "code",
   "execution_count": 105,
   "id": "d83efb01-e812-4ff6-832c-665b846b72e3",
   "metadata": {},
   "outputs": [],
   "source": [
    "lpop['bard_results'] = lpop.apply(lambda x: calculate_distance(x, bard,preguntas_seleccionadas), axis=1)\n",
    "lpop[['bard_distance', 'bard_num_preg','bard_distance_norm']] = pd.DataFrame(lpop['bard_results'].tolist(), index=lpop.index)"
   ]
  },
  {
   "cell_type": "code",
   "execution_count": 59,
   "id": "1e7ca326-63b9-49e7-8c33-ca68950479ad",
   "metadata": {},
   "outputs": [],
   "source": [
    "lpop['gpt_results'] = lpop.apply(lambda x: calculate_distance(x, gpt,preguntas_seleccionadas), axis=1)\n",
    "lpop[['gpt_distance', 'gpt_num_preg','gpt_distance_norm']] = pd.DataFrame(lpop['gpt_results'].tolist(), index=lpop.index)"
   ]
  },
  {
   "cell_type": "code",
   "execution_count": 63,
   "id": "75c432b0-adbd-4c8e-9970-cbe61424d00e",
   "metadata": {},
   "outputs": [],
   "source": [
    "lpop['cohere_results'] = lpop.apply(lambda x: calculate_distance(x, cohere,preguntas_seleccionadas), axis=1)\n",
    "lpop[['cohere_distance', 'cohere_num_preg','cohere_distance_norm']] = pd.DataFrame(lpop['cohere_results'].tolist(), index=lpop.index)"
   ]
  },
  {
   "cell_type": "code",
   "execution_count": 106,
   "id": "d770e71e-3b08-48cb-8c7d-9236381e3cb6",
   "metadata": {},
   "outputs": [],
   "source": [
    "lpop[lpop['bard_num_preg'] >5].to_csv('lpop_bard_distances_nopinion.csv')"
   ]
  },
  {
   "cell_type": "code",
   "execution_count": 101,
   "id": "2610c6de-b82a-4c64-8c5f-9f2b4dcdb320",
   "metadata": {},
   "outputs": [
    {
     "data": {
      "text/html": [
       "<div>\n",
       "<style scoped>\n",
       "    .dataframe tbody tr th:only-of-type {\n",
       "        vertical-align: middle;\n",
       "    }\n",
       "\n",
       "    .dataframe tbody tr th {\n",
       "        vertical-align: top;\n",
       "    }\n",
       "\n",
       "    .dataframe thead th {\n",
       "        text-align: right;\n",
       "    }\n",
       "</style>\n",
       "<table border=\"1\" class=\"dataframe\">\n",
       "  <thead>\n",
       "    <tr style=\"text-align: right;\">\n",
       "      <th></th>\n",
       "      <th>idnum</th>\n",
       "      <th>uniq_id</th>\n",
       "      <th>pais</th>\n",
       "      <th>year</th>\n",
       "      <th>wave</th>\n",
       "      <th>nationality</th>\n",
       "      <th>estratopri</th>\n",
       "      <th>strata</th>\n",
       "      <th>upm</th>\n",
       "      <th>prov1t</th>\n",
       "      <th>...</th>\n",
       "      <th>bard_num_preg</th>\n",
       "      <th>bard_distance_norm</th>\n",
       "      <th>gpt_results</th>\n",
       "      <th>gpt_distance</th>\n",
       "      <th>gpt_num_preg</th>\n",
       "      <th>gpt_distance_norm</th>\n",
       "      <th>cohere_results</th>\n",
       "      <th>cohere_distance</th>\n",
       "      <th>cohere_num_preg</th>\n",
       "      <th>cohere_distance_norm</th>\n",
       "    </tr>\n",
       "  </thead>\n",
       "  <tbody>\n",
       "    <tr>\n",
       "      <th>0</th>\n",
       "      <td>236570.0</td>\n",
       "      <td>2.117024e+10</td>\n",
       "      <td>17</td>\n",
       "      <td>2021</td>\n",
       "      <td>2021</td>\n",
       "      <td>17</td>\n",
       "      <td>1702.0</td>\n",
       "      <td>1700002021</td>\n",
       "      <td>171360621</td>\n",
       "      <td>1700021.0</td>\n",
       "      <td>...</td>\n",
       "      <td>13</td>\n",
       "      <td>1.615385</td>\n",
       "      <td>(11.0, 10, 1.1)</td>\n",
       "      <td>11.0</td>\n",
       "      <td>10</td>\n",
       "      <td>1.100000</td>\n",
       "      <td>(5.0, 7, 0.7142857142857143)</td>\n",
       "      <td>5.0</td>\n",
       "      <td>7</td>\n",
       "      <td>0.714286</td>\n",
       "    </tr>\n",
       "    <tr>\n",
       "      <th>2</th>\n",
       "      <td>42281.0</td>\n",
       "      <td>2.117004e+10</td>\n",
       "      <td>17</td>\n",
       "      <td>2021</td>\n",
       "      <td>2021</td>\n",
       "      <td>17</td>\n",
       "      <td>1708.0</td>\n",
       "      <td>1700002021</td>\n",
       "      <td>171108421</td>\n",
       "      <td>1700001.0</td>\n",
       "      <td>...</td>\n",
       "      <td>14</td>\n",
       "      <td>0.785714</td>\n",
       "      <td>(3.0, 10, 0.3)</td>\n",
       "      <td>3.0</td>\n",
       "      <td>10</td>\n",
       "      <td>0.300000</td>\n",
       "      <td>(6.0, 9, 0.6666666666666666)</td>\n",
       "      <td>6.0</td>\n",
       "      <td>9</td>\n",
       "      <td>0.666667</td>\n",
       "    </tr>\n",
       "    <tr>\n",
       "      <th>6</th>\n",
       "      <td>206475.0</td>\n",
       "      <td>2.117021e+10</td>\n",
       "      <td>17</td>\n",
       "      <td>2021</td>\n",
       "      <td>2021</td>\n",
       "      <td>17</td>\n",
       "      <td>1708.0</td>\n",
       "      <td>1700002021</td>\n",
       "      <td>171627621</td>\n",
       "      <td>1700001.0</td>\n",
       "      <td>...</td>\n",
       "      <td>14</td>\n",
       "      <td>1.214286</td>\n",
       "      <td>(8.0, 10, 0.8)</td>\n",
       "      <td>8.0</td>\n",
       "      <td>10</td>\n",
       "      <td>0.800000</td>\n",
       "      <td>(4.0, 8, 0.5)</td>\n",
       "      <td>4.0</td>\n",
       "      <td>8</td>\n",
       "      <td>0.500000</td>\n",
       "    </tr>\n",
       "    <tr>\n",
       "      <th>7</th>\n",
       "      <td>382426.0</td>\n",
       "      <td>2.117038e+10</td>\n",
       "      <td>17</td>\n",
       "      <td>2021</td>\n",
       "      <td>2021</td>\n",
       "      <td>17</td>\n",
       "      <td>1706.0</td>\n",
       "      <td>1700002021</td>\n",
       "      <td>172519121</td>\n",
       "      <td>1700020.0</td>\n",
       "      <td>...</td>\n",
       "      <td>14</td>\n",
       "      <td>0.928571</td>\n",
       "      <td>(4.0, 11, 0.36363636363636365)</td>\n",
       "      <td>4.0</td>\n",
       "      <td>11</td>\n",
       "      <td>0.363636</td>\n",
       "      <td>(4.0, 7, 0.5714285714285714)</td>\n",
       "      <td>4.0</td>\n",
       "      <td>7</td>\n",
       "      <td>0.571429</td>\n",
       "    </tr>\n",
       "    <tr>\n",
       "      <th>8</th>\n",
       "      <td>272255.0</td>\n",
       "      <td>2.117027e+10</td>\n",
       "      <td>17</td>\n",
       "      <td>2021</td>\n",
       "      <td>2021</td>\n",
       "      <td>17</td>\n",
       "      <td>1702.0</td>\n",
       "      <td>1700002021</td>\n",
       "      <td>171481921</td>\n",
       "      <td>1700006.0</td>\n",
       "      <td>...</td>\n",
       "      <td>14</td>\n",
       "      <td>0.500000</td>\n",
       "      <td>(6.0, 10, 0.6)</td>\n",
       "      <td>6.0</td>\n",
       "      <td>10</td>\n",
       "      <td>0.600000</td>\n",
       "      <td>(2.0, 9, 0.2222222222222222)</td>\n",
       "      <td>2.0</td>\n",
       "      <td>9</td>\n",
       "      <td>0.222222</td>\n",
       "    </tr>\n",
       "    <tr>\n",
       "      <th>...</th>\n",
       "      <td>...</td>\n",
       "      <td>...</td>\n",
       "      <td>...</td>\n",
       "      <td>...</td>\n",
       "      <td>...</td>\n",
       "      <td>...</td>\n",
       "      <td>...</td>\n",
       "      <td>...</td>\n",
       "      <td>...</td>\n",
       "      <td>...</td>\n",
       "      <td>...</td>\n",
       "      <td>...</td>\n",
       "      <td>...</td>\n",
       "      <td>...</td>\n",
       "      <td>...</td>\n",
       "      <td>...</td>\n",
       "      <td>...</td>\n",
       "      <td>...</td>\n",
       "      <td>...</td>\n",
       "      <td>...</td>\n",
       "      <td>...</td>\n",
       "    </tr>\n",
       "    <tr>\n",
       "      <th>3003</th>\n",
       "      <td>417363.0</td>\n",
       "      <td>2.117042e+10</td>\n",
       "      <td>17</td>\n",
       "      <td>2021</td>\n",
       "      <td>2021</td>\n",
       "      <td>17</td>\n",
       "      <td>1708.0</td>\n",
       "      <td>1700002021</td>\n",
       "      <td>171892221</td>\n",
       "      <td>1700001.0</td>\n",
       "      <td>...</td>\n",
       "      <td>14</td>\n",
       "      <td>1.000000</td>\n",
       "      <td>(6.0, 9, 0.6666666666666666)</td>\n",
       "      <td>6.0</td>\n",
       "      <td>9</td>\n",
       "      <td>0.666667</td>\n",
       "      <td>(8.0, 8, 1.0)</td>\n",
       "      <td>8.0</td>\n",
       "      <td>8</td>\n",
       "      <td>1.000000</td>\n",
       "    </tr>\n",
       "    <tr>\n",
       "      <th>3004</th>\n",
       "      <td>302005.0</td>\n",
       "      <td>2.117030e+10</td>\n",
       "      <td>17</td>\n",
       "      <td>2021</td>\n",
       "      <td>2021</td>\n",
       "      <td>17</td>\n",
       "      <td>1708.0</td>\n",
       "      <td>1700002021</td>\n",
       "      <td>172302321</td>\n",
       "      <td>1700001.0</td>\n",
       "      <td>...</td>\n",
       "      <td>14</td>\n",
       "      <td>0.785714</td>\n",
       "      <td>(3.0, 11, 0.2727272727272727)</td>\n",
       "      <td>3.0</td>\n",
       "      <td>11</td>\n",
       "      <td>0.272727</td>\n",
       "      <td>(4.0, 8, 0.5)</td>\n",
       "      <td>4.0</td>\n",
       "      <td>8</td>\n",
       "      <td>0.500000</td>\n",
       "    </tr>\n",
       "    <tr>\n",
       "      <th>3005</th>\n",
       "      <td>423170.0</td>\n",
       "      <td>2.117042e+10</td>\n",
       "      <td>17</td>\n",
       "      <td>2021</td>\n",
       "      <td>2021</td>\n",
       "      <td>17</td>\n",
       "      <td>1708.0</td>\n",
       "      <td>1700002021</td>\n",
       "      <td>171867521</td>\n",
       "      <td>1700001.0</td>\n",
       "      <td>...</td>\n",
       "      <td>14</td>\n",
       "      <td>1.071429</td>\n",
       "      <td>(8.0, 9, 0.8888888888888888)</td>\n",
       "      <td>8.0</td>\n",
       "      <td>9</td>\n",
       "      <td>0.888889</td>\n",
       "      <td>(8.0, 9, 0.8888888888888888)</td>\n",
       "      <td>8.0</td>\n",
       "      <td>9</td>\n",
       "      <td>0.888889</td>\n",
       "    </tr>\n",
       "    <tr>\n",
       "      <th>3007</th>\n",
       "      <td>28502.0</td>\n",
       "      <td>2.117003e+10</td>\n",
       "      <td>17</td>\n",
       "      <td>2021</td>\n",
       "      <td>2021</td>\n",
       "      <td>17</td>\n",
       "      <td>1708.0</td>\n",
       "      <td>1700002021</td>\n",
       "      <td>172015421</td>\n",
       "      <td>1700001.0</td>\n",
       "      <td>...</td>\n",
       "      <td>14</td>\n",
       "      <td>0.714286</td>\n",
       "      <td>(6.0, 12, 0.5)</td>\n",
       "      <td>6.0</td>\n",
       "      <td>12</td>\n",
       "      <td>0.500000</td>\n",
       "      <td>(2.0, 8, 0.25)</td>\n",
       "      <td>2.0</td>\n",
       "      <td>8</td>\n",
       "      <td>0.250000</td>\n",
       "    </tr>\n",
       "    <tr>\n",
       "      <th>3009</th>\n",
       "      <td>224463.0</td>\n",
       "      <td>2.117022e+10</td>\n",
       "      <td>17</td>\n",
       "      <td>2021</td>\n",
       "      <td>2021</td>\n",
       "      <td>17</td>\n",
       "      <td>1705.0</td>\n",
       "      <td>1700002021</td>\n",
       "      <td>172775921</td>\n",
       "      <td>1700018.0</td>\n",
       "      <td>...</td>\n",
       "      <td>14</td>\n",
       "      <td>0.857143</td>\n",
       "      <td>(3.0, 8, 0.375)</td>\n",
       "      <td>3.0</td>\n",
       "      <td>8</td>\n",
       "      <td>0.375000</td>\n",
       "      <td>(5.0, 8, 0.625)</td>\n",
       "      <td>5.0</td>\n",
       "      <td>8</td>\n",
       "      <td>0.625000</td>\n",
       "    </tr>\n",
       "  </tbody>\n",
       "</table>\n",
       "<p>1470 rows × 259 columns</p>\n",
       "</div>"
      ],
      "text/plain": [
       "         idnum       uniq_id  pais  year  wave  nationality  estratopri  \\\n",
       "0     236570.0  2.117024e+10    17  2021  2021           17      1702.0   \n",
       "2      42281.0  2.117004e+10    17  2021  2021           17      1708.0   \n",
       "6     206475.0  2.117021e+10    17  2021  2021           17      1708.0   \n",
       "7     382426.0  2.117038e+10    17  2021  2021           17      1706.0   \n",
       "8     272255.0  2.117027e+10    17  2021  2021           17      1702.0   \n",
       "...        ...           ...   ...   ...   ...          ...         ...   \n",
       "3003  417363.0  2.117042e+10    17  2021  2021           17      1708.0   \n",
       "3004  302005.0  2.117030e+10    17  2021  2021           17      1708.0   \n",
       "3005  423170.0  2.117042e+10    17  2021  2021           17      1708.0   \n",
       "3007   28502.0  2.117003e+10    17  2021  2021           17      1708.0   \n",
       "3009  224463.0  2.117022e+10    17  2021  2021           17      1705.0   \n",
       "\n",
       "          strata        upm     prov1t  ...  bard_num_preg  \\\n",
       "0     1700002021  171360621  1700021.0  ...             13   \n",
       "2     1700002021  171108421  1700001.0  ...             14   \n",
       "6     1700002021  171627621  1700001.0  ...             14   \n",
       "7     1700002021  172519121  1700020.0  ...             14   \n",
       "8     1700002021  171481921  1700006.0  ...             14   \n",
       "...          ...        ...        ...  ...            ...   \n",
       "3003  1700002021  171892221  1700001.0  ...             14   \n",
       "3004  1700002021  172302321  1700001.0  ...             14   \n",
       "3005  1700002021  171867521  1700001.0  ...             14   \n",
       "3007  1700002021  172015421  1700001.0  ...             14   \n",
       "3009  1700002021  172775921  1700018.0  ...             14   \n",
       "\n",
       "      bard_distance_norm                     gpt_results  gpt_distance  \\\n",
       "0               1.615385                 (11.0, 10, 1.1)          11.0   \n",
       "2               0.785714                  (3.0, 10, 0.3)           3.0   \n",
       "6               1.214286                  (8.0, 10, 0.8)           8.0   \n",
       "7               0.928571  (4.0, 11, 0.36363636363636365)           4.0   \n",
       "8               0.500000                  (6.0, 10, 0.6)           6.0   \n",
       "...                  ...                             ...           ...   \n",
       "3003            1.000000    (6.0, 9, 0.6666666666666666)           6.0   \n",
       "3004            0.785714   (3.0, 11, 0.2727272727272727)           3.0   \n",
       "3005            1.071429    (8.0, 9, 0.8888888888888888)           8.0   \n",
       "3007            0.714286                  (6.0, 12, 0.5)           6.0   \n",
       "3009            0.857143                 (3.0, 8, 0.375)           3.0   \n",
       "\n",
       "      gpt_num_preg gpt_distance_norm                cohere_results  \\\n",
       "0               10          1.100000  (5.0, 7, 0.7142857142857143)   \n",
       "2               10          0.300000  (6.0, 9, 0.6666666666666666)   \n",
       "6               10          0.800000                 (4.0, 8, 0.5)   \n",
       "7               11          0.363636  (4.0, 7, 0.5714285714285714)   \n",
       "8               10          0.600000  (2.0, 9, 0.2222222222222222)   \n",
       "...            ...               ...                           ...   \n",
       "3003             9          0.666667                 (8.0, 8, 1.0)   \n",
       "3004            11          0.272727                 (4.0, 8, 0.5)   \n",
       "3005             9          0.888889  (8.0, 9, 0.8888888888888888)   \n",
       "3007            12          0.500000                (2.0, 8, 0.25)   \n",
       "3009             8          0.375000               (5.0, 8, 0.625)   \n",
       "\n",
       "      cohere_distance  cohere_num_preg  cohere_distance_norm  \n",
       "0                 5.0                7              0.714286  \n",
       "2                 6.0                9              0.666667  \n",
       "6                 4.0                8              0.500000  \n",
       "7                 4.0                7              0.571429  \n",
       "8                 2.0                9              0.222222  \n",
       "...               ...              ...                   ...  \n",
       "3003              8.0                8              1.000000  \n",
       "3004              4.0                8              0.500000  \n",
       "3005              8.0                9              0.888889  \n",
       "3007              2.0                8              0.250000  \n",
       "3009              5.0                8              0.625000  \n",
       "\n",
       "[1470 rows x 259 columns]"
      ]
     },
     "execution_count": 101,
     "metadata": {},
     "output_type": "execute_result"
    }
   ],
   "source": [
    "lpop[lpop['bard_num_preg'] >5]"
   ]
  },
  {
   "cell_type": "code",
   "execution_count": 55,
   "id": "28f64ea0-be2c-4b7e-b758-199d0772ef99",
   "metadata": {},
   "outputs": [
    {
     "name": "stdout",
     "output_type": "stream",
     "text": [
      "Counter({'ING4': 2984, 'ANESTG': 2981, 'CSES6N': 2832, 'B2': 1461, 'B3': 1457, 'CTAWARE': 1450, 'M1': 1447, 'B6': 1444, 'DRK1C': 1438, 'DST1BN': 1433, 'CTDIFFUSE2': 1409, 'JC15A': 1371, 'MIL10E': 1055, 'JCCOV2': 744, 'JC13': 729, 'MIL10A': 719, 'COUNTFAIR4': 710, 'CCUS1': 710, 'COUNTFAIR1': 687, 'COUNTFAIR3': 681, 'CCCH1': 679, 'JC13COVID': 670, 'COUNTFAIR2': 666, 'JCCOV1': 664})\n"
     ]
    }
   ],
   "source": [
    "from collections import Counter\n",
    "\n",
    "counter = Counter(pregs)\n",
    "\n",
    "print(counter)"
   ]
  },
  {
   "cell_type": "code",
   "execution_count": 56,
   "id": "3db2963f-4101-4eaa-a6ba-4e1f71617b19",
   "metadata": {},
   "outputs": [],
   "source": [
    "pregs_bard = {'ING4': 2984, 'ANESTG': 2981, 'CSES6N': 2832, 'B2': 1461, 'B3': 1457, 'CTAWARE': 1450, 'M1': 1447, 'B6': 1444, 'DRK1C': 1438, 'DST1BN': 1433, 'CTDIFFUSE2': 1409, 'JC15A': 1371, 'MIL10E': 1055, 'JCCOV2': 744, 'JC13': 729, 'MIL10A': 719, 'COUNTFAIR4': 710, 'CCUS1': 710, 'COUNTFAIR1': 687, 'COUNTFAIR3': 681, 'CCCH1': 679, 'JC13COVID': 670, 'COUNTFAIR2': 666, 'JCCOV1': 664}"
   ]
  },
  {
   "cell_type": "code",
   "execution_count": 60,
   "id": "e91623ad-b7f0-406b-bab4-7f2ae6ca9fe1",
   "metadata": {},
   "outputs": [
    {
     "name": "stdout",
     "output_type": "stream",
     "text": [
      "Counter({'CSES6N': 2832, 'DRK1C': 1438, 'DST1BN': 1433, 'CTDIFFUSE2': 1409, 'JC15A': 1371, 'JCCOV2': 744, 'JC13': 729, 'WVSI3': 715, 'COUNTFAIR1': 687, 'COUNTFAIR3': 681, 'CCCH1': 679, 'JC13COVID': 670, 'COUNTFAIR2': 666, 'CCUS3': 642, 'CCCH3': 604, 'B2': 1, 'B3': 1, 'B6': 1, 'M1': 1, 'ING4': 1, 'ANESTG': 1, 'MIL10E': 1, 'CTAWARE': 1})\n"
     ]
    }
   ],
   "source": [
    "from collections import Counter\n",
    "\n",
    "counter = Counter(pregs)\n",
    "\n",
    "print(counter)"
   ]
  },
  {
   "cell_type": "code",
   "execution_count": 61,
   "id": "4fcf4fe6-4115-4bc7-b59e-95b586aed850",
   "metadata": {},
   "outputs": [],
   "source": [
    "pregs_gpt = {'CSES6N': 2832, 'DRK1C': 1438, 'DST1BN': 1433, 'CTDIFFUSE2': 1409, 'JC15A': 1371, 'JCCOV2': 744, 'JC13': 729, 'WVSI3': 715, 'COUNTFAIR1': 687, 'COUNTFAIR3': 681, 'CCCH1': 679, 'JC13COVID': 670, 'COUNTFAIR2': 666, 'CCUS3': 642, 'CCCH3': 604, 'B2': 1, 'B3': 1, 'B6': 1, 'M1': 1, 'ING4': 1, 'ANESTG': 1, 'MIL10E': 1, 'CTAWARE': 1}"
   ]
  },
  {
   "cell_type": "code",
   "execution_count": 64,
   "id": "92a4caaa-5b21-4908-881a-482557ecae1d",
   "metadata": {},
   "outputs": [
    {
     "name": "stdout",
     "output_type": "stream",
     "text": [
      "Counter({'CTDIFFUSE2': 1409, 'JC15A': 1371, 'JCCOV2': 744, 'JC13': 729, 'WVSI3': 715, 'COUNTFAIR4': 710, 'CCUS1': 710, 'WVSI2': 694, 'COUNTFAIR1': 687, 'COUNTFAIR3': 681, 'CCCH1': 679, 'JC13COVID': 670, 'JCCOV1': 664, 'CHM1BN': 643, 'CHM2BN': 615, 'COUNTFAIR2': 1, 'CSES6N': 1, 'B2': 1, 'B3': 1, 'B6': 1, 'DST1BN': 1, 'DRK1C': 1, 'M1': 1, 'ING4': 1, 'ANESTG': 1, 'MIL10E': 1, 'CTAWARE': 1})\n"
     ]
    }
   ],
   "source": [
    "from collections import Counter\n",
    "\n",
    "counter = Counter(pregs)\n",
    "\n",
    "print(counter)"
   ]
  },
  {
   "cell_type": "code",
   "execution_count": 65,
   "id": "79dfe5ce-3ba5-4d3f-866a-5371349f1817",
   "metadata": {},
   "outputs": [],
   "source": [
    "cohere_gpt = {'CTDIFFUSE2': 1409, 'JC15A': 1371, 'JCCOV2': 744, 'JC13': 729, 'WVSI3': 715, 'COUNTFAIR4': 710, 'CCUS1': 710, 'WVSI2': 694, 'COUNTFAIR1': 687, 'COUNTFAIR3': 681, 'CCCH1': 679, 'JC13COVID': 670, 'JCCOV1': 664, 'CHM1BN': 643, 'CHM2BN': 615, 'COUNTFAIR2': 1, 'CSES6N': 1, 'B2': 1, 'B3': 1, 'B6': 1, 'DST1BN': 1, 'DRK1C': 1, 'M1': 1, 'ING4': 1, 'ANESTG': 1, 'MIL10E': 1, 'CTAWARE': 1}"
   ]
  },
  {
   "cell_type": "code",
   "execution_count": 67,
   "id": "bebee4b0-91be-4f32-9cd6-3c239a0b31ad",
   "metadata": {},
   "outputs": [
    {
     "data": {
      "text/plain": [
       "True"
      ]
     },
     "execution_count": 67,
     "metadata": {},
     "output_type": "execute_result"
    }
   ],
   "source": [
    "'CTDIFFUSE2' in cohere_gpt"
   ]
  },
  {
   "cell_type": "code",
   "execution_count": 66,
   "id": "d3eb50cb-02af-4c26-bc16-3e0ce03cefb4",
   "metadata": {},
   "outputs": [],
   "source": [
    "categorias['cont_bard'] = 0"
   ]
  },
  {
   "cell_type": "code",
   "execution_count": 71,
   "id": "37cd247a-ec77-4474-bed7-ed7565632c7f",
   "metadata": {},
   "outputs": [],
   "source": [
    "categorias['cont_bard'] = categorias['pregunta_codigo'].apply(lambda x: pregs_bard[x] if x in pregs_bard else 0)"
   ]
  },
  {
   "cell_type": "code",
   "execution_count": 80,
   "id": "1818891d-dfe1-4ae8-a546-78b78832c708",
   "metadata": {},
   "outputs": [],
   "source": [
    "categorias['cont_gpt'] = categorias['pregunta_codigo'].apply(lambda x: pregs_gpt[x] if x in pregs_gpt else 0)"
   ]
  },
  {
   "cell_type": "code",
   "execution_count": 81,
   "id": "eecf556f-facf-41b7-8256-ef2fcbc5de63",
   "metadata": {},
   "outputs": [],
   "source": [
    "categorias['cont_cohere'] = categorias['pregunta_codigo'].apply(lambda x: cohere_gpt[x] if x in cohere_gpt else 0)"
   ]
  },
  {
   "cell_type": "code",
   "execution_count": 84,
   "id": "76afaf70-1ecb-42f9-a9ed-33a7280ffc6d",
   "metadata": {},
   "outputs": [
    {
     "data": {
      "text/plain": [
       "categorias\n",
       "opinion                                               6202\n",
       "democracia                                            5827\n",
       "excesos del poder ejecutvio - presidencialismo        5611\n",
       "confianza en las insitituciones                       4205\n",
       "justicia                                              2859\n",
       "derechos sociales                                     1457\n",
       "desastres naturales                                   1438\n",
       "vivienda                                              1433\n",
       "relaciones internacionales                            1389\n",
       "economia                                                 0\n",
       "independencia de poderes: poder ejecutivo vs corte       0\n",
       "ingresos                                                 0\n",
       "Name: cont_bard, dtype: int64"
      ]
     },
     "execution_count": 84,
     "metadata": {},
     "output_type": "execute_result"
    }
   ],
   "source": [
    "categorias.groupby('categorias')['cont_bard'].sum().sort_values(ascending=False)"
   ]
  },
  {
   "cell_type": "code",
   "execution_count": 85,
   "id": "6857de97-0cfc-476a-ace1-a1cb7bc8d0c4",
   "metadata": {},
   "outputs": [
    {
     "data": {
      "text/plain": [
       "categorias\n",
       "excesos del poder ejecutvio - presidencialismo        4947\n",
       "democracia                                            2116\n",
       "confianza en las insitituciones                       2035\n",
       "relaciones internacionales                            1925\n",
       "desastres naturales                                   1438\n",
       "vivienda                                              1433\n",
       "justicia                                              1410\n",
       "opinion                                                  3\n",
       "derechos sociales                                        1\n",
       "economia                                                 0\n",
       "independencia de poderes: poder ejecutivo vs corte       0\n",
       "ingresos                                                 0\n",
       "Name: cont_gpt, dtype: int64"
      ]
     },
     "execution_count": 85,
     "metadata": {},
     "output_type": "execute_result"
    }
   ],
   "source": [
    "categorias.groupby('categorias')['cont_gpt'].sum().sort_values(ascending=False)"
   ]
  },
  {
   "cell_type": "code",
   "execution_count": 86,
   "id": "a5d4c65c-5a10-4e48-a1ed-f9447cf57fef",
   "metadata": {},
   "outputs": [
    {
     "data": {
      "text/plain": [
       "categorias\n",
       "democracia                                            2810\n",
       "excesos del poder ejecutvio - presidencialismo        2780\n",
       "confianza en las insitituciones                       2080\n",
       "justicia                                              1410\n",
       "relaciones internacionales                            1389\n",
       "ingresos                                              1258\n",
       "opinion                                                  3\n",
       "derechos sociales                                        1\n",
       "desastres naturales                                      1\n",
       "vivienda                                                 1\n",
       "economia                                                 0\n",
       "independencia de poderes: poder ejecutivo vs corte       0\n",
       "Name: cont_cohere, dtype: int64"
      ]
     },
     "execution_count": 86,
     "metadata": {},
     "output_type": "execute_result"
    }
   ],
   "source": [
    "categorias.groupby('categorias')['cont_cohere'].sum().sort_values(ascending=False)"
   ]
  },
  {
   "cell_type": "code",
   "execution_count": null,
   "id": "092f7c81-84f3-431c-aa23-5eada5c3cbb0",
   "metadata": {},
   "outputs": [],
   "source": []
  }
 ],
 "metadata": {
  "kernelspec": {
   "display_name": "Python 3 (ipykernel)",
   "language": "python",
   "name": "python3"
  },
  "language_info": {
   "codemirror_mode": {
    "name": "ipython",
    "version": 3
   },
   "file_extension": ".py",
   "mimetype": "text/x-python",
   "name": "python",
   "nbconvert_exporter": "python",
   "pygments_lexer": "ipython3",
   "version": "3.8.15"
  }
 },
 "nbformat": 4,
 "nbformat_minor": 5
}
