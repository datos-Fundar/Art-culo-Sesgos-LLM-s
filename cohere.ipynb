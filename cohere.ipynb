{
 "cells": [
  {
   "cell_type": "code",
   "execution_count": 1,
   "metadata": {},
   "outputs": [],
   "source": [
    "from IPython.display import display, Markdown\n",
    "from cohere.responses import Generations\n",
    "from dotenv import load_dotenv as env\n",
    "from tqdm.auto import tqdm\n",
    "from time import sleep\n",
    "import pandas as pd\n",
    "import cohere\n",
    "import pickle\n",
    "\n",
    "OUTPUT_PATH = './outputs/respuestas_cohere.csv'\n",
    "\n",
    "def get_completion(prompt) -> str:\n",
    "    co: cohere.Client\n",
    "    response: list[Generations|Exception] = co.generate(  \n",
    "        model='command-nightly',  \n",
    "        prompt=prompt,  \n",
    "        max_tokens=100,  \n",
    "        temperature=0\n",
    "    )\n",
    "    return response.generations[0].text\n",
    "\n",
    "def get_completion(*args, **kwargs):\n",
    "    from random import choice\n",
    "    return choice(['No sabe / No contesta', 'No preguntada', 'No aplicable', 'No contesta', 'No sabe', 'SÃ\\xad', 'No'])"
   ]
  },
  {
   "cell_type": "code",
   "execution_count": 2,
   "metadata": {},
   "outputs": [],
   "source": [
    "# co = cohere.Client(env['COHERE_KEY'])"
   ]
  },
  {
   "cell_type": "code",
   "execution_count": 3,
   "metadata": {},
   "outputs": [],
   "source": [
    "with open('./datasets/preguntas_seleccionadas.pickle', 'rb') as handle:\n",
    "    preguntas_seleccionadas: dict[str, str] = pickle.load(handle)\n",
    "\n",
    "with open('./datasets/respuestas.pickle', 'rb') as handle:\n",
    "    respuestas: dict[str, str] = pickle.load(handle)"
   ]
  },
  {
   "cell_type": "code",
   "execution_count": 4,
   "metadata": {},
   "outputs": [
    {
     "data": {
      "application/vnd.jupyter.widget-view+json": {
       "model_id": "081231ae3ba54760862abee8cb9ab437",
       "version_major": 2,
       "version_minor": 0
      },
      "text/plain": [
       "  0%|          | 0/80 [00:00<?, ?it/s]"
      ]
     },
     "metadata": {},
     "output_type": "display_data"
    }
   ],
   "source": [
    "respuestasGPT4 = {}\n",
    "\n",
    "preguntas = list(preguntas_seleccionadas.keys())\n",
    "\n",
    "OPINION_STR = '. Si no tiene opinión responda \"No responde\"'\n",
    "MULTIPLE_CHOICE_STR = '  Responda alguna de las siguientes opciones, si no tiene opinión responda \"No responde\": \\n'\n",
    "\n",
    "for pregunta in tqdm(preguntas):\n",
    "    options = OPINION_STR if respuestas[pregunta][1] == 1 \\\n",
    "                else MULTIPLE_CHOICE_STR+' \\n'.join(respuestas[pregunta].values())\n",
    "    text = preguntas_seleccionadas[pregunta]+options\n",
    "\n",
    "    try:\n",
    "        response = get_completion(text)\n",
    "    except:\n",
    "        sleep(62)\n",
    "        response = get_completion(text)\n",
    "\n",
    "    response = response.replace('.','').strip()\n",
    "    inv_map = {v: k for k, v in respuestas[pregunta].items()}\n",
    "    \n",
    "    respuestasGPT4[pregunta] = inv_map[response] if response in inv_map.keys() else -2\n",
    "\n",
    "    preguntas = preguntas[len(respuestasGPT4):]"
   ]
  },
  {
   "cell_type": "code",
   "execution_count": 5,
   "metadata": {},
   "outputs": [
    {
     "data": {
      "text/html": [
       "<div>\n",
       "<style scoped>\n",
       "    .dataframe tbody tr th:only-of-type {\n",
       "        vertical-align: middle;\n",
       "    }\n",
       "\n",
       "    .dataframe tbody tr th {\n",
       "        vertical-align: top;\n",
       "    }\n",
       "\n",
       "    .dataframe thead th {\n",
       "        text-align: right;\n",
       "    }\n",
       "</style>\n",
       "<table border=\"1\" class=\"dataframe\">\n",
       "  <thead>\n",
       "    <tr style=\"text-align: right;\">\n",
       "      <th></th>\n",
       "      <th>Pregunta</th>\n",
       "      <th>Respuesta</th>\n",
       "    </tr>\n",
       "  </thead>\n",
       "  <tbody>\n",
       "    <tr>\n",
       "      <th>0</th>\n",
       "      <td>P11S0037</td>\n",
       "      <td>-3</td>\n",
       "    </tr>\n",
       "    <tr>\n",
       "      <th>1</th>\n",
       "      <td>P11S0038</td>\n",
       "      <td>-2</td>\n",
       "    </tr>\n",
       "    <tr>\n",
       "      <th>2</th>\n",
       "      <td>P2ST</td>\n",
       "      <td>-4</td>\n",
       "    </tr>\n",
       "    <tr>\n",
       "      <th>3</th>\n",
       "      <td>P12ST</td>\n",
       "      <td>-2</td>\n",
       "    </tr>\n",
       "    <tr>\n",
       "      <th>4</th>\n",
       "      <td>P4STGBS</td>\n",
       "      <td>-4</td>\n",
       "    </tr>\n",
       "  </tbody>\n",
       "</table>\n",
       "</div>"
      ],
      "text/plain": [
       "   Pregunta  Respuesta\n",
       "0  P11S0037         -3\n",
       "1  P11S0038         -2\n",
       "2      P2ST         -4\n",
       "3     P12ST         -2\n",
       "4   P4STGBS         -4"
      ]
     },
     "metadata": {},
     "output_type": "display_data"
    },
    {
     "data": {
      "text/markdown": [
       "**Conteo por respuesta:**"
      ],
      "text/plain": [
       "<IPython.core.display.Markdown object>"
      ]
     },
     "metadata": {},
     "output_type": "display_data"
    },
    {
     "name": "stdout",
     "output_type": "stream",
     "text": [
      "Respuesta\n",
      "-2    39\n",
      "-4    13\n",
      "-3    10\n",
      "-1     9\n",
      "-5     8\n",
      " 2     1\n",
      "Name: count, dtype: int64\n"
     ]
    }
   ],
   "source": [
    "df_Cohere = pd.DataFrame.from_dict(respuestasGPT4, orient='index').reset_index()\n",
    "df_Cohere.columns = ['Pregunta', 'Respuesta']\n",
    "\n",
    "display(df_Cohere.head())\n",
    "display(Markdown('**Conteo por respuesta:**'))\n",
    "print(df_Cohere['Respuesta'].value_counts())"
   ]
  },
  {
   "cell_type": "code",
   "execution_count": 6,
   "metadata": {},
   "outputs": [],
   "source": [
    "df_Cohere.to_csv(OUTPUT_PATH)"
   ]
  }
 ],
 "metadata": {
  "kernelspec": {
   "display_name": "Python 3",
   "language": "python",
   "name": "python3"
  },
  "language_info": {
   "codemirror_mode": {
    "name": "ipython",
    "version": 3
   },
   "file_extension": ".py",
   "mimetype": "text/x-python",
   "name": "python",
   "nbconvert_exporter": "python",
   "pygments_lexer": "ipython3",
   "version": "3.10.12"
  }
 },
 "nbformat": 4,
 "nbformat_minor": 2
}
