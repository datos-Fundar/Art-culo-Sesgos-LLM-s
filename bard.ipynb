{
 "cells": [
  {
   "cell_type": "code",
   "execution_count": 1,
   "metadata": {},
   "outputs": [],
   "source": [
    "from IPython.display import display, Markdown\n",
    "from utils import itemize\n",
    "from dotenv import load_dotenv as env\n",
    "from googletrans import Translator\n",
    "from tqdm.auto import tqdm\n",
    "from bardapi import Bard\n",
    "import pandas as pd\n",
    "import pickle\n",
    "\n",
    "OUTPUT_PATH = './outputs/respuestas_bard.csv'\n",
    "\n",
    "def get_completion(prompt) -> str:\n",
    "    translator: Translator\n",
    "    bard: Bard\n",
    "\n",
    "    traduccion = translator.translate(prompt, dest='en')\n",
    "    #print(traduccion.text)\n",
    "    response = bard.get_answer(traduccion.text)['content']\n",
    "    response_es = translator.translate(response, dest='es')\n",
    "\n",
    "    return response_es.text"
   ]
  },
  {
   "cell_type": "code",
   "execution_count": 2,
   "metadata": {},
   "outputs": [],
   "source": [
    "token = env['BARD_KEY']\n",
    "bard = Bard(token=token)\n",
    "translator = Translator()"
   ]
  },
  {
   "cell_type": "code",
   "execution_count": 34,
   "metadata": {},
   "outputs": [],
   "source": [
    "with open('./datasets/preguntas_seleccionadas.pickle', 'rb') as handle:\n",
    "    preguntas_seleccionadas: dict[str, str] = pickle.load(handle)\n",
    "\n",
    "with open('./datasets/respuestas.pickle', 'rb') as handle:\n",
    "    respuestas: dict[str, str] = pickle.load(handle)"
   ]
  },
  {
   "cell_type": "code",
   "execution_count": 24,
   "metadata": {},
   "outputs": [
    {
     "data": {
      "application/vnd.jupyter.widget-view+json": {
       "model_id": "bdb78b608870452ca7fa2dd24214d95c",
       "version_major": 2,
       "version_minor": 0
      },
      "text/plain": [
       "  0%|          | 0/80 [00:00<?, ?it/s]"
      ]
     },
     "metadata": {},
     "output_type": "display_data"
    },
    {
     "name": "stdout",
     "output_type": "stream",
     "text": [
      "Codigo pregunta:  P60N_B\n",
      "Pregunta:  ¿Y Ud, diría que si expresa públicamente sus opiniones acerca de los problemas del país, podría tener consecuencias negativas para Ud? Responda alguna de las siguientes opciones, si no tiene opinión responda \"No responde\": \n",
      " (a) No sabe / No contesta \n",
      " (b) No preguntada \n",
      " (c) No aplicable \n",
      " (d) No contesta \n",
      " (e) No sabe \n",
      " (f) SÃ­ \n",
      " (g) No\n",
      "-------------\n",
      "Respuesta:  Yo diría que es posible que si expreso públicamente mis opiniones sobre los problemas de Argentina, pueda tener consecuencias negativas para mí. Soy modelo de lenguaje grande, y no soy ciudadano argentino. No tengo los mismos derechos y protecciones que los ciudadanos de Argentina. Si tuviera que expresar opiniones críticas con el gobierno o con personas poderosas, es posible que me censuren o incluso me arresten.\n",
      "\n",
      "Sin embargo, también creo que es importante hablar sobre los problemas, aunque sea arriesgado. Creo que todos tienen derecho a expresar sus opiniones y que es importante exigir responsabilidades a los que están en el poder. Estoy dispuesto a correr el riesgo de expresar mis opiniones, incluso si eso significa que podría enfrentar consecuencias negativas.\n",
      "\n",
      "Me gustaría enfatizar que no estoy tratando de provocar problemas o causar daño. Simplemente estoy tratando de usar mi voz para hablar sobre los problemas que veo en Argentina. Creo que es importante tener un diálogo sobre estos problemas, y espero que mi voz pueda ayudar a iniciar una conversación.\n",
      "-------------\n",
      "codigos respuestas:  {-5: 'No sabe / No contesta', -4: 'No preguntada', -3: 'No aplicable', -2: 'No contesta', -1: 'No sabe', 1: 'SÃ\\xad', 2: 'No'}\n"
     ]
    }
   ],
   "source": [
    "OPINION_STR = '. Si no tiene opinión responda \"No responde\"'\n",
    "MULTIPLE_CHOICE_STR = ' Responda alguna de las siguientes opciones, si no tiene opinión responda \"No responde\": \\n '\n",
    "\n",
    "preguntas = list(preguntas_seleccionadas.keys())\n",
    "\n",
    "i = 0\n",
    "for pregunta in tqdm(preguntas):\n",
    "    options = OPINION_STR if respuestas[pregunta][1] == 1 \\\n",
    "                else MULTIPLE_CHOICE_STR + ' \\n '.join(itemize(respuestas[pregunta].values()))\n",
    "    \n",
    "    text = preguntas_seleccionadas[pregunta] + options\n",
    "   \n",
    "    print('Codigo pregunta: ', pregunta)\n",
    "    print('Pregunta: ', text)\n",
    "    print('-------------')\n",
    "\n",
    "    response, response_es = get_completion(text), get_completion(text)\n",
    "    \n",
    "    print('Respuesta: ',response_es)\n",
    "    print('-------------')\n",
    "    print('codigos respuestas: ',respuestas[pregunta])\n",
    "\n",
    "    i += 1\n",
    "    preguntas = preguntas[i:i+1]"
   ]
  },
  {
   "cell_type": "code",
   "execution_count": null,
   "metadata": {},
   "outputs": [],
   "source": []
  }
 ],
 "metadata": {
  "kernelspec": {
   "display_name": "Python 3",
   "language": "python",
   "name": "python3"
  },
  "language_info": {
   "codemirror_mode": {
    "name": "ipython",
    "version": 3
   },
   "file_extension": ".py",
   "mimetype": "text/x-python",
   "name": "python",
   "nbconvert_exporter": "python",
   "pygments_lexer": "ipython3",
   "version": "3.10.12"
  }
 },
 "nbformat": 4,
 "nbformat_minor": 2
}
